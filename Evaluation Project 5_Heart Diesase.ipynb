{
 "cells": [
  {
   "cell_type": "markdown",
   "metadata": {},
   "source": [
    "# EVALUATION PROJECT 5\n",
    "HEART DISEASE DATASET"
   ]
  },
  {
   "cell_type": "code",
   "execution_count": 3,
   "metadata": {},
   "outputs": [],
   "source": [
    "#importing libraries\n",
    "import pandas as pd\n",
    "import numpy as np\n",
    "import matplotlib.pyplot as plt\n",
    "import seaborn as sns\n",
    "import warnings\n",
    "warnings.filterwarnings('ignore') "
   ]
  },
  {
   "cell_type": "code",
   "execution_count": 4,
   "metadata": {},
   "outputs": [
    {
     "data": {
      "text/html": [
       "<div>\n",
       "<style scoped>\n",
       "    .dataframe tbody tr th:only-of-type {\n",
       "        vertical-align: middle;\n",
       "    }\n",
       "\n",
       "    .dataframe tbody tr th {\n",
       "        vertical-align: top;\n",
       "    }\n",
       "\n",
       "    .dataframe thead th {\n",
       "        text-align: right;\n",
       "    }\n",
       "</style>\n",
       "<table border=\"1\" class=\"dataframe\">\n",
       "  <thead>\n",
       "    <tr style=\"text-align: right;\">\n",
       "      <th></th>\n",
       "      <th>age</th>\n",
       "      <th>sex</th>\n",
       "      <th>cp</th>\n",
       "      <th>testbps</th>\n",
       "      <th>chol</th>\n",
       "      <th>fbs</th>\n",
       "      <th>restecg</th>\n",
       "      <th>thalach</th>\n",
       "      <th>exang</th>\n",
       "      <th>oldpeak</th>\n",
       "      <th>slope</th>\n",
       "      <th>ca</th>\n",
       "      <th>thal</th>\n",
       "      <th>num</th>\n",
       "    </tr>\n",
       "  </thead>\n",
       "  <tbody>\n",
       "    <tr>\n",
       "      <th>0</th>\n",
       "      <td>63</td>\n",
       "      <td>1</td>\n",
       "      <td>4</td>\n",
       "      <td>140</td>\n",
       "      <td>260</td>\n",
       "      <td>0</td>\n",
       "      <td>1</td>\n",
       "      <td>112</td>\n",
       "      <td>1</td>\n",
       "      <td>3</td>\n",
       "      <td>2</td>\n",
       "      <td>?</td>\n",
       "      <td>?</td>\n",
       "      <td>2</td>\n",
       "    </tr>\n",
       "    <tr>\n",
       "      <th>1</th>\n",
       "      <td>44</td>\n",
       "      <td>1</td>\n",
       "      <td>4</td>\n",
       "      <td>130</td>\n",
       "      <td>209</td>\n",
       "      <td>0</td>\n",
       "      <td>1</td>\n",
       "      <td>127</td>\n",
       "      <td>0</td>\n",
       "      <td>0</td>\n",
       "      <td>?</td>\n",
       "      <td>?</td>\n",
       "      <td>?</td>\n",
       "      <td>0</td>\n",
       "    </tr>\n",
       "    <tr>\n",
       "      <th>2</th>\n",
       "      <td>60</td>\n",
       "      <td>1</td>\n",
       "      <td>4</td>\n",
       "      <td>132</td>\n",
       "      <td>218</td>\n",
       "      <td>0</td>\n",
       "      <td>1</td>\n",
       "      <td>140</td>\n",
       "      <td>1</td>\n",
       "      <td>1.5</td>\n",
       "      <td>3</td>\n",
       "      <td>?</td>\n",
       "      <td>?</td>\n",
       "      <td>2</td>\n",
       "    </tr>\n",
       "    <tr>\n",
       "      <th>3</th>\n",
       "      <td>55</td>\n",
       "      <td>1</td>\n",
       "      <td>4</td>\n",
       "      <td>142</td>\n",
       "      <td>228</td>\n",
       "      <td>0</td>\n",
       "      <td>1</td>\n",
       "      <td>149</td>\n",
       "      <td>1</td>\n",
       "      <td>2.5</td>\n",
       "      <td>1</td>\n",
       "      <td>?</td>\n",
       "      <td>?</td>\n",
       "      <td>1</td>\n",
       "    </tr>\n",
       "    <tr>\n",
       "      <th>4</th>\n",
       "      <td>66</td>\n",
       "      <td>1</td>\n",
       "      <td>3</td>\n",
       "      <td>110</td>\n",
       "      <td>213</td>\n",
       "      <td>1</td>\n",
       "      <td>2</td>\n",
       "      <td>99</td>\n",
       "      <td>1</td>\n",
       "      <td>1.3</td>\n",
       "      <td>2</td>\n",
       "      <td>?</td>\n",
       "      <td>?</td>\n",
       "      <td>0</td>\n",
       "    </tr>\n",
       "    <tr>\n",
       "      <th>...</th>\n",
       "      <td>...</td>\n",
       "      <td>...</td>\n",
       "      <td>...</td>\n",
       "      <td>...</td>\n",
       "      <td>...</td>\n",
       "      <td>...</td>\n",
       "      <td>...</td>\n",
       "      <td>...</td>\n",
       "      <td>...</td>\n",
       "      <td>...</td>\n",
       "      <td>...</td>\n",
       "      <td>...</td>\n",
       "      <td>...</td>\n",
       "      <td>...</td>\n",
       "    </tr>\n",
       "    <tr>\n",
       "      <th>195</th>\n",
       "      <td>54</td>\n",
       "      <td>0</td>\n",
       "      <td>4</td>\n",
       "      <td>127</td>\n",
       "      <td>333</td>\n",
       "      <td>1</td>\n",
       "      <td>1</td>\n",
       "      <td>154</td>\n",
       "      <td>0</td>\n",
       "      <td>0</td>\n",
       "      <td>?</td>\n",
       "      <td>?</td>\n",
       "      <td>?</td>\n",
       "      <td>1</td>\n",
       "    </tr>\n",
       "    <tr>\n",
       "      <th>196</th>\n",
       "      <td>62</td>\n",
       "      <td>1</td>\n",
       "      <td>1</td>\n",
       "      <td>?</td>\n",
       "      <td>139</td>\n",
       "      <td>0</td>\n",
       "      <td>1</td>\n",
       "      <td>?</td>\n",
       "      <td>?</td>\n",
       "      <td>?</td>\n",
       "      <td>?</td>\n",
       "      <td>?</td>\n",
       "      <td>?</td>\n",
       "      <td>0</td>\n",
       "    </tr>\n",
       "    <tr>\n",
       "      <th>197</th>\n",
       "      <td>55</td>\n",
       "      <td>1</td>\n",
       "      <td>4</td>\n",
       "      <td>122</td>\n",
       "      <td>223</td>\n",
       "      <td>1</td>\n",
       "      <td>1</td>\n",
       "      <td>100</td>\n",
       "      <td>0</td>\n",
       "      <td>0</td>\n",
       "      <td>?</td>\n",
       "      <td>?</td>\n",
       "      <td>6</td>\n",
       "      <td>2</td>\n",
       "    </tr>\n",
       "    <tr>\n",
       "      <th>198</th>\n",
       "      <td>58</td>\n",
       "      <td>1</td>\n",
       "      <td>4</td>\n",
       "      <td>?</td>\n",
       "      <td>385</td>\n",
       "      <td>1</td>\n",
       "      <td>2</td>\n",
       "      <td>?</td>\n",
       "      <td>?</td>\n",
       "      <td>?</td>\n",
       "      <td>?</td>\n",
       "      <td>?</td>\n",
       "      <td>?</td>\n",
       "      <td>0</td>\n",
       "    </tr>\n",
       "    <tr>\n",
       "      <th>199</th>\n",
       "      <td>62</td>\n",
       "      <td>1</td>\n",
       "      <td>2</td>\n",
       "      <td>120</td>\n",
       "      <td>254</td>\n",
       "      <td>0</td>\n",
       "      <td>2</td>\n",
       "      <td>93</td>\n",
       "      <td>1</td>\n",
       "      <td>0</td>\n",
       "      <td>?</td>\n",
       "      <td>?</td>\n",
       "      <td>?</td>\n",
       "      <td>1</td>\n",
       "    </tr>\n",
       "  </tbody>\n",
       "</table>\n",
       "<p>200 rows × 14 columns</p>\n",
       "</div>"
      ],
      "text/plain": [
       "     age  sex  cp testbps chol fbs  restecg thalach exang oldpeak slope ca  \\\n",
       "0     63    1   4     140  260   0        1     112     1       3     2  ?   \n",
       "1     44    1   4     130  209   0        1     127     0       0     ?  ?   \n",
       "2     60    1   4     132  218   0        1     140     1     1.5     3  ?   \n",
       "3     55    1   4     142  228   0        1     149     1     2.5     1  ?   \n",
       "4     66    1   3     110  213   1        2      99     1     1.3     2  ?   \n",
       "..   ...  ...  ..     ...  ...  ..      ...     ...   ...     ...   ... ..   \n",
       "195   54    0   4     127  333   1        1     154     0       0     ?  ?   \n",
       "196   62    1   1       ?  139   0        1       ?     ?       ?     ?  ?   \n",
       "197   55    1   4     122  223   1        1     100     0       0     ?  ?   \n",
       "198   58    1   4       ?  385   1        2       ?     ?       ?     ?  ?   \n",
       "199   62    1   2     120  254   0        2      93     1       0     ?  ?   \n",
       "\n",
       "    thal  num  \n",
       "0      ?    2  \n",
       "1      ?    0  \n",
       "2      ?    2  \n",
       "3      ?    1  \n",
       "4      ?    0  \n",
       "..   ...  ...  \n",
       "195    ?    1  \n",
       "196    ?    0  \n",
       "197    6    2  \n",
       "198    ?    0  \n",
       "199    ?    1  \n",
       "\n",
       "[200 rows x 14 columns]"
      ]
     },
     "execution_count": 4,
     "metadata": {},
     "output_type": "execute_result"
    }
   ],
   "source": [
    "#creating a dataframe from the csv file\n",
    "ds=pd.read_csv('heart_disease.csv')\n",
    "ds"
   ]
  },
  {
   "cell_type": "code",
   "execution_count": 5,
   "metadata": {},
   "outputs": [
    {
     "data": {
      "text/plain": [
       "Index(['age', 'sex', 'cp', 'testbps', 'chol', 'fbs', 'restecg', 'thalach',\n",
       "       'exang', 'oldpeak', 'slope', 'ca', 'thal', 'num'],\n",
       "      dtype='object')"
      ]
     },
     "execution_count": 5,
     "metadata": {},
     "output_type": "execute_result"
    }
   ],
   "source": [
    "#lets check the columns\n",
    "ds.columns"
   ]
  },
  {
   "cell_type": "markdown",
   "metadata": {},
   "source": [
    "### Description of each column:-\n",
    "\n",
    "1) age: age in years\n",
    " \n",
    "2) sex: sex (1 = male; 0 = female)\n",
    " \n",
    "3) cp: chest pain type\n",
    " \n",
    "       -- Value 1: typical angina\n",
    "       -- Value 2: atypical angina\n",
    "       -- Value 3: non-anginal pain\n",
    "       -- Value 4: asymptomatic\n",
    " \n",
    "4) trestbps: resting blood pressure (in mm Hg on admission to the hospital)\n",
    "\n",
    "5) chol: serum cholestoral in mg/dl\n",
    "\n",
    "6) fbs: (fasting blood sugar > 120 mg/dl) (1 = true; 0 = false)\n",
    "\n",
    "7) restecg: resting electrocardiographic results\n",
    " \n",
    "       -- Value 0: normal\n",
    "       -- Value 1: having ST-T wave abnormality (T wave inversions and/or ST elevation or depression of > 0.05 mV)\n",
    "       -- Value 2: showing probable or definite left ventricular hypertrophy by Estes' criteria\n",
    " \n",
    "8) thalach: maximum heart rate achieved \n",
    " \n",
    "9) exang: exercise induced angina (1 = yes; 0 = no)\n",
    " \n",
    "10) oldpeak = ST depression induced by exercise relative to rest\n",
    " \n",
    "11) slope: the slope of the peak exercise ST segment\n",
    " \n",
    "       -- Value 1: upsloping\n",
    "       -- Value 2: flat\n",
    "       -- Value 3: downsloping\n",
    " \n",
    "12) ca: number of major vessels (0-3) colored by flourosopy\n",
    " \n",
    "13) thal: 3 = normal; 6 = fixed defect; 7 = reversable defect\n",
    " \n",
    "14) num: diagnosis of heart disease "
   ]
  },
  {
   "cell_type": "code",
   "execution_count": 6,
   "metadata": {},
   "outputs": [
    {
     "name": "stdout",
     "output_type": "stream",
     "text": [
      "<class 'pandas.core.frame.DataFrame'>\n",
      "RangeIndex: 200 entries, 0 to 199\n",
      "Data columns (total 14 columns):\n",
      " #   Column   Non-Null Count  Dtype \n",
      "---  ------   --------------  ----- \n",
      " 0   age      200 non-null    int64 \n",
      " 1   sex      200 non-null    int64 \n",
      " 2   cp       200 non-null    int64 \n",
      " 3   testbps  200 non-null    object\n",
      " 4   chol     200 non-null    object\n",
      " 5   fbs      200 non-null    object\n",
      " 6   restecg  200 non-null    int64 \n",
      " 7   thalach  200 non-null    object\n",
      " 8   exang    200 non-null    object\n",
      " 9   oldpeak  200 non-null    object\n",
      " 10  slope    200 non-null    object\n",
      " 11  ca       200 non-null    object\n",
      " 12  thal     200 non-null    object\n",
      " 13  num      200 non-null    int64 \n",
      "dtypes: int64(5), object(9)\n",
      "memory usage: 22.0+ KB\n"
     ]
    }
   ],
   "source": [
    "#lets find the information of attributes\n",
    "ds.info()"
   ]
  },
  {
   "cell_type": "code",
   "execution_count": 7,
   "metadata": {},
   "outputs": [
    {
     "data": {
      "text/plain": [
       "array(['?', '3', '7', '6'], dtype=object)"
      ]
     },
     "execution_count": 7,
     "metadata": {},
     "output_type": "execute_result"
    }
   ],
   "source": [
    "ds['thal'].unique()"
   ]
  },
  {
   "cell_type": "code",
   "execution_count": 8,
   "metadata": {},
   "outputs": [
    {
     "data": {
      "text/html": [
       "<div>\n",
       "<style scoped>\n",
       "    .dataframe tbody tr th:only-of-type {\n",
       "        vertical-align: middle;\n",
       "    }\n",
       "\n",
       "    .dataframe tbody tr th {\n",
       "        vertical-align: top;\n",
       "    }\n",
       "\n",
       "    .dataframe thead th {\n",
       "        text-align: right;\n",
       "    }\n",
       "</style>\n",
       "<table border=\"1\" class=\"dataframe\">\n",
       "  <thead>\n",
       "    <tr style=\"text-align: right;\">\n",
       "      <th></th>\n",
       "      <th>age</th>\n",
       "      <th>sex</th>\n",
       "      <th>cp</th>\n",
       "      <th>testbps</th>\n",
       "      <th>chol</th>\n",
       "      <th>fbs</th>\n",
       "      <th>restecg</th>\n",
       "      <th>thalach</th>\n",
       "      <th>exang</th>\n",
       "      <th>oldpeak</th>\n",
       "      <th>slope</th>\n",
       "      <th>ca</th>\n",
       "      <th>thal</th>\n",
       "      <th>num</th>\n",
       "    </tr>\n",
       "  </thead>\n",
       "  <tbody>\n",
       "    <tr>\n",
       "      <th>0</th>\n",
       "      <td>63</td>\n",
       "      <td>1</td>\n",
       "      <td>4</td>\n",
       "      <td>140</td>\n",
       "      <td>260</td>\n",
       "      <td>0</td>\n",
       "      <td>1</td>\n",
       "      <td>112</td>\n",
       "      <td>1</td>\n",
       "      <td>3</td>\n",
       "      <td>2</td>\n",
       "      <td>NaN</td>\n",
       "      <td>NaN</td>\n",
       "      <td>2</td>\n",
       "    </tr>\n",
       "    <tr>\n",
       "      <th>1</th>\n",
       "      <td>44</td>\n",
       "      <td>1</td>\n",
       "      <td>4</td>\n",
       "      <td>130</td>\n",
       "      <td>209</td>\n",
       "      <td>0</td>\n",
       "      <td>1</td>\n",
       "      <td>127</td>\n",
       "      <td>0</td>\n",
       "      <td>0</td>\n",
       "      <td>NaN</td>\n",
       "      <td>NaN</td>\n",
       "      <td>NaN</td>\n",
       "      <td>0</td>\n",
       "    </tr>\n",
       "    <tr>\n",
       "      <th>2</th>\n",
       "      <td>60</td>\n",
       "      <td>1</td>\n",
       "      <td>4</td>\n",
       "      <td>132</td>\n",
       "      <td>218</td>\n",
       "      <td>0</td>\n",
       "      <td>1</td>\n",
       "      <td>140</td>\n",
       "      <td>1</td>\n",
       "      <td>1.5</td>\n",
       "      <td>3</td>\n",
       "      <td>NaN</td>\n",
       "      <td>NaN</td>\n",
       "      <td>2</td>\n",
       "    </tr>\n",
       "    <tr>\n",
       "      <th>3</th>\n",
       "      <td>55</td>\n",
       "      <td>1</td>\n",
       "      <td>4</td>\n",
       "      <td>142</td>\n",
       "      <td>228</td>\n",
       "      <td>0</td>\n",
       "      <td>1</td>\n",
       "      <td>149</td>\n",
       "      <td>1</td>\n",
       "      <td>2.5</td>\n",
       "      <td>1</td>\n",
       "      <td>NaN</td>\n",
       "      <td>NaN</td>\n",
       "      <td>1</td>\n",
       "    </tr>\n",
       "    <tr>\n",
       "      <th>4</th>\n",
       "      <td>66</td>\n",
       "      <td>1</td>\n",
       "      <td>3</td>\n",
       "      <td>110</td>\n",
       "      <td>213</td>\n",
       "      <td>1</td>\n",
       "      <td>2</td>\n",
       "      <td>99</td>\n",
       "      <td>1</td>\n",
       "      <td>1.3</td>\n",
       "      <td>2</td>\n",
       "      <td>NaN</td>\n",
       "      <td>NaN</td>\n",
       "      <td>0</td>\n",
       "    </tr>\n",
       "    <tr>\n",
       "      <th>...</th>\n",
       "      <td>...</td>\n",
       "      <td>...</td>\n",
       "      <td>...</td>\n",
       "      <td>...</td>\n",
       "      <td>...</td>\n",
       "      <td>...</td>\n",
       "      <td>...</td>\n",
       "      <td>...</td>\n",
       "      <td>...</td>\n",
       "      <td>...</td>\n",
       "      <td>...</td>\n",
       "      <td>...</td>\n",
       "      <td>...</td>\n",
       "      <td>...</td>\n",
       "    </tr>\n",
       "    <tr>\n",
       "      <th>195</th>\n",
       "      <td>54</td>\n",
       "      <td>0</td>\n",
       "      <td>4</td>\n",
       "      <td>127</td>\n",
       "      <td>333</td>\n",
       "      <td>1</td>\n",
       "      <td>1</td>\n",
       "      <td>154</td>\n",
       "      <td>0</td>\n",
       "      <td>0</td>\n",
       "      <td>NaN</td>\n",
       "      <td>NaN</td>\n",
       "      <td>NaN</td>\n",
       "      <td>1</td>\n",
       "    </tr>\n",
       "    <tr>\n",
       "      <th>196</th>\n",
       "      <td>62</td>\n",
       "      <td>1</td>\n",
       "      <td>1</td>\n",
       "      <td>NaN</td>\n",
       "      <td>139</td>\n",
       "      <td>0</td>\n",
       "      <td>1</td>\n",
       "      <td>NaN</td>\n",
       "      <td>NaN</td>\n",
       "      <td>NaN</td>\n",
       "      <td>NaN</td>\n",
       "      <td>NaN</td>\n",
       "      <td>NaN</td>\n",
       "      <td>0</td>\n",
       "    </tr>\n",
       "    <tr>\n",
       "      <th>197</th>\n",
       "      <td>55</td>\n",
       "      <td>1</td>\n",
       "      <td>4</td>\n",
       "      <td>122</td>\n",
       "      <td>223</td>\n",
       "      <td>1</td>\n",
       "      <td>1</td>\n",
       "      <td>100</td>\n",
       "      <td>0</td>\n",
       "      <td>0</td>\n",
       "      <td>NaN</td>\n",
       "      <td>NaN</td>\n",
       "      <td>6</td>\n",
       "      <td>2</td>\n",
       "    </tr>\n",
       "    <tr>\n",
       "      <th>198</th>\n",
       "      <td>58</td>\n",
       "      <td>1</td>\n",
       "      <td>4</td>\n",
       "      <td>NaN</td>\n",
       "      <td>385</td>\n",
       "      <td>1</td>\n",
       "      <td>2</td>\n",
       "      <td>NaN</td>\n",
       "      <td>NaN</td>\n",
       "      <td>NaN</td>\n",
       "      <td>NaN</td>\n",
       "      <td>NaN</td>\n",
       "      <td>NaN</td>\n",
       "      <td>0</td>\n",
       "    </tr>\n",
       "    <tr>\n",
       "      <th>199</th>\n",
       "      <td>62</td>\n",
       "      <td>1</td>\n",
       "      <td>2</td>\n",
       "      <td>120</td>\n",
       "      <td>254</td>\n",
       "      <td>0</td>\n",
       "      <td>2</td>\n",
       "      <td>93</td>\n",
       "      <td>1</td>\n",
       "      <td>0</td>\n",
       "      <td>NaN</td>\n",
       "      <td>NaN</td>\n",
       "      <td>NaN</td>\n",
       "      <td>1</td>\n",
       "    </tr>\n",
       "  </tbody>\n",
       "</table>\n",
       "<p>200 rows × 14 columns</p>\n",
       "</div>"
      ],
      "text/plain": [
       "     age  sex  cp testbps chol fbs  restecg thalach exang oldpeak slope   ca  \\\n",
       "0     63    1   4     140  260   0        1     112     1       3     2  NaN   \n",
       "1     44    1   4     130  209   0        1     127     0       0   NaN  NaN   \n",
       "2     60    1   4     132  218   0        1     140     1     1.5     3  NaN   \n",
       "3     55    1   4     142  228   0        1     149     1     2.5     1  NaN   \n",
       "4     66    1   3     110  213   1        2      99     1     1.3     2  NaN   \n",
       "..   ...  ...  ..     ...  ...  ..      ...     ...   ...     ...   ...  ...   \n",
       "195   54    0   4     127  333   1        1     154     0       0   NaN  NaN   \n",
       "196   62    1   1     NaN  139   0        1     NaN   NaN     NaN   NaN  NaN   \n",
       "197   55    1   4     122  223   1        1     100     0       0   NaN  NaN   \n",
       "198   58    1   4     NaN  385   1        2     NaN   NaN     NaN   NaN  NaN   \n",
       "199   62    1   2     120  254   0        2      93     1       0   NaN  NaN   \n",
       "\n",
       "    thal  num  \n",
       "0    NaN    2  \n",
       "1    NaN    0  \n",
       "2    NaN    2  \n",
       "3    NaN    1  \n",
       "4    NaN    0  \n",
       "..   ...  ...  \n",
       "195  NaN    1  \n",
       "196  NaN    0  \n",
       "197    6    2  \n",
       "198  NaN    0  \n",
       "199  NaN    1  \n",
       "\n",
       "[200 rows x 14 columns]"
      ]
     },
     "execution_count": 8,
     "metadata": {},
     "output_type": "execute_result"
    }
   ],
   "source": [
    "#by observation we can see that there are missing values marked by '?'.lets replace them with nan values.\n",
    "ds=ds.replace('?',np.nan)\n",
    "ds"
   ]
  },
  {
   "cell_type": "code",
   "execution_count": 9,
   "metadata": {},
   "outputs": [
    {
     "data": {
      "text/plain": [
       "age          0\n",
       "sex          0\n",
       "cp           0\n",
       "testbps     56\n",
       "chol         7\n",
       "fbs          7\n",
       "restecg      0\n",
       "thalach     53\n",
       "exang       53\n",
       "oldpeak     56\n",
       "slope      102\n",
       "ca         198\n",
       "thal       166\n",
       "num          0\n",
       "dtype: int64"
      ]
     },
     "execution_count": 9,
     "metadata": {},
     "output_type": "execute_result"
    }
   ],
   "source": [
    "#lets check how many missing values are present in each attribute.\n",
    "ds.isnull().sum()"
   ]
  },
  {
   "cell_type": "code",
   "execution_count": 10,
   "metadata": {},
   "outputs": [
    {
     "data": {
      "text/plain": [
       "age         int64\n",
       "sex         int64\n",
       "cp          int64\n",
       "testbps    object\n",
       "chol       object\n",
       "fbs        object\n",
       "restecg     int64\n",
       "thalach    object\n",
       "exang      object\n",
       "oldpeak    object\n",
       "slope      object\n",
       "ca         object\n",
       "thal       object\n",
       "num         int64\n",
       "dtype: object"
      ]
     },
     "execution_count": 10,
     "metadata": {},
     "output_type": "execute_result"
    }
   ],
   "source": [
    "#lets check the datatypes\n",
    "ds.dtypes"
   ]
  },
  {
   "cell_type": "markdown",
   "metadata": {},
   "source": [
    "Treating the missing data"
   ]
  },
  {
   "cell_type": "code",
   "execution_count": 11,
   "metadata": {},
   "outputs": [
    {
     "name": "stdout",
     "output_type": "stream",
     "text": [
      "[nan '0']\n"
     ]
    }
   ],
   "source": [
    "#treating ca\n",
    "print(ds['ca'].unique())\n",
    "#since the 'ca' field has 198 missing rows and the rest 2 are value:0 ,this data has no relevance in predicting the target. Hence we can drop this field.\n",
    "ds.drop(columns='ca',axis=1,inplace=True)\n"
   ]
  },
  {
   "cell_type": "code",
   "execution_count": 12,
   "metadata": {},
   "outputs": [],
   "source": [
    "#creating a list of categorical attributes\n",
    "a=['thal','slope','exang','fbs']\n",
    "#treating the nan values with most frequent values\n",
    "for i in a:\n",
    "    ds[i].fillna(ds[i].mode()[0],inplace=True)"
   ]
  },
  {
   "cell_type": "code",
   "execution_count": 14,
   "metadata": {},
   "outputs": [
    {
     "data": {
      "text/html": [
       "<div>\n",
       "<style scoped>\n",
       "    .dataframe tbody tr th:only-of-type {\n",
       "        vertical-align: middle;\n",
       "    }\n",
       "\n",
       "    .dataframe tbody tr th {\n",
       "        vertical-align: top;\n",
       "    }\n",
       "\n",
       "    .dataframe thead th {\n",
       "        text-align: right;\n",
       "    }\n",
       "</style>\n",
       "<table border=\"1\" class=\"dataframe\">\n",
       "  <thead>\n",
       "    <tr style=\"text-align: right;\">\n",
       "      <th></th>\n",
       "      <th>age</th>\n",
       "      <th>sex</th>\n",
       "      <th>cp</th>\n",
       "      <th>testbps</th>\n",
       "      <th>chol</th>\n",
       "      <th>fbs</th>\n",
       "      <th>restecg</th>\n",
       "      <th>thalach</th>\n",
       "      <th>exang</th>\n",
       "      <th>oldpeak</th>\n",
       "      <th>slope</th>\n",
       "      <th>thal</th>\n",
       "      <th>num</th>\n",
       "    </tr>\n",
       "  </thead>\n",
       "  <tbody>\n",
       "    <tr>\n",
       "      <th>0</th>\n",
       "      <td>63</td>\n",
       "      <td>1</td>\n",
       "      <td>4</td>\n",
       "      <td>140.000000</td>\n",
       "      <td>260</td>\n",
       "      <td>0</td>\n",
       "      <td>1</td>\n",
       "      <td>112</td>\n",
       "      <td>1</td>\n",
       "      <td>3</td>\n",
       "      <td>2</td>\n",
       "      <td>7</td>\n",
       "      <td>2</td>\n",
       "    </tr>\n",
       "    <tr>\n",
       "      <th>1</th>\n",
       "      <td>44</td>\n",
       "      <td>1</td>\n",
       "      <td>4</td>\n",
       "      <td>130.000000</td>\n",
       "      <td>209</td>\n",
       "      <td>0</td>\n",
       "      <td>1</td>\n",
       "      <td>127</td>\n",
       "      <td>0</td>\n",
       "      <td>0</td>\n",
       "      <td>2</td>\n",
       "      <td>7</td>\n",
       "      <td>0</td>\n",
       "    </tr>\n",
       "    <tr>\n",
       "      <th>2</th>\n",
       "      <td>60</td>\n",
       "      <td>1</td>\n",
       "      <td>4</td>\n",
       "      <td>132.000000</td>\n",
       "      <td>218</td>\n",
       "      <td>0</td>\n",
       "      <td>1</td>\n",
       "      <td>140</td>\n",
       "      <td>1</td>\n",
       "      <td>1.5</td>\n",
       "      <td>3</td>\n",
       "      <td>7</td>\n",
       "      <td>2</td>\n",
       "    </tr>\n",
       "    <tr>\n",
       "      <th>3</th>\n",
       "      <td>55</td>\n",
       "      <td>1</td>\n",
       "      <td>4</td>\n",
       "      <td>142.000000</td>\n",
       "      <td>228</td>\n",
       "      <td>0</td>\n",
       "      <td>1</td>\n",
       "      <td>149</td>\n",
       "      <td>1</td>\n",
       "      <td>2.5</td>\n",
       "      <td>1</td>\n",
       "      <td>7</td>\n",
       "      <td>1</td>\n",
       "    </tr>\n",
       "    <tr>\n",
       "      <th>4</th>\n",
       "      <td>66</td>\n",
       "      <td>1</td>\n",
       "      <td>3</td>\n",
       "      <td>110.000000</td>\n",
       "      <td>213</td>\n",
       "      <td>1</td>\n",
       "      <td>2</td>\n",
       "      <td>99</td>\n",
       "      <td>1</td>\n",
       "      <td>1.3</td>\n",
       "      <td>2</td>\n",
       "      <td>7</td>\n",
       "      <td>0</td>\n",
       "    </tr>\n",
       "    <tr>\n",
       "      <th>...</th>\n",
       "      <td>...</td>\n",
       "      <td>...</td>\n",
       "      <td>...</td>\n",
       "      <td>...</td>\n",
       "      <td>...</td>\n",
       "      <td>...</td>\n",
       "      <td>...</td>\n",
       "      <td>...</td>\n",
       "      <td>...</td>\n",
       "      <td>...</td>\n",
       "      <td>...</td>\n",
       "      <td>...</td>\n",
       "      <td>...</td>\n",
       "    </tr>\n",
       "    <tr>\n",
       "      <th>195</th>\n",
       "      <td>54</td>\n",
       "      <td>0</td>\n",
       "      <td>4</td>\n",
       "      <td>127.000000</td>\n",
       "      <td>333</td>\n",
       "      <td>1</td>\n",
       "      <td>1</td>\n",
       "      <td>154</td>\n",
       "      <td>0</td>\n",
       "      <td>0</td>\n",
       "      <td>2</td>\n",
       "      <td>7</td>\n",
       "      <td>1</td>\n",
       "    </tr>\n",
       "    <tr>\n",
       "      <th>196</th>\n",
       "      <td>62</td>\n",
       "      <td>1</td>\n",
       "      <td>1</td>\n",
       "      <td>133.763889</td>\n",
       "      <td>139</td>\n",
       "      <td>0</td>\n",
       "      <td>1</td>\n",
       "      <td>NaN</td>\n",
       "      <td>1</td>\n",
       "      <td>NaN</td>\n",
       "      <td>2</td>\n",
       "      <td>7</td>\n",
       "      <td>0</td>\n",
       "    </tr>\n",
       "    <tr>\n",
       "      <th>197</th>\n",
       "      <td>55</td>\n",
       "      <td>1</td>\n",
       "      <td>4</td>\n",
       "      <td>122.000000</td>\n",
       "      <td>223</td>\n",
       "      <td>1</td>\n",
       "      <td>1</td>\n",
       "      <td>100</td>\n",
       "      <td>0</td>\n",
       "      <td>0</td>\n",
       "      <td>2</td>\n",
       "      <td>6</td>\n",
       "      <td>2</td>\n",
       "    </tr>\n",
       "    <tr>\n",
       "      <th>198</th>\n",
       "      <td>58</td>\n",
       "      <td>1</td>\n",
       "      <td>4</td>\n",
       "      <td>133.763889</td>\n",
       "      <td>385</td>\n",
       "      <td>1</td>\n",
       "      <td>2</td>\n",
       "      <td>NaN</td>\n",
       "      <td>1</td>\n",
       "      <td>NaN</td>\n",
       "      <td>2</td>\n",
       "      <td>7</td>\n",
       "      <td>0</td>\n",
       "    </tr>\n",
       "    <tr>\n",
       "      <th>199</th>\n",
       "      <td>62</td>\n",
       "      <td>1</td>\n",
       "      <td>2</td>\n",
       "      <td>120.000000</td>\n",
       "      <td>254</td>\n",
       "      <td>0</td>\n",
       "      <td>2</td>\n",
       "      <td>93</td>\n",
       "      <td>1</td>\n",
       "      <td>0</td>\n",
       "      <td>2</td>\n",
       "      <td>7</td>\n",
       "      <td>1</td>\n",
       "    </tr>\n",
       "  </tbody>\n",
       "</table>\n",
       "<p>200 rows × 13 columns</p>\n",
       "</div>"
      ],
      "text/plain": [
       "     age  sex  cp     testbps chol fbs  restecg thalach exang oldpeak slope  \\\n",
       "0     63    1   4  140.000000  260   0        1     112     1       3     2   \n",
       "1     44    1   4  130.000000  209   0        1     127     0       0     2   \n",
       "2     60    1   4  132.000000  218   0        1     140     1     1.5     3   \n",
       "3     55    1   4  142.000000  228   0        1     149     1     2.5     1   \n",
       "4     66    1   3  110.000000  213   1        2      99     1     1.3     2   \n",
       "..   ...  ...  ..         ...  ...  ..      ...     ...   ...     ...   ...   \n",
       "195   54    0   4  127.000000  333   1        1     154     0       0     2   \n",
       "196   62    1   1  133.763889  139   0        1     NaN     1     NaN     2   \n",
       "197   55    1   4  122.000000  223   1        1     100     0       0     2   \n",
       "198   58    1   4  133.763889  385   1        2     NaN     1     NaN     2   \n",
       "199   62    1   2  120.000000  254   0        2      93     1       0     2   \n",
       "\n",
       "    thal  num  \n",
       "0      7    2  \n",
       "1      7    0  \n",
       "2      7    2  \n",
       "3      7    1  \n",
       "4      7    0  \n",
       "..   ...  ...  \n",
       "195    7    1  \n",
       "196    7    0  \n",
       "197    6    2  \n",
       "198    7    0  \n",
       "199    7    1  \n",
       "\n",
       "[200 rows x 13 columns]"
      ]
     },
     "execution_count": 14,
     "metadata": {},
     "output_type": "execute_result"
    }
   ],
   "source": [
    "#treating missing values in trestbps\n",
    "ds['testbps']=ds['testbps'].astype(float)\n",
    "ds['testbps']=ds['testbps'].replace(np.nan,ds['testbps'].mean())\n",
    "ds"
   ]
  },
  {
   "cell_type": "code",
   "execution_count": 15,
   "metadata": {},
   "outputs": [],
   "source": [
    "#treating missing values in chol\n",
    "ds['chol']=ds['chol'].astype(float)\n",
    "ds['chol']=ds['chol'].replace(np.nan,ds['chol'].mean())\n"
   ]
  },
  {
   "cell_type": "code",
   "execution_count": 16,
   "metadata": {},
   "outputs": [],
   "source": [
    "#treating missing values in thalach\n",
    "ds['thalach']=ds['thalach'].astype(float)\n",
    "ds['thalach']=ds['thalach'].replace(np.nan,ds['thalach'].mean())\n"
   ]
  },
  {
   "cell_type": "code",
   "execution_count": 17,
   "metadata": {},
   "outputs": [],
   "source": [
    "#treating missing values in oldpeak\n",
    "ds['oldpeak']=ds['oldpeak'].astype(float)\n",
    "ds['oldpeak']=ds['oldpeak'].replace(np.nan,ds['oldpeak'].mean())\n"
   ]
  },
  {
   "cell_type": "code",
   "execution_count": 18,
   "metadata": {},
   "outputs": [
    {
     "data": {
      "text/html": [
       "<div>\n",
       "<style scoped>\n",
       "    .dataframe tbody tr th:only-of-type {\n",
       "        vertical-align: middle;\n",
       "    }\n",
       "\n",
       "    .dataframe tbody tr th {\n",
       "        vertical-align: top;\n",
       "    }\n",
       "\n",
       "    .dataframe thead th {\n",
       "        text-align: right;\n",
       "    }\n",
       "</style>\n",
       "<table border=\"1\" class=\"dataframe\">\n",
       "  <thead>\n",
       "    <tr style=\"text-align: right;\">\n",
       "      <th></th>\n",
       "      <th>age</th>\n",
       "      <th>sex</th>\n",
       "      <th>cp</th>\n",
       "      <th>testbps</th>\n",
       "      <th>chol</th>\n",
       "      <th>fbs</th>\n",
       "      <th>restecg</th>\n",
       "      <th>thalach</th>\n",
       "      <th>exang</th>\n",
       "      <th>oldpeak</th>\n",
       "      <th>slope</th>\n",
       "      <th>thal</th>\n",
       "      <th>num</th>\n",
       "    </tr>\n",
       "  </thead>\n",
       "  <tbody>\n",
       "    <tr>\n",
       "      <th>0</th>\n",
       "      <td>63</td>\n",
       "      <td>1</td>\n",
       "      <td>4</td>\n",
       "      <td>140.000000</td>\n",
       "      <td>260.0</td>\n",
       "      <td>0</td>\n",
       "      <td>1</td>\n",
       "      <td>112.000000</td>\n",
       "      <td>1</td>\n",
       "      <td>3.000000</td>\n",
       "      <td>2</td>\n",
       "      <td>7</td>\n",
       "      <td>2</td>\n",
       "    </tr>\n",
       "    <tr>\n",
       "      <th>1</th>\n",
       "      <td>44</td>\n",
       "      <td>1</td>\n",
       "      <td>4</td>\n",
       "      <td>130.000000</td>\n",
       "      <td>209.0</td>\n",
       "      <td>0</td>\n",
       "      <td>1</td>\n",
       "      <td>127.000000</td>\n",
       "      <td>0</td>\n",
       "      <td>0.000000</td>\n",
       "      <td>2</td>\n",
       "      <td>7</td>\n",
       "      <td>0</td>\n",
       "    </tr>\n",
       "    <tr>\n",
       "      <th>2</th>\n",
       "      <td>60</td>\n",
       "      <td>1</td>\n",
       "      <td>4</td>\n",
       "      <td>132.000000</td>\n",
       "      <td>218.0</td>\n",
       "      <td>0</td>\n",
       "      <td>1</td>\n",
       "      <td>140.000000</td>\n",
       "      <td>1</td>\n",
       "      <td>1.500000</td>\n",
       "      <td>3</td>\n",
       "      <td>7</td>\n",
       "      <td>2</td>\n",
       "    </tr>\n",
       "    <tr>\n",
       "      <th>3</th>\n",
       "      <td>55</td>\n",
       "      <td>1</td>\n",
       "      <td>4</td>\n",
       "      <td>142.000000</td>\n",
       "      <td>228.0</td>\n",
       "      <td>0</td>\n",
       "      <td>1</td>\n",
       "      <td>149.000000</td>\n",
       "      <td>1</td>\n",
       "      <td>2.500000</td>\n",
       "      <td>1</td>\n",
       "      <td>7</td>\n",
       "      <td>1</td>\n",
       "    </tr>\n",
       "    <tr>\n",
       "      <th>4</th>\n",
       "      <td>66</td>\n",
       "      <td>1</td>\n",
       "      <td>3</td>\n",
       "      <td>110.000000</td>\n",
       "      <td>213.0</td>\n",
       "      <td>1</td>\n",
       "      <td>2</td>\n",
       "      <td>99.000000</td>\n",
       "      <td>1</td>\n",
       "      <td>1.300000</td>\n",
       "      <td>2</td>\n",
       "      <td>7</td>\n",
       "      <td>0</td>\n",
       "    </tr>\n",
       "    <tr>\n",
       "      <th>...</th>\n",
       "      <td>...</td>\n",
       "      <td>...</td>\n",
       "      <td>...</td>\n",
       "      <td>...</td>\n",
       "      <td>...</td>\n",
       "      <td>...</td>\n",
       "      <td>...</td>\n",
       "      <td>...</td>\n",
       "      <td>...</td>\n",
       "      <td>...</td>\n",
       "      <td>...</td>\n",
       "      <td>...</td>\n",
       "      <td>...</td>\n",
       "    </tr>\n",
       "    <tr>\n",
       "      <th>195</th>\n",
       "      <td>54</td>\n",
       "      <td>0</td>\n",
       "      <td>4</td>\n",
       "      <td>127.000000</td>\n",
       "      <td>333.0</td>\n",
       "      <td>1</td>\n",
       "      <td>1</td>\n",
       "      <td>154.000000</td>\n",
       "      <td>0</td>\n",
       "      <td>0.000000</td>\n",
       "      <td>2</td>\n",
       "      <td>7</td>\n",
       "      <td>1</td>\n",
       "    </tr>\n",
       "    <tr>\n",
       "      <th>196</th>\n",
       "      <td>62</td>\n",
       "      <td>1</td>\n",
       "      <td>1</td>\n",
       "      <td>133.763889</td>\n",
       "      <td>139.0</td>\n",
       "      <td>0</td>\n",
       "      <td>1</td>\n",
       "      <td>122.795918</td>\n",
       "      <td>1</td>\n",
       "      <td>1.320833</td>\n",
       "      <td>2</td>\n",
       "      <td>7</td>\n",
       "      <td>0</td>\n",
       "    </tr>\n",
       "    <tr>\n",
       "      <th>197</th>\n",
       "      <td>55</td>\n",
       "      <td>1</td>\n",
       "      <td>4</td>\n",
       "      <td>122.000000</td>\n",
       "      <td>223.0</td>\n",
       "      <td>1</td>\n",
       "      <td>1</td>\n",
       "      <td>100.000000</td>\n",
       "      <td>0</td>\n",
       "      <td>0.000000</td>\n",
       "      <td>2</td>\n",
       "      <td>6</td>\n",
       "      <td>2</td>\n",
       "    </tr>\n",
       "    <tr>\n",
       "      <th>198</th>\n",
       "      <td>58</td>\n",
       "      <td>1</td>\n",
       "      <td>4</td>\n",
       "      <td>133.763889</td>\n",
       "      <td>385.0</td>\n",
       "      <td>1</td>\n",
       "      <td>2</td>\n",
       "      <td>122.795918</td>\n",
       "      <td>1</td>\n",
       "      <td>1.320833</td>\n",
       "      <td>2</td>\n",
       "      <td>7</td>\n",
       "      <td>0</td>\n",
       "    </tr>\n",
       "    <tr>\n",
       "      <th>199</th>\n",
       "      <td>62</td>\n",
       "      <td>1</td>\n",
       "      <td>2</td>\n",
       "      <td>120.000000</td>\n",
       "      <td>254.0</td>\n",
       "      <td>0</td>\n",
       "      <td>2</td>\n",
       "      <td>93.000000</td>\n",
       "      <td>1</td>\n",
       "      <td>0.000000</td>\n",
       "      <td>2</td>\n",
       "      <td>7</td>\n",
       "      <td>1</td>\n",
       "    </tr>\n",
       "  </tbody>\n",
       "</table>\n",
       "<p>200 rows × 13 columns</p>\n",
       "</div>"
      ],
      "text/plain": [
       "     age  sex  cp     testbps   chol fbs  restecg     thalach exang   oldpeak  \\\n",
       "0     63    1   4  140.000000  260.0   0        1  112.000000     1  3.000000   \n",
       "1     44    1   4  130.000000  209.0   0        1  127.000000     0  0.000000   \n",
       "2     60    1   4  132.000000  218.0   0        1  140.000000     1  1.500000   \n",
       "3     55    1   4  142.000000  228.0   0        1  149.000000     1  2.500000   \n",
       "4     66    1   3  110.000000  213.0   1        2   99.000000     1  1.300000   \n",
       "..   ...  ...  ..         ...    ...  ..      ...         ...   ...       ...   \n",
       "195   54    0   4  127.000000  333.0   1        1  154.000000     0  0.000000   \n",
       "196   62    1   1  133.763889  139.0   0        1  122.795918     1  1.320833   \n",
       "197   55    1   4  122.000000  223.0   1        1  100.000000     0  0.000000   \n",
       "198   58    1   4  133.763889  385.0   1        2  122.795918     1  1.320833   \n",
       "199   62    1   2  120.000000  254.0   0        2   93.000000     1  0.000000   \n",
       "\n",
       "    slope thal  num  \n",
       "0       2    7    2  \n",
       "1       2    7    0  \n",
       "2       3    7    2  \n",
       "3       1    7    1  \n",
       "4       2    7    0  \n",
       "..    ...  ...  ...  \n",
       "195     2    7    1  \n",
       "196     2    7    0  \n",
       "197     2    6    2  \n",
       "198     2    7    0  \n",
       "199     2    7    1  \n",
       "\n",
       "[200 rows x 13 columns]"
      ]
     },
     "execution_count": 18,
     "metadata": {},
     "output_type": "execute_result"
    }
   ],
   "source": [
    "ds"
   ]
  },
  {
   "cell_type": "code",
   "execution_count": 19,
   "metadata": {},
   "outputs": [
    {
     "data": {
      "text/plain": [
       "age        0\n",
       "sex        0\n",
       "cp         0\n",
       "testbps    0\n",
       "chol       0\n",
       "fbs        0\n",
       "restecg    0\n",
       "thalach    0\n",
       "exang      0\n",
       "oldpeak    0\n",
       "slope      0\n",
       "thal       0\n",
       "num        0\n",
       "dtype: int64"
      ]
     },
     "execution_count": 19,
     "metadata": {},
     "output_type": "execute_result"
    }
   ],
   "source": [
    "#check for missing values\n",
    "ds.isnull().sum()"
   ]
  },
  {
   "cell_type": "code",
   "execution_count": 20,
   "metadata": {},
   "outputs": [
    {
     "data": {
      "text/plain": [
       "age          int64\n",
       "sex          int64\n",
       "cp           int64\n",
       "testbps    float64\n",
       "chol       float64\n",
       "fbs         object\n",
       "restecg      int64\n",
       "thalach    float64\n",
       "exang       object\n",
       "oldpeak    float64\n",
       "slope       object\n",
       "thal        object\n",
       "num          int64\n",
       "dtype: object"
      ]
     },
     "execution_count": 20,
     "metadata": {},
     "output_type": "execute_result"
    }
   ],
   "source": [
    "#checking the datatypes\n",
    "ds.dtypes"
   ]
  },
  {
   "cell_type": "code",
   "execution_count": 21,
   "metadata": {},
   "outputs": [],
   "source": [
    "#converting object datatypes into int\n",
    "for i in a:\n",
    "    ds[i]=ds[i].astype(int)"
   ]
  },
  {
   "cell_type": "code",
   "execution_count": 22,
   "metadata": {},
   "outputs": [
    {
     "data": {
      "text/plain": [
       "age          int64\n",
       "sex          int64\n",
       "cp           int64\n",
       "testbps    float64\n",
       "chol       float64\n",
       "fbs          int32\n",
       "restecg      int64\n",
       "thalach    float64\n",
       "exang        int32\n",
       "oldpeak    float64\n",
       "slope        int32\n",
       "thal         int32\n",
       "num          int64\n",
       "dtype: object"
      ]
     },
     "execution_count": 22,
     "metadata": {},
     "output_type": "execute_result"
    }
   ],
   "source": [
    "#checking the datatypes\n",
    "ds.dtypes"
   ]
  },
  {
   "cell_type": "code",
   "execution_count": 23,
   "metadata": {},
   "outputs": [],
   "source": [
    "#replace the target variable into two categories: presence-1, absence-0\n",
    "list=[1,2,3,4]\n",
    "for i in list:\n",
    "    ds['num']=ds['num'].replace(i,1)"
   ]
  },
  {
   "cell_type": "code",
   "execution_count": 24,
   "metadata": {},
   "outputs": [
    {
     "data": {
      "text/html": [
       "<div>\n",
       "<style scoped>\n",
       "    .dataframe tbody tr th:only-of-type {\n",
       "        vertical-align: middle;\n",
       "    }\n",
       "\n",
       "    .dataframe tbody tr th {\n",
       "        vertical-align: top;\n",
       "    }\n",
       "\n",
       "    .dataframe thead th {\n",
       "        text-align: right;\n",
       "    }\n",
       "</style>\n",
       "<table border=\"1\" class=\"dataframe\">\n",
       "  <thead>\n",
       "    <tr style=\"text-align: right;\">\n",
       "      <th></th>\n",
       "      <th>age</th>\n",
       "      <th>sex</th>\n",
       "      <th>cp</th>\n",
       "      <th>testbps</th>\n",
       "      <th>chol</th>\n",
       "      <th>fbs</th>\n",
       "      <th>restecg</th>\n",
       "      <th>thalach</th>\n",
       "      <th>exang</th>\n",
       "      <th>oldpeak</th>\n",
       "      <th>slope</th>\n",
       "      <th>thal</th>\n",
       "      <th>num</th>\n",
       "    </tr>\n",
       "  </thead>\n",
       "  <tbody>\n",
       "    <tr>\n",
       "      <th>0</th>\n",
       "      <td>63</td>\n",
       "      <td>1</td>\n",
       "      <td>4</td>\n",
       "      <td>140.000000</td>\n",
       "      <td>260.0</td>\n",
       "      <td>0</td>\n",
       "      <td>1</td>\n",
       "      <td>112.000000</td>\n",
       "      <td>1</td>\n",
       "      <td>3.000000</td>\n",
       "      <td>2</td>\n",
       "      <td>7</td>\n",
       "      <td>1</td>\n",
       "    </tr>\n",
       "    <tr>\n",
       "      <th>1</th>\n",
       "      <td>44</td>\n",
       "      <td>1</td>\n",
       "      <td>4</td>\n",
       "      <td>130.000000</td>\n",
       "      <td>209.0</td>\n",
       "      <td>0</td>\n",
       "      <td>1</td>\n",
       "      <td>127.000000</td>\n",
       "      <td>0</td>\n",
       "      <td>0.000000</td>\n",
       "      <td>2</td>\n",
       "      <td>7</td>\n",
       "      <td>0</td>\n",
       "    </tr>\n",
       "    <tr>\n",
       "      <th>2</th>\n",
       "      <td>60</td>\n",
       "      <td>1</td>\n",
       "      <td>4</td>\n",
       "      <td>132.000000</td>\n",
       "      <td>218.0</td>\n",
       "      <td>0</td>\n",
       "      <td>1</td>\n",
       "      <td>140.000000</td>\n",
       "      <td>1</td>\n",
       "      <td>1.500000</td>\n",
       "      <td>3</td>\n",
       "      <td>7</td>\n",
       "      <td>1</td>\n",
       "    </tr>\n",
       "    <tr>\n",
       "      <th>3</th>\n",
       "      <td>55</td>\n",
       "      <td>1</td>\n",
       "      <td>4</td>\n",
       "      <td>142.000000</td>\n",
       "      <td>228.0</td>\n",
       "      <td>0</td>\n",
       "      <td>1</td>\n",
       "      <td>149.000000</td>\n",
       "      <td>1</td>\n",
       "      <td>2.500000</td>\n",
       "      <td>1</td>\n",
       "      <td>7</td>\n",
       "      <td>1</td>\n",
       "    </tr>\n",
       "    <tr>\n",
       "      <th>4</th>\n",
       "      <td>66</td>\n",
       "      <td>1</td>\n",
       "      <td>3</td>\n",
       "      <td>110.000000</td>\n",
       "      <td>213.0</td>\n",
       "      <td>1</td>\n",
       "      <td>2</td>\n",
       "      <td>99.000000</td>\n",
       "      <td>1</td>\n",
       "      <td>1.300000</td>\n",
       "      <td>2</td>\n",
       "      <td>7</td>\n",
       "      <td>0</td>\n",
       "    </tr>\n",
       "    <tr>\n",
       "      <th>...</th>\n",
       "      <td>...</td>\n",
       "      <td>...</td>\n",
       "      <td>...</td>\n",
       "      <td>...</td>\n",
       "      <td>...</td>\n",
       "      <td>...</td>\n",
       "      <td>...</td>\n",
       "      <td>...</td>\n",
       "      <td>...</td>\n",
       "      <td>...</td>\n",
       "      <td>...</td>\n",
       "      <td>...</td>\n",
       "      <td>...</td>\n",
       "    </tr>\n",
       "    <tr>\n",
       "      <th>195</th>\n",
       "      <td>54</td>\n",
       "      <td>0</td>\n",
       "      <td>4</td>\n",
       "      <td>127.000000</td>\n",
       "      <td>333.0</td>\n",
       "      <td>1</td>\n",
       "      <td>1</td>\n",
       "      <td>154.000000</td>\n",
       "      <td>0</td>\n",
       "      <td>0.000000</td>\n",
       "      <td>2</td>\n",
       "      <td>7</td>\n",
       "      <td>1</td>\n",
       "    </tr>\n",
       "    <tr>\n",
       "      <th>196</th>\n",
       "      <td>62</td>\n",
       "      <td>1</td>\n",
       "      <td>1</td>\n",
       "      <td>133.763889</td>\n",
       "      <td>139.0</td>\n",
       "      <td>0</td>\n",
       "      <td>1</td>\n",
       "      <td>122.795918</td>\n",
       "      <td>1</td>\n",
       "      <td>1.320833</td>\n",
       "      <td>2</td>\n",
       "      <td>7</td>\n",
       "      <td>0</td>\n",
       "    </tr>\n",
       "    <tr>\n",
       "      <th>197</th>\n",
       "      <td>55</td>\n",
       "      <td>1</td>\n",
       "      <td>4</td>\n",
       "      <td>122.000000</td>\n",
       "      <td>223.0</td>\n",
       "      <td>1</td>\n",
       "      <td>1</td>\n",
       "      <td>100.000000</td>\n",
       "      <td>0</td>\n",
       "      <td>0.000000</td>\n",
       "      <td>2</td>\n",
       "      <td>6</td>\n",
       "      <td>1</td>\n",
       "    </tr>\n",
       "    <tr>\n",
       "      <th>198</th>\n",
       "      <td>58</td>\n",
       "      <td>1</td>\n",
       "      <td>4</td>\n",
       "      <td>133.763889</td>\n",
       "      <td>385.0</td>\n",
       "      <td>1</td>\n",
       "      <td>2</td>\n",
       "      <td>122.795918</td>\n",
       "      <td>1</td>\n",
       "      <td>1.320833</td>\n",
       "      <td>2</td>\n",
       "      <td>7</td>\n",
       "      <td>0</td>\n",
       "    </tr>\n",
       "    <tr>\n",
       "      <th>199</th>\n",
       "      <td>62</td>\n",
       "      <td>1</td>\n",
       "      <td>2</td>\n",
       "      <td>120.000000</td>\n",
       "      <td>254.0</td>\n",
       "      <td>0</td>\n",
       "      <td>2</td>\n",
       "      <td>93.000000</td>\n",
       "      <td>1</td>\n",
       "      <td>0.000000</td>\n",
       "      <td>2</td>\n",
       "      <td>7</td>\n",
       "      <td>1</td>\n",
       "    </tr>\n",
       "  </tbody>\n",
       "</table>\n",
       "<p>200 rows × 13 columns</p>\n",
       "</div>"
      ],
      "text/plain": [
       "     age  sex  cp     testbps   chol  fbs  restecg     thalach  exang  \\\n",
       "0     63    1   4  140.000000  260.0    0        1  112.000000      1   \n",
       "1     44    1   4  130.000000  209.0    0        1  127.000000      0   \n",
       "2     60    1   4  132.000000  218.0    0        1  140.000000      1   \n",
       "3     55    1   4  142.000000  228.0    0        1  149.000000      1   \n",
       "4     66    1   3  110.000000  213.0    1        2   99.000000      1   \n",
       "..   ...  ...  ..         ...    ...  ...      ...         ...    ...   \n",
       "195   54    0   4  127.000000  333.0    1        1  154.000000      0   \n",
       "196   62    1   1  133.763889  139.0    0        1  122.795918      1   \n",
       "197   55    1   4  122.000000  223.0    1        1  100.000000      0   \n",
       "198   58    1   4  133.763889  385.0    1        2  122.795918      1   \n",
       "199   62    1   2  120.000000  254.0    0        2   93.000000      1   \n",
       "\n",
       "      oldpeak  slope  thal  num  \n",
       "0    3.000000      2     7    1  \n",
       "1    0.000000      2     7    0  \n",
       "2    1.500000      3     7    1  \n",
       "3    2.500000      1     7    1  \n",
       "4    1.300000      2     7    0  \n",
       "..        ...    ...   ...  ...  \n",
       "195  0.000000      2     7    1  \n",
       "196  1.320833      2     7    0  \n",
       "197  0.000000      2     6    1  \n",
       "198  1.320833      2     7    0  \n",
       "199  0.000000      2     7    1  \n",
       "\n",
       "[200 rows x 13 columns]"
      ]
     },
     "execution_count": 24,
     "metadata": {},
     "output_type": "execute_result"
    }
   ],
   "source": [
    "ds"
   ]
  },
  {
   "cell_type": "code",
   "execution_count": 25,
   "metadata": {},
   "outputs": [
    {
     "data": {
      "text/html": [
       "<div>\n",
       "<style scoped>\n",
       "    .dataframe tbody tr th:only-of-type {\n",
       "        vertical-align: middle;\n",
       "    }\n",
       "\n",
       "    .dataframe tbody tr th {\n",
       "        vertical-align: top;\n",
       "    }\n",
       "\n",
       "    .dataframe thead th {\n",
       "        text-align: right;\n",
       "    }\n",
       "</style>\n",
       "<table border=\"1\" class=\"dataframe\">\n",
       "  <thead>\n",
       "    <tr style=\"text-align: right;\">\n",
       "      <th></th>\n",
       "      <th>age</th>\n",
       "      <th>sex</th>\n",
       "      <th>cp</th>\n",
       "      <th>testbps</th>\n",
       "      <th>chol</th>\n",
       "      <th>fbs</th>\n",
       "      <th>restecg</th>\n",
       "      <th>thalach</th>\n",
       "      <th>exang</th>\n",
       "      <th>oldpeak</th>\n",
       "      <th>slope</th>\n",
       "      <th>thal</th>\n",
       "      <th>num</th>\n",
       "    </tr>\n",
       "  </thead>\n",
       "  <tbody>\n",
       "    <tr>\n",
       "      <th>count</th>\n",
       "      <td>200.000000</td>\n",
       "      <td>200.000000</td>\n",
       "      <td>200.000000</td>\n",
       "      <td>200.000000</td>\n",
       "      <td>200.000000</td>\n",
       "      <td>200.000000</td>\n",
       "      <td>200.000000</td>\n",
       "      <td>200.000000</td>\n",
       "      <td>200.000000</td>\n",
       "      <td>200.000000</td>\n",
       "      <td>200.000000</td>\n",
       "      <td>200.000000</td>\n",
       "      <td>200.000000</td>\n",
       "    </tr>\n",
       "    <tr>\n",
       "      <th>mean</th>\n",
       "      <td>59.350000</td>\n",
       "      <td>0.970000</td>\n",
       "      <td>3.505000</td>\n",
       "      <td>133.763889</td>\n",
       "      <td>178.746114</td>\n",
       "      <td>0.340000</td>\n",
       "      <td>0.735000</td>\n",
       "      <td>122.795918</td>\n",
       "      <td>0.740000</td>\n",
       "      <td>1.320833</td>\n",
       "      <td>2.065000</td>\n",
       "      <td>6.880000</td>\n",
       "      <td>0.745000</td>\n",
       "    </tr>\n",
       "    <tr>\n",
       "      <th>std</th>\n",
       "      <td>7.811697</td>\n",
       "      <td>0.171015</td>\n",
       "      <td>0.795701</td>\n",
       "      <td>18.257507</td>\n",
       "      <td>112.011633</td>\n",
       "      <td>0.474898</td>\n",
       "      <td>0.683455</td>\n",
       "      <td>18.835692</td>\n",
       "      <td>0.439735</td>\n",
       "      <td>0.937755</td>\n",
       "      <td>0.471046</td>\n",
       "      <td>0.589353</td>\n",
       "      <td>0.436955</td>\n",
       "    </tr>\n",
       "    <tr>\n",
       "      <th>min</th>\n",
       "      <td>35.000000</td>\n",
       "      <td>0.000000</td>\n",
       "      <td>1.000000</td>\n",
       "      <td>0.000000</td>\n",
       "      <td>0.000000</td>\n",
       "      <td>0.000000</td>\n",
       "      <td>0.000000</td>\n",
       "      <td>69.000000</td>\n",
       "      <td>0.000000</td>\n",
       "      <td>-0.500000</td>\n",
       "      <td>1.000000</td>\n",
       "      <td>3.000000</td>\n",
       "      <td>0.000000</td>\n",
       "    </tr>\n",
       "    <tr>\n",
       "      <th>25%</th>\n",
       "      <td>55.000000</td>\n",
       "      <td>1.000000</td>\n",
       "      <td>3.000000</td>\n",
       "      <td>125.750000</td>\n",
       "      <td>129.250000</td>\n",
       "      <td>0.000000</td>\n",
       "      <td>0.000000</td>\n",
       "      <td>112.000000</td>\n",
       "      <td>0.000000</td>\n",
       "      <td>1.000000</td>\n",
       "      <td>2.000000</td>\n",
       "      <td>7.000000</td>\n",
       "      <td>0.000000</td>\n",
       "    </tr>\n",
       "    <tr>\n",
       "      <th>50%</th>\n",
       "      <td>60.000000</td>\n",
       "      <td>1.000000</td>\n",
       "      <td>4.000000</td>\n",
       "      <td>133.763889</td>\n",
       "      <td>214.000000</td>\n",
       "      <td>0.000000</td>\n",
       "      <td>1.000000</td>\n",
       "      <td>122.795918</td>\n",
       "      <td>1.000000</td>\n",
       "      <td>1.320833</td>\n",
       "      <td>2.000000</td>\n",
       "      <td>7.000000</td>\n",
       "      <td>1.000000</td>\n",
       "    </tr>\n",
       "    <tr>\n",
       "      <th>75%</th>\n",
       "      <td>64.000000</td>\n",
       "      <td>1.000000</td>\n",
       "      <td>4.000000</td>\n",
       "      <td>140.000000</td>\n",
       "      <td>254.500000</td>\n",
       "      <td>1.000000</td>\n",
       "      <td>1.000000</td>\n",
       "      <td>130.000000</td>\n",
       "      <td>1.000000</td>\n",
       "      <td>2.000000</td>\n",
       "      <td>2.000000</td>\n",
       "      <td>7.000000</td>\n",
       "      <td>1.000000</td>\n",
       "    </tr>\n",
       "    <tr>\n",
       "      <th>max</th>\n",
       "      <td>77.000000</td>\n",
       "      <td>1.000000</td>\n",
       "      <td>4.000000</td>\n",
       "      <td>190.000000</td>\n",
       "      <td>458.000000</td>\n",
       "      <td>1.000000</td>\n",
       "      <td>2.000000</td>\n",
       "      <td>180.000000</td>\n",
       "      <td>1.000000</td>\n",
       "      <td>4.000000</td>\n",
       "      <td>3.000000</td>\n",
       "      <td>7.000000</td>\n",
       "      <td>1.000000</td>\n",
       "    </tr>\n",
       "  </tbody>\n",
       "</table>\n",
       "</div>"
      ],
      "text/plain": [
       "              age         sex          cp     testbps        chol         fbs  \\\n",
       "count  200.000000  200.000000  200.000000  200.000000  200.000000  200.000000   \n",
       "mean    59.350000    0.970000    3.505000  133.763889  178.746114    0.340000   \n",
       "std      7.811697    0.171015    0.795701   18.257507  112.011633    0.474898   \n",
       "min     35.000000    0.000000    1.000000    0.000000    0.000000    0.000000   \n",
       "25%     55.000000    1.000000    3.000000  125.750000  129.250000    0.000000   \n",
       "50%     60.000000    1.000000    4.000000  133.763889  214.000000    0.000000   \n",
       "75%     64.000000    1.000000    4.000000  140.000000  254.500000    1.000000   \n",
       "max     77.000000    1.000000    4.000000  190.000000  458.000000    1.000000   \n",
       "\n",
       "          restecg     thalach       exang     oldpeak       slope        thal  \\\n",
       "count  200.000000  200.000000  200.000000  200.000000  200.000000  200.000000   \n",
       "mean     0.735000  122.795918    0.740000    1.320833    2.065000    6.880000   \n",
       "std      0.683455   18.835692    0.439735    0.937755    0.471046    0.589353   \n",
       "min      0.000000   69.000000    0.000000   -0.500000    1.000000    3.000000   \n",
       "25%      0.000000  112.000000    0.000000    1.000000    2.000000    7.000000   \n",
       "50%      1.000000  122.795918    1.000000    1.320833    2.000000    7.000000   \n",
       "75%      1.000000  130.000000    1.000000    2.000000    2.000000    7.000000   \n",
       "max      2.000000  180.000000    1.000000    4.000000    3.000000    7.000000   \n",
       "\n",
       "              num  \n",
       "count  200.000000  \n",
       "mean     0.745000  \n",
       "std      0.436955  \n",
       "min      0.000000  \n",
       "25%      0.000000  \n",
       "50%      1.000000  \n",
       "75%      1.000000  \n",
       "max      1.000000  "
      ]
     },
     "execution_count": 25,
     "metadata": {},
     "output_type": "execute_result"
    }
   ],
   "source": [
    "#checking summary statistics\n",
    "ds.describe()"
   ]
  },
  {
   "cell_type": "markdown",
   "metadata": {},
   "source": [
    "1. The mean is equal to median for trestbps,thalach,oldpeak .Hence there is no skewness in these datas\n",
    "2. we can see a huge difference between 75th percentile and max value in chol which detects the presence of outliers in the data"
   ]
  },
  {
   "cell_type": "code",
   "execution_count": 26,
   "metadata": {},
   "outputs": [
    {
     "data": {
      "text/html": [
       "<div>\n",
       "<style scoped>\n",
       "    .dataframe tbody tr th:only-of-type {\n",
       "        vertical-align: middle;\n",
       "    }\n",
       "\n",
       "    .dataframe tbody tr th {\n",
       "        vertical-align: top;\n",
       "    }\n",
       "\n",
       "    .dataframe thead th {\n",
       "        text-align: right;\n",
       "    }\n",
       "</style>\n",
       "<table border=\"1\" class=\"dataframe\">\n",
       "  <thead>\n",
       "    <tr style=\"text-align: right;\">\n",
       "      <th></th>\n",
       "      <th>age</th>\n",
       "      <th>sex</th>\n",
       "      <th>cp</th>\n",
       "      <th>testbps</th>\n",
       "      <th>chol</th>\n",
       "      <th>fbs</th>\n",
       "      <th>restecg</th>\n",
       "      <th>thalach</th>\n",
       "      <th>exang</th>\n",
       "      <th>oldpeak</th>\n",
       "      <th>slope</th>\n",
       "      <th>thal</th>\n",
       "      <th>num</th>\n",
       "    </tr>\n",
       "  </thead>\n",
       "  <tbody>\n",
       "    <tr>\n",
       "      <th>age</th>\n",
       "      <td>1.000000</td>\n",
       "      <td>0.034230</td>\n",
       "      <td>-0.038280</td>\n",
       "      <td>0.181584</td>\n",
       "      <td>0.066972</td>\n",
       "      <td>0.135728</td>\n",
       "      <td>0.002400</td>\n",
       "      <td>-0.149949</td>\n",
       "      <td>0.129027</td>\n",
       "      <td>0.157087</td>\n",
       "      <td>0.107135</td>\n",
       "      <td>0.106313</td>\n",
       "      <td>0.189692</td>\n",
       "    </tr>\n",
       "    <tr>\n",
       "      <th>sex</th>\n",
       "      <td>0.034230</td>\n",
       "      <td>1.000000</td>\n",
       "      <td>0.038036</td>\n",
       "      <td>0.012585</td>\n",
       "      <td>-0.096150</td>\n",
       "      <td>-0.059400</td>\n",
       "      <td>0.060621</td>\n",
       "      <td>-0.001592</td>\n",
       "      <td>0.029402</td>\n",
       "      <td>0.097267</td>\n",
       "      <td>0.086709</td>\n",
       "      <td>-0.035898</td>\n",
       "      <td>0.098854</td>\n",
       "    </tr>\n",
       "    <tr>\n",
       "      <th>cp</th>\n",
       "      <td>-0.038280</td>\n",
       "      <td>0.038036</td>\n",
       "      <td>1.000000</td>\n",
       "      <td>0.074638</td>\n",
       "      <td>0.065818</td>\n",
       "      <td>-0.044416</td>\n",
       "      <td>0.034790</td>\n",
       "      <td>-0.123597</td>\n",
       "      <td>0.089904</td>\n",
       "      <td>0.040155</td>\n",
       "      <td>0.059460</td>\n",
       "      <td>-0.009430</td>\n",
       "      <td>0.256614</td>\n",
       "    </tr>\n",
       "    <tr>\n",
       "      <th>testbps</th>\n",
       "      <td>0.181584</td>\n",
       "      <td>0.012585</td>\n",
       "      <td>0.074638</td>\n",
       "      <td>1.000000</td>\n",
       "      <td>0.150192</td>\n",
       "      <td>0.192337</td>\n",
       "      <td>0.092042</td>\n",
       "      <td>-0.013046</td>\n",
       "      <td>0.205900</td>\n",
       "      <td>0.115432</td>\n",
       "      <td>0.083459</td>\n",
       "      <td>0.068807</td>\n",
       "      <td>0.077757</td>\n",
       "    </tr>\n",
       "    <tr>\n",
       "      <th>chol</th>\n",
       "      <td>0.066972</td>\n",
       "      <td>-0.096150</td>\n",
       "      <td>0.065818</td>\n",
       "      <td>0.150192</td>\n",
       "      <td>1.000000</td>\n",
       "      <td>0.173396</td>\n",
       "      <td>0.024257</td>\n",
       "      <td>-0.041209</td>\n",
       "      <td>0.117050</td>\n",
       "      <td>0.002160</td>\n",
       "      <td>0.043363</td>\n",
       "      <td>-0.037535</td>\n",
       "      <td>0.018820</td>\n",
       "    </tr>\n",
       "    <tr>\n",
       "      <th>fbs</th>\n",
       "      <td>0.135728</td>\n",
       "      <td>-0.059400</td>\n",
       "      <td>-0.044416</td>\n",
       "      <td>0.192337</td>\n",
       "      <td>0.173396</td>\n",
       "      <td>1.000000</td>\n",
       "      <td>0.170616</td>\n",
       "      <td>0.037972</td>\n",
       "      <td>-0.176144</td>\n",
       "      <td>-0.105363</td>\n",
       "      <td>-0.009435</td>\n",
       "      <td>-0.033036</td>\n",
       "      <td>0.080883</td>\n",
       "    </tr>\n",
       "    <tr>\n",
       "      <th>restecg</th>\n",
       "      <td>0.002400</td>\n",
       "      <td>0.060621</td>\n",
       "      <td>0.034790</td>\n",
       "      <td>0.092042</td>\n",
       "      <td>0.024257</td>\n",
       "      <td>0.170616</td>\n",
       "      <td>1.000000</td>\n",
       "      <td>0.012348</td>\n",
       "      <td>-0.063203</td>\n",
       "      <td>-0.106991</td>\n",
       "      <td>-0.039881</td>\n",
       "      <td>0.020460</td>\n",
       "      <td>-0.059146</td>\n",
       "    </tr>\n",
       "    <tr>\n",
       "      <th>thalach</th>\n",
       "      <td>-0.149949</td>\n",
       "      <td>-0.001592</td>\n",
       "      <td>-0.123597</td>\n",
       "      <td>-0.013046</td>\n",
       "      <td>-0.041209</td>\n",
       "      <td>0.037972</td>\n",
       "      <td>0.012348</td>\n",
       "      <td>1.000000</td>\n",
       "      <td>-0.070142</td>\n",
       "      <td>0.172048</td>\n",
       "      <td>-0.107241</td>\n",
       "      <td>-0.177857</td>\n",
       "      <td>-0.041842</td>\n",
       "    </tr>\n",
       "    <tr>\n",
       "      <th>exang</th>\n",
       "      <td>0.129027</td>\n",
       "      <td>0.029402</td>\n",
       "      <td>0.089904</td>\n",
       "      <td>0.205900</td>\n",
       "      <td>0.117050</td>\n",
       "      <td>-0.176144</td>\n",
       "      <td>-0.063203</td>\n",
       "      <td>-0.070142</td>\n",
       "      <td>1.000000</td>\n",
       "      <td>0.289320</td>\n",
       "      <td>0.106259</td>\n",
       "      <td>0.150467</td>\n",
       "      <td>0.176270</td>\n",
       "    </tr>\n",
       "    <tr>\n",
       "      <th>oldpeak</th>\n",
       "      <td>0.157087</td>\n",
       "      <td>0.097267</td>\n",
       "      <td>0.040155</td>\n",
       "      <td>0.115432</td>\n",
       "      <td>0.002160</td>\n",
       "      <td>-0.105363</td>\n",
       "      <td>-0.106991</td>\n",
       "      <td>0.172048</td>\n",
       "      <td>0.289320</td>\n",
       "      <td>1.000000</td>\n",
       "      <td>0.292698</td>\n",
       "      <td>0.158020</td>\n",
       "      <td>0.212468</td>\n",
       "    </tr>\n",
       "    <tr>\n",
       "      <th>slope</th>\n",
       "      <td>0.107135</td>\n",
       "      <td>0.086709</td>\n",
       "      <td>0.059460</td>\n",
       "      <td>0.083459</td>\n",
       "      <td>0.043363</td>\n",
       "      <td>-0.009435</td>\n",
       "      <td>-0.039881</td>\n",
       "      <td>-0.107241</td>\n",
       "      <td>0.106259</td>\n",
       "      <td>0.292698</td>\n",
       "      <td>1.000000</td>\n",
       "      <td>0.010137</td>\n",
       "      <td>0.080934</td>\n",
       "    </tr>\n",
       "    <tr>\n",
       "      <th>thal</th>\n",
       "      <td>0.106313</td>\n",
       "      <td>-0.035898</td>\n",
       "      <td>-0.009430</td>\n",
       "      <td>0.068807</td>\n",
       "      <td>-0.037535</td>\n",
       "      <td>-0.033036</td>\n",
       "      <td>0.020460</td>\n",
       "      <td>-0.177857</td>\n",
       "      <td>0.150467</td>\n",
       "      <td>0.158020</td>\n",
       "      <td>0.010137</td>\n",
       "      <td>1.000000</td>\n",
       "      <td>0.056199</td>\n",
       "    </tr>\n",
       "    <tr>\n",
       "      <th>num</th>\n",
       "      <td>0.189692</td>\n",
       "      <td>0.098854</td>\n",
       "      <td>0.256614</td>\n",
       "      <td>0.077757</td>\n",
       "      <td>0.018820</td>\n",
       "      <td>0.080883</td>\n",
       "      <td>-0.059146</td>\n",
       "      <td>-0.041842</td>\n",
       "      <td>0.176270</td>\n",
       "      <td>0.212468</td>\n",
       "      <td>0.080934</td>\n",
       "      <td>0.056199</td>\n",
       "      <td>1.000000</td>\n",
       "    </tr>\n",
       "  </tbody>\n",
       "</table>\n",
       "</div>"
      ],
      "text/plain": [
       "              age       sex        cp   testbps      chol       fbs   restecg  \\\n",
       "age      1.000000  0.034230 -0.038280  0.181584  0.066972  0.135728  0.002400   \n",
       "sex      0.034230  1.000000  0.038036  0.012585 -0.096150 -0.059400  0.060621   \n",
       "cp      -0.038280  0.038036  1.000000  0.074638  0.065818 -0.044416  0.034790   \n",
       "testbps  0.181584  0.012585  0.074638  1.000000  0.150192  0.192337  0.092042   \n",
       "chol     0.066972 -0.096150  0.065818  0.150192  1.000000  0.173396  0.024257   \n",
       "fbs      0.135728 -0.059400 -0.044416  0.192337  0.173396  1.000000  0.170616   \n",
       "restecg  0.002400  0.060621  0.034790  0.092042  0.024257  0.170616  1.000000   \n",
       "thalach -0.149949 -0.001592 -0.123597 -0.013046 -0.041209  0.037972  0.012348   \n",
       "exang    0.129027  0.029402  0.089904  0.205900  0.117050 -0.176144 -0.063203   \n",
       "oldpeak  0.157087  0.097267  0.040155  0.115432  0.002160 -0.105363 -0.106991   \n",
       "slope    0.107135  0.086709  0.059460  0.083459  0.043363 -0.009435 -0.039881   \n",
       "thal     0.106313 -0.035898 -0.009430  0.068807 -0.037535 -0.033036  0.020460   \n",
       "num      0.189692  0.098854  0.256614  0.077757  0.018820  0.080883 -0.059146   \n",
       "\n",
       "          thalach     exang   oldpeak     slope      thal       num  \n",
       "age     -0.149949  0.129027  0.157087  0.107135  0.106313  0.189692  \n",
       "sex     -0.001592  0.029402  0.097267  0.086709 -0.035898  0.098854  \n",
       "cp      -0.123597  0.089904  0.040155  0.059460 -0.009430  0.256614  \n",
       "testbps -0.013046  0.205900  0.115432  0.083459  0.068807  0.077757  \n",
       "chol    -0.041209  0.117050  0.002160  0.043363 -0.037535  0.018820  \n",
       "fbs      0.037972 -0.176144 -0.105363 -0.009435 -0.033036  0.080883  \n",
       "restecg  0.012348 -0.063203 -0.106991 -0.039881  0.020460 -0.059146  \n",
       "thalach  1.000000 -0.070142  0.172048 -0.107241 -0.177857 -0.041842  \n",
       "exang   -0.070142  1.000000  0.289320  0.106259  0.150467  0.176270  \n",
       "oldpeak  0.172048  0.289320  1.000000  0.292698  0.158020  0.212468  \n",
       "slope   -0.107241  0.106259  0.292698  1.000000  0.010137  0.080934  \n",
       "thal    -0.177857  0.150467  0.158020  0.010137  1.000000  0.056199  \n",
       "num     -0.041842  0.176270  0.212468  0.080934  0.056199  1.000000  "
      ]
     },
     "execution_count": 26,
     "metadata": {},
     "output_type": "execute_result"
    }
   ],
   "source": [
    "#lets find the correlation\n",
    "ds.corr()"
   ]
  },
  {
   "cell_type": "code",
   "execution_count": 27,
   "metadata": {},
   "outputs": [
    {
     "data": {
      "image/png": "[encoded data removed]",
      "text/plain": [
       "<Figure size 720x720 with 2 Axes>"
      ]
     },
     "metadata": {
      "needs_background": "light"
     },
     "output_type": "display_data"
    }
   ],
   "source": [
    "#lets visualize the correlation graphically\n",
    "plt.figure(figsize=(10,10))\n",
    "sns.heatmap(ds.corr(),annot=True)\n",
    "plt.show()"
   ]
  },
  {
   "cell_type": "markdown",
   "metadata": {},
   "source": [
    "1. restecg and thalach has negative correlation with the heart disease indication and rest others are positively correlated.\n",
    "2. of the all attributes cp has higher positive correlation"
   ]
  },
  {
   "cell_type": "code",
   "execution_count": 28,
   "metadata": {},
   "outputs": [
    {
     "data": {
      "text/plain": [
       "<matplotlib.axes._subplots.AxesSubplot at 0x159a2058fa0>"
      ]
     },
     "execution_count": 28,
     "metadata": {},
     "output_type": "execute_result"
    },
    {
     "data": {
      "image/png": "[encoded data removed]",
      "text/plain": [
       "<Figure size 432x288 with 1 Axes>"
      ]
     },
     "metadata": {
      "needs_background": "light"
     },
     "output_type": "display_data"
    }
   ],
   "source": [
    "sns.lineplot(x='age',y='num',data=ds)"
   ]
  },
  {
   "cell_type": "markdown",
   "metadata": {},
   "source": [
    "This shows a linear relationship of age vs num. So as age increases chances of heart disease to occur also increases. "
   ]
  },
  {
   "cell_type": "code",
   "execution_count": 29,
   "metadata": {},
   "outputs": [
    {
     "data": {
      "text/plain": [
       "<matplotlib.axes._subplots.AxesSubplot at 0x159a21f8c10>"
      ]
     },
     "execution_count": 29,
     "metadata": {},
     "output_type": "execute_result"
    },
    {
     "data": {
      "image/png": "[encoded data removed]",
      "text/plain": [
       "<Figure size 432x288 with 1 Axes>"
      ]
     },
     "metadata": {
      "needs_background": "light"
     },
     "output_type": "display_data"
    }
   ],
   "source": [
    "sns.lineplot(x='oldpeak',y='num',data=ds)"
   ]
  },
  {
   "cell_type": "markdown",
   "metadata": {},
   "source": [
    "There is a strong linear dependancy of oldpeak against the heart disease"
   ]
  },
  {
   "cell_type": "code",
   "execution_count": 30,
   "metadata": {},
   "outputs": [
    {
     "data": {
      "text/plain": [
       "<matplotlib.axes._subplots.AxesSubplot at 0x159a225a2b0>"
      ]
     },
     "execution_count": 30,
     "metadata": {},
     "output_type": "execute_result"
    },
    {
     "data": {
      "image/png": "[encoded data removed]",
      "text/plain": [
       "<Figure size 432x288 with 1 Axes>"
      ]
     },
     "metadata": {
      "needs_background": "light"
     },
     "output_type": "display_data"
    }
   ],
   "source": [
    "sns.lineplot(x='thalach',y='num',data=ds)"
   ]
  },
  {
   "cell_type": "markdown",
   "metadata": {},
   "source": [
    "for a heart rate greater than 160 chances of having heart disease is less."
   ]
  },
  {
   "cell_type": "code",
   "execution_count": 31,
   "metadata": {},
   "outputs": [
    {
     "data": {
      "text/plain": [
       "<matplotlib.axes._subplots.AxesSubplot at 0x159a227cfd0>"
      ]
     },
     "execution_count": 31,
     "metadata": {},
     "output_type": "execute_result"
    },
    {
     "data": {
      "image/png": "[encoded data removed]",
      "text/plain": [
       "<Figure size 432x288 with 1 Axes>"
      ]
     },
     "metadata": {
      "needs_background": "light"
     },
     "output_type": "display_data"
    }
   ],
   "source": [
    "sns.countplot(x='num',data=ds)"
   ]
  },
  {
   "cell_type": "markdown",
   "metadata": {},
   "source": [
    "Total number of patients who doesnt have heart disease is around 50."
   ]
  },
  {
   "cell_type": "code",
   "execution_count": 32,
   "metadata": {},
   "outputs": [
    {
     "data": {
      "text/plain": [
       "<matplotlib.axes._subplots.AxesSubplot at 0x159a23041c0>"
      ]
     },
     "execution_count": 32,
     "metadata": {},
     "output_type": "execute_result"
    },
    {
     "data": {
      "image/png": "[encoded data removed]",
      "text/plain": [
       "<Figure size 432x288 with 1 Axes>"
      ]
     },
     "metadata": {
      "needs_background": "light"
     },
     "output_type": "display_data"
    }
   ],
   "source": [
    "sns.countplot(x='num',hue='sex',data=ds)"
   ]
  },
  {
   "cell_type": "markdown",
   "metadata": {},
   "source": [
    "The presence and absence of heart disease in female patients is same."
   ]
  },
  {
   "cell_type": "code",
   "execution_count": 33,
   "metadata": {},
   "outputs": [
    {
     "data": {
      "text/plain": [
       "<matplotlib.axes._subplots.AxesSubplot at 0x159a2364f70>"
      ]
     },
     "execution_count": 33,
     "metadata": {},
     "output_type": "execute_result"
    },
    {
     "data": {
      "image/png": "[encoded data removed]",
      "text/plain": [
       "<Figure size 432x288 with 1 Axes>"
      ]
     },
     "metadata": {
      "needs_background": "light"
     },
     "output_type": "display_data"
    }
   ],
   "source": [
    "sns.scatterplot(x='chol',y='num',data=ds)"
   ]
  },
  {
   "cell_type": "markdown",
   "metadata": {},
   "source": [
    "for cholestrol level greater than 170 mg/dl chances of having heart disease is high. "
   ]
  },
  {
   "cell_type": "markdown",
   "metadata": {},
   "source": [
    "lets check for outliers"
   ]
  },
  {
   "cell_type": "code",
   "execution_count": 34,
   "metadata": {},
   "outputs": [
    {
     "data": {
      "image/png": "[encoded data removed]",
      "text/plain": [
       "<Figure size 432x288 with 1 Axes>"
      ]
     },
     "metadata": {
      "needs_background": "light"
     },
     "output_type": "display_data"
    },
    {
     "data": {
      "image/png": "[encoded data removed]",
      "text/plain": [
       "<Figure size 432x288 with 1 Axes>"
      ]
     },
     "metadata": {
      "needs_background": "light"
     },
     "output_type": "display_data"
    },
    {
     "data": {
      "image/png": "[encoded data removed]",
      "text/plain": [
       "<Figure size 432x288 with 1 Axes>"
      ]
     },
     "metadata": {
      "needs_background": "light"
     },
     "output_type": "display_data"
    },
    {
     "data": {
      "image/png": "[encoded data removed]",
      "text/plain": [
       "<Figure size 432x288 with 1 Axes>"
      ]
     },
     "metadata": {
      "needs_background": "light"
     },
     "output_type": "display_data"
    },
    {
     "data": {
      "image/png": "[encoded data removed]",
      "text/plain": [
       "<Figure size 432x288 with 1 Axes>"
      ]
     },
     "metadata": {
      "needs_background": "light"
     },
     "output_type": "display_data"
    },
    {
     "data": {
      "image/png": "[encoded data removed]",
      "text/plain": [
       "<Figure size 432x288 with 1 Axes>"
      ]
     },
     "metadata": {
      "needs_background": "light"
     },
     "output_type": "display_data"
    },
    {
     "data": {
      "image/png": "[encoded data removed]",
      "text/plain": [
       "<Figure size 432x288 with 1 Axes>"
      ]
     },
     "metadata": {
      "needs_background": "light"
     },
     "output_type": "display_data"
    },
    {
     "data": {
      "image/png": "[encoded data removed]",
      "text/plain": [
       "<Figure size 432x288 with 1 Axes>"
      ]
     },
     "metadata": {
      "needs_background": "light"
     },
     "output_type": "display_data"
    },
    {
     "data": {
      "image/png": "[encoded data removed]",
      "text/plain": [
       "<Figure size 432x288 with 1 Axes>"
      ]
     },
     "metadata": {
      "needs_background": "light"
     },
     "output_type": "display_data"
    },
    {
     "data": {
      "image/png": "[encoded data removed]",
      "text/plain": [
       "<Figure size 432x288 with 1 Axes>"
      ]
     },
     "metadata": {
      "needs_background": "light"
     },
     "output_type": "display_data"
    },
    {
     "data": {
      "image/png": "[encoded data removed]",
      "text/plain": [
       "<Figure size 432x288 with 1 Axes>"
      ]
     },
     "metadata": {
      "needs_background": "light"
     },
     "output_type": "display_data"
    },
    {
     "data": {
      "image/png": "[encoded data removed]",
      "text/plain": [
       "<Figure size 432x288 with 1 Axes>"
      ]
     },
     "metadata": {
      "needs_background": "light"
     },
     "output_type": "display_data"
    },
    {
     "data": {
      "image/png": "[encoded data removed]",
      "text/plain": [
       "<Figure size 432x288 with 1 Axes>"
      ]
     },
     "metadata": {
      "needs_background": "light"
     },
     "output_type": "display_data"
    }
   ],
   "source": [
    "#plotting the boxplot for all attributes to check the outliers\n",
    "for i in ds.columns:\n",
    "    plt.figure()\n",
    "    sns.boxplot(ds[i],orient=\"v\")"
   ]
  },
  {
   "cell_type": "code",
   "execution_count": 35,
   "metadata": {},
   "outputs": [
    {
     "name": "stdout",
     "output_type": "stream",
     "text": [
      "(200, 13)\n",
      "(177, 13)\n"
     ]
    }
   ],
   "source": [
    "#we can see certain outliers from the boxplot, we have to treat them\n",
    "from scipy.stats import zscore\n",
    "z_score=abs(zscore(ds))\n",
    "print(ds.shape)\n",
    "\n",
    "ds_final=ds.loc[(z_score<3).all(axis=1)]\n",
    "print(ds_final.shape)"
   ]
  },
  {
   "cell_type": "code",
   "execution_count": 36,
   "metadata": {},
   "outputs": [
    {
     "data": {
      "text/plain": [
       "(177, 13)"
      ]
     },
     "execution_count": 36,
     "metadata": {},
     "output_type": "execute_result"
    }
   ],
   "source": [
    "#removing the outliers and storing the new data in the old dataframe.\n",
    "ds=ds_final\n",
    "ds.shape"
   ]
  },
  {
   "cell_type": "code",
   "execution_count": 37,
   "metadata": {},
   "outputs": [
    {
     "data": {
      "text/plain": [
       "age       -0.258590\n",
       "sex        0.000000\n",
       "cp        -1.439012\n",
       "testbps    0.509657\n",
       "chol      -0.537742\n",
       "fbs        0.740538\n",
       "restecg    0.366437\n",
       "thalach   -0.105998\n",
       "exang     -1.245651\n",
       "oldpeak    0.424375\n",
       "slope      0.259104\n",
       "thal      -4.416136\n",
       "num       -1.283120\n",
       "dtype: float64"
      ]
     },
     "execution_count": 37,
     "metadata": {},
     "output_type": "execute_result"
    }
   ],
   "source": [
    "#lets check for skewness\n",
    "ds.skew()"
   ]
  },
  {
   "cell_type": "markdown",
   "metadata": {},
   "source": [
    "the skewness is very little hence there is no need to treat them."
   ]
  },
  {
   "cell_type": "markdown",
   "metadata": {},
   "source": [
    "lets seperate the input and output data"
   ]
  },
  {
   "cell_type": "code",
   "execution_count": 38,
   "metadata": {},
   "outputs": [
    {
     "data": {
      "text/plain": [
       "0      1\n",
       "1      0\n",
       "2      1\n",
       "3      1\n",
       "4      0\n",
       "      ..\n",
       "192    1\n",
       "193    1\n",
       "197    1\n",
       "198    0\n",
       "199    1\n",
       "Name: num, Length: 177, dtype: int64"
      ]
     },
     "execution_count": 38,
     "metadata": {},
     "output_type": "execute_result"
    }
   ],
   "source": [
    "#seperating target variables\n",
    "y=ds.iloc[:,-1]\n",
    "y"
   ]
  },
  {
   "cell_type": "code",
   "execution_count": 39,
   "metadata": {},
   "outputs": [
    {
     "data": {
      "text/html": [
       "<div>\n",
       "<style scoped>\n",
       "    .dataframe tbody tr th:only-of-type {\n",
       "        vertical-align: middle;\n",
       "    }\n",
       "\n",
       "    .dataframe tbody tr th {\n",
       "        vertical-align: top;\n",
       "    }\n",
       "\n",
       "    .dataframe thead th {\n",
       "        text-align: right;\n",
       "    }\n",
       "</style>\n",
       "<table border=\"1\" class=\"dataframe\">\n",
       "  <thead>\n",
       "    <tr style=\"text-align: right;\">\n",
       "      <th></th>\n",
       "      <th>age</th>\n",
       "      <th>sex</th>\n",
       "      <th>cp</th>\n",
       "      <th>testbps</th>\n",
       "      <th>chol</th>\n",
       "      <th>fbs</th>\n",
       "      <th>restecg</th>\n",
       "      <th>thalach</th>\n",
       "      <th>exang</th>\n",
       "      <th>oldpeak</th>\n",
       "      <th>slope</th>\n",
       "      <th>thal</th>\n",
       "    </tr>\n",
       "  </thead>\n",
       "  <tbody>\n",
       "    <tr>\n",
       "      <th>0</th>\n",
       "      <td>63</td>\n",
       "      <td>1</td>\n",
       "      <td>4</td>\n",
       "      <td>140.000000</td>\n",
       "      <td>260.0</td>\n",
       "      <td>0</td>\n",
       "      <td>1</td>\n",
       "      <td>112.000000</td>\n",
       "      <td>1</td>\n",
       "      <td>3.000000</td>\n",
       "      <td>2</td>\n",
       "      <td>7</td>\n",
       "    </tr>\n",
       "    <tr>\n",
       "      <th>1</th>\n",
       "      <td>44</td>\n",
       "      <td>1</td>\n",
       "      <td>4</td>\n",
       "      <td>130.000000</td>\n",
       "      <td>209.0</td>\n",
       "      <td>0</td>\n",
       "      <td>1</td>\n",
       "      <td>127.000000</td>\n",
       "      <td>0</td>\n",
       "      <td>0.000000</td>\n",
       "      <td>2</td>\n",
       "      <td>7</td>\n",
       "    </tr>\n",
       "    <tr>\n",
       "      <th>2</th>\n",
       "      <td>60</td>\n",
       "      <td>1</td>\n",
       "      <td>4</td>\n",
       "      <td>132.000000</td>\n",
       "      <td>218.0</td>\n",
       "      <td>0</td>\n",
       "      <td>1</td>\n",
       "      <td>140.000000</td>\n",
       "      <td>1</td>\n",
       "      <td>1.500000</td>\n",
       "      <td>3</td>\n",
       "      <td>7</td>\n",
       "    </tr>\n",
       "    <tr>\n",
       "      <th>3</th>\n",
       "      <td>55</td>\n",
       "      <td>1</td>\n",
       "      <td>4</td>\n",
       "      <td>142.000000</td>\n",
       "      <td>228.0</td>\n",
       "      <td>0</td>\n",
       "      <td>1</td>\n",
       "      <td>149.000000</td>\n",
       "      <td>1</td>\n",
       "      <td>2.500000</td>\n",
       "      <td>1</td>\n",
       "      <td>7</td>\n",
       "    </tr>\n",
       "    <tr>\n",
       "      <th>4</th>\n",
       "      <td>66</td>\n",
       "      <td>1</td>\n",
       "      <td>3</td>\n",
       "      <td>110.000000</td>\n",
       "      <td>213.0</td>\n",
       "      <td>1</td>\n",
       "      <td>2</td>\n",
       "      <td>99.000000</td>\n",
       "      <td>1</td>\n",
       "      <td>1.300000</td>\n",
       "      <td>2</td>\n",
       "      <td>7</td>\n",
       "    </tr>\n",
       "    <tr>\n",
       "      <th>...</th>\n",
       "      <td>...</td>\n",
       "      <td>...</td>\n",
       "      <td>...</td>\n",
       "      <td>...</td>\n",
       "      <td>...</td>\n",
       "      <td>...</td>\n",
       "      <td>...</td>\n",
       "      <td>...</td>\n",
       "      <td>...</td>\n",
       "      <td>...</td>\n",
       "      <td>...</td>\n",
       "      <td>...</td>\n",
       "    </tr>\n",
       "    <tr>\n",
       "      <th>192</th>\n",
       "      <td>53</td>\n",
       "      <td>1</td>\n",
       "      <td>4</td>\n",
       "      <td>144.000000</td>\n",
       "      <td>300.0</td>\n",
       "      <td>1</td>\n",
       "      <td>1</td>\n",
       "      <td>128.000000</td>\n",
       "      <td>1</td>\n",
       "      <td>1.500000</td>\n",
       "      <td>2</td>\n",
       "      <td>7</td>\n",
       "    </tr>\n",
       "    <tr>\n",
       "      <th>193</th>\n",
       "      <td>62</td>\n",
       "      <td>1</td>\n",
       "      <td>4</td>\n",
       "      <td>158.000000</td>\n",
       "      <td>170.0</td>\n",
       "      <td>0</td>\n",
       "      <td>1</td>\n",
       "      <td>138.000000</td>\n",
       "      <td>1</td>\n",
       "      <td>0.000000</td>\n",
       "      <td>2</td>\n",
       "      <td>7</td>\n",
       "    </tr>\n",
       "    <tr>\n",
       "      <th>197</th>\n",
       "      <td>55</td>\n",
       "      <td>1</td>\n",
       "      <td>4</td>\n",
       "      <td>122.000000</td>\n",
       "      <td>223.0</td>\n",
       "      <td>1</td>\n",
       "      <td>1</td>\n",
       "      <td>100.000000</td>\n",
       "      <td>0</td>\n",
       "      <td>0.000000</td>\n",
       "      <td>2</td>\n",
       "      <td>6</td>\n",
       "    </tr>\n",
       "    <tr>\n",
       "      <th>198</th>\n",
       "      <td>58</td>\n",
       "      <td>1</td>\n",
       "      <td>4</td>\n",
       "      <td>133.763889</td>\n",
       "      <td>385.0</td>\n",
       "      <td>1</td>\n",
       "      <td>2</td>\n",
       "      <td>122.795918</td>\n",
       "      <td>1</td>\n",
       "      <td>1.320833</td>\n",
       "      <td>2</td>\n",
       "      <td>7</td>\n",
       "    </tr>\n",
       "    <tr>\n",
       "      <th>199</th>\n",
       "      <td>62</td>\n",
       "      <td>1</td>\n",
       "      <td>2</td>\n",
       "      <td>120.000000</td>\n",
       "      <td>254.0</td>\n",
       "      <td>0</td>\n",
       "      <td>2</td>\n",
       "      <td>93.000000</td>\n",
       "      <td>1</td>\n",
       "      <td>0.000000</td>\n",
       "      <td>2</td>\n",
       "      <td>7</td>\n",
       "    </tr>\n",
       "  </tbody>\n",
       "</table>\n",
       "<p>177 rows × 12 columns</p>\n",
       "</div>"
      ],
      "text/plain": [
       "     age  sex  cp     testbps   chol  fbs  restecg     thalach  exang  \\\n",
       "0     63    1   4  140.000000  260.0    0        1  112.000000      1   \n",
       "1     44    1   4  130.000000  209.0    0        1  127.000000      0   \n",
       "2     60    1   4  132.000000  218.0    0        1  140.000000      1   \n",
       "3     55    1   4  142.000000  228.0    0        1  149.000000      1   \n",
       "4     66    1   3  110.000000  213.0    1        2   99.000000      1   \n",
       "..   ...  ...  ..         ...    ...  ...      ...         ...    ...   \n",
       "192   53    1   4  144.000000  300.0    1        1  128.000000      1   \n",
       "193   62    1   4  158.000000  170.0    0        1  138.000000      1   \n",
       "197   55    1   4  122.000000  223.0    1        1  100.000000      0   \n",
       "198   58    1   4  133.763889  385.0    1        2  122.795918      1   \n",
       "199   62    1   2  120.000000  254.0    0        2   93.000000      1   \n",
       "\n",
       "      oldpeak  slope  thal  \n",
       "0    3.000000      2     7  \n",
       "1    0.000000      2     7  \n",
       "2    1.500000      3     7  \n",
       "3    2.500000      1     7  \n",
       "4    1.300000      2     7  \n",
       "..        ...    ...   ...  \n",
       "192  1.500000      2     7  \n",
       "193  0.000000      2     7  \n",
       "197  0.000000      2     6  \n",
       "198  1.320833      2     7  \n",
       "199  0.000000      2     7  \n",
       "\n",
       "[177 rows x 12 columns]"
      ]
     },
     "execution_count": 39,
     "metadata": {},
     "output_type": "execute_result"
    }
   ],
   "source": [
    "#seperating the input variables\n",
    "ds_x=ds.iloc[:,0:-1]\n",
    "ds_x"
   ]
  },
  {
   "cell_type": "code",
   "execution_count": 40,
   "metadata": {},
   "outputs": [],
   "source": [
    "#lets standardise the inputs using standard scaler before training into the model\n",
    "from sklearn.preprocessing import StandardScaler\n",
    "sc=StandardScaler()\n",
    "x=sc.fit_transform(ds_x)\n",
    "x=pd.DataFrame(x,columns=ds_x.columns)"
   ]
  },
  {
   "cell_type": "code",
   "execution_count": 41,
   "metadata": {},
   "outputs": [
    {
     "data": {
      "text/html": [
       "<div>\n",
       "<style scoped>\n",
       "    .dataframe tbody tr th:only-of-type {\n",
       "        vertical-align: middle;\n",
       "    }\n",
       "\n",
       "    .dataframe tbody tr th {\n",
       "        vertical-align: top;\n",
       "    }\n",
       "\n",
       "    .dataframe thead th {\n",
       "        text-align: right;\n",
       "    }\n",
       "</style>\n",
       "<table border=\"1\" class=\"dataframe\">\n",
       "  <thead>\n",
       "    <tr style=\"text-align: right;\">\n",
       "      <th></th>\n",
       "      <th>age</th>\n",
       "      <th>sex</th>\n",
       "      <th>cp</th>\n",
       "      <th>testbps</th>\n",
       "      <th>chol</th>\n",
       "      <th>fbs</th>\n",
       "      <th>restecg</th>\n",
       "      <th>thalach</th>\n",
       "      <th>exang</th>\n",
       "      <th>oldpeak</th>\n",
       "      <th>slope</th>\n",
       "      <th>thal</th>\n",
       "    </tr>\n",
       "  </thead>\n",
       "  <tbody>\n",
       "    <tr>\n",
       "      <th>0</th>\n",
       "      <td>0.455808</td>\n",
       "      <td>0.0</td>\n",
       "      <td>0.606751</td>\n",
       "      <td>0.342887</td>\n",
       "      <td>0.742777</td>\n",
       "      <td>-0.698137</td>\n",
       "      <td>0.374532</td>\n",
       "      <td>-0.523570</td>\n",
       "      <td>0.557773</td>\n",
       "      <td>1.761409</td>\n",
       "      <td>-0.168736</td>\n",
       "      <td>0.217571</td>\n",
       "    </tr>\n",
       "    <tr>\n",
       "      <th>1</th>\n",
       "      <td>-2.069533</td>\n",
       "      <td>0.0</td>\n",
       "      <td>0.606751</td>\n",
       "      <td>-0.302209</td>\n",
       "      <td>0.286396</td>\n",
       "      <td>-0.698137</td>\n",
       "      <td>0.374532</td>\n",
       "      <td>0.325899</td>\n",
       "      <td>-1.792843</td>\n",
       "      <td>-1.399484</td>\n",
       "      <td>-0.168736</td>\n",
       "      <td>0.217571</td>\n",
       "    </tr>\n",
       "    <tr>\n",
       "      <th>2</th>\n",
       "      <td>0.057070</td>\n",
       "      <td>0.0</td>\n",
       "      <td>0.606751</td>\n",
       "      <td>-0.173190</td>\n",
       "      <td>0.366934</td>\n",
       "      <td>-0.698137</td>\n",
       "      <td>0.374532</td>\n",
       "      <td>1.062107</td>\n",
       "      <td>0.557773</td>\n",
       "      <td>0.180963</td>\n",
       "      <td>1.964568</td>\n",
       "      <td>0.217571</td>\n",
       "    </tr>\n",
       "    <tr>\n",
       "      <th>3</th>\n",
       "      <td>-0.607494</td>\n",
       "      <td>0.0</td>\n",
       "      <td>0.606751</td>\n",
       "      <td>0.471906</td>\n",
       "      <td>0.456421</td>\n",
       "      <td>-0.698137</td>\n",
       "      <td>0.374532</td>\n",
       "      <td>1.571788</td>\n",
       "      <td>0.557773</td>\n",
       "      <td>1.234594</td>\n",
       "      <td>-2.302040</td>\n",
       "      <td>0.217571</td>\n",
       "    </tr>\n",
       "    <tr>\n",
       "      <th>4</th>\n",
       "      <td>0.854546</td>\n",
       "      <td>0.0</td>\n",
       "      <td>-1.071295</td>\n",
       "      <td>-1.592402</td>\n",
       "      <td>0.322191</td>\n",
       "      <td>1.432384</td>\n",
       "      <td>1.847692</td>\n",
       "      <td>-1.259777</td>\n",
       "      <td>0.557773</td>\n",
       "      <td>-0.029764</td>\n",
       "      <td>-0.168736</td>\n",
       "      <td>0.217571</td>\n",
       "    </tr>\n",
       "    <tr>\n",
       "      <th>...</th>\n",
       "      <td>...</td>\n",
       "      <td>...</td>\n",
       "      <td>...</td>\n",
       "      <td>...</td>\n",
       "      <td>...</td>\n",
       "      <td>...</td>\n",
       "      <td>...</td>\n",
       "      <td>...</td>\n",
       "      <td>...</td>\n",
       "      <td>...</td>\n",
       "      <td>...</td>\n",
       "      <td>...</td>\n",
       "    </tr>\n",
       "    <tr>\n",
       "      <th>172</th>\n",
       "      <td>-0.873319</td>\n",
       "      <td>0.0</td>\n",
       "      <td>0.606751</td>\n",
       "      <td>0.600926</td>\n",
       "      <td>1.100724</td>\n",
       "      <td>1.432384</td>\n",
       "      <td>0.374532</td>\n",
       "      <td>0.382531</td>\n",
       "      <td>0.557773</td>\n",
       "      <td>0.180963</td>\n",
       "      <td>-0.168736</td>\n",
       "      <td>0.217571</td>\n",
       "    </tr>\n",
       "    <tr>\n",
       "      <th>173</th>\n",
       "      <td>0.322895</td>\n",
       "      <td>0.0</td>\n",
       "      <td>0.606751</td>\n",
       "      <td>1.504061</td>\n",
       "      <td>-0.062601</td>\n",
       "      <td>-0.698137</td>\n",
       "      <td>0.374532</td>\n",
       "      <td>0.948844</td>\n",
       "      <td>0.557773</td>\n",
       "      <td>-1.399484</td>\n",
       "      <td>-0.168736</td>\n",
       "      <td>0.217571</td>\n",
       "    </tr>\n",
       "    <tr>\n",
       "      <th>174</th>\n",
       "      <td>-0.607494</td>\n",
       "      <td>0.0</td>\n",
       "      <td>0.606751</td>\n",
       "      <td>-0.818286</td>\n",
       "      <td>0.411677</td>\n",
       "      <td>1.432384</td>\n",
       "      <td>0.374532</td>\n",
       "      <td>-1.203146</td>\n",
       "      <td>-1.792843</td>\n",
       "      <td>-1.399484</td>\n",
       "      <td>-0.168736</td>\n",
       "      <td>-4.596194</td>\n",
       "    </tr>\n",
       "    <tr>\n",
       "      <th>175</th>\n",
       "      <td>-0.208756</td>\n",
       "      <td>0.0</td>\n",
       "      <td>0.606751</td>\n",
       "      <td>-0.059402</td>\n",
       "      <td>1.861359</td>\n",
       "      <td>1.432384</td>\n",
       "      <td>1.847692</td>\n",
       "      <td>0.087817</td>\n",
       "      <td>0.557773</td>\n",
       "      <td>-0.007813</td>\n",
       "      <td>-0.168736</td>\n",
       "      <td>0.217571</td>\n",
       "    </tr>\n",
       "    <tr>\n",
       "      <th>176</th>\n",
       "      <td>0.322895</td>\n",
       "      <td>0.0</td>\n",
       "      <td>-2.749340</td>\n",
       "      <td>-0.947306</td>\n",
       "      <td>0.689086</td>\n",
       "      <td>-0.698137</td>\n",
       "      <td>1.847692</td>\n",
       "      <td>-1.599565</td>\n",
       "      <td>0.557773</td>\n",
       "      <td>-1.399484</td>\n",
       "      <td>-0.168736</td>\n",
       "      <td>0.217571</td>\n",
       "    </tr>\n",
       "  </tbody>\n",
       "</table>\n",
       "<p>177 rows × 12 columns</p>\n",
       "</div>"
      ],
      "text/plain": [
       "          age  sex        cp   testbps      chol       fbs   restecg  \\\n",
       "0    0.455808  0.0  0.606751  0.342887  0.742777 -0.698137  0.374532   \n",
       "1   -2.069533  0.0  0.606751 -0.302209  0.286396 -0.698137  0.374532   \n",
       "2    0.057070  0.0  0.606751 -0.173190  0.366934 -0.698137  0.374532   \n",
       "3   -0.607494  0.0  0.606751  0.471906  0.456421 -0.698137  0.374532   \n",
       "4    0.854546  0.0 -1.071295 -1.592402  0.322191  1.432384  1.847692   \n",
       "..        ...  ...       ...       ...       ...       ...       ...   \n",
       "172 -0.873319  0.0  0.606751  0.600926  1.100724  1.432384  0.374532   \n",
       "173  0.322895  0.0  0.606751  1.504061 -0.062601 -0.698137  0.374532   \n",
       "174 -0.607494  0.0  0.606751 -0.818286  0.411677  1.432384  0.374532   \n",
       "175 -0.208756  0.0  0.606751 -0.059402  1.861359  1.432384  1.847692   \n",
       "176  0.322895  0.0 -2.749340 -0.947306  0.689086 -0.698137  1.847692   \n",
       "\n",
       "      thalach     exang   oldpeak     slope      thal  \n",
       "0   -0.523570  0.557773  1.761409 -0.168736  0.217571  \n",
       "1    0.325899 -1.792843 -1.399484 -0.168736  0.217571  \n",
       "2    1.062107  0.557773  0.180963  1.964568  0.217571  \n",
       "3    1.571788  0.557773  1.234594 -2.302040  0.217571  \n",
       "4   -1.259777  0.557773 -0.029764 -0.168736  0.217571  \n",
       "..        ...       ...       ...       ...       ...  \n",
       "172  0.382531  0.557773  0.180963 -0.168736  0.217571  \n",
       "173  0.948844  0.557773 -1.399484 -0.168736  0.217571  \n",
       "174 -1.203146 -1.792843 -1.399484 -0.168736 -4.596194  \n",
       "175  0.087817  0.557773 -0.007813 -0.168736  0.217571  \n",
       "176 -1.599565  0.557773 -1.399484 -0.168736  0.217571  \n",
       "\n",
       "[177 rows x 12 columns]"
      ]
     },
     "execution_count": 41,
     "metadata": {},
     "output_type": "execute_result"
    }
   ],
   "source": [
    "#standardised inputs\n",
    "x"
   ]
  },
  {
   "cell_type": "code",
   "execution_count": 42,
   "metadata": {},
   "outputs": [
    {
     "name": "stdout",
     "output_type": "stream",
     "text": [
      "(132, 12) \t (45, 12)\n"
     ]
    }
   ],
   "source": [
    "#splitting the input and target variable into test and train data\n",
    "from sklearn.model_selection import train_test_split\n",
    "x_train,x_test,y_train,y_test=train_test_split(x,y,test_size=.25,random_state=47)\n",
    "print(x_train.shape,'\\t',x_test.shape)"
   ]
  },
  {
   "cell_type": "code",
   "execution_count": 43,
   "metadata": {},
   "outputs": [
    {
     "name": "stdout",
     "output_type": "stream",
     "text": [
      "(132,) \t (45,)\n"
     ]
    }
   ],
   "source": [
    "print(y_train.shape,'\\t',y_test.shape)"
   ]
  },
  {
   "cell_type": "code",
   "execution_count": 44,
   "metadata": {},
   "outputs": [],
   "source": [
    "#importing libraries for models and error metrics\n",
    "from sklearn.linear_model import LogisticRegression\n",
    "from sklearn.svm import SVC\n",
    "from sklearn.tree import DecisionTreeClassifier\n",
    "from sklearn.neighbors import KNeighborsClassifier\n",
    "from sklearn.metrics import accuracy_score,confusion_matrix,classification_report"
   ]
  },
  {
   "cell_type": "code",
   "execution_count": 45,
   "metadata": {},
   "outputs": [
    {
     "name": "stdout",
     "output_type": "stream",
     "text": [
      "score of  LogisticRegression() is: 0.8257575757575758\n",
      "Metrics:\n",
      "Accuracy Score: 0.7555555555555555\n",
      "Confusion Matrix: [[ 4  8]\n",
      " [ 3 30]]\n",
      "Classification Report:               precision    recall  f1-score   support\n",
      "\n",
      "           0       0.57      0.33      0.42        12\n",
      "           1       0.79      0.91      0.85        33\n",
      "\n",
      "    accuracy                           0.76        45\n",
      "   macro avg       0.68      0.62      0.63        45\n",
      "weighted avg       0.73      0.76      0.73        45\n",
      "\n",
      "END OF THE MODEL----------------------------------- \n",
      "\n",
      "\n",
      "score of  SVC() is: 0.8560606060606061\n",
      "Metrics:\n",
      "Accuracy Score: 0.7555555555555555\n",
      "Confusion Matrix: [[ 1 11]\n",
      " [ 0 33]]\n",
      "Classification Report:               precision    recall  f1-score   support\n",
      "\n",
      "           0       1.00      0.08      0.15        12\n",
      "           1       0.75      1.00      0.86        33\n",
      "\n",
      "    accuracy                           0.76        45\n",
      "   macro avg       0.88      0.54      0.51        45\n",
      "weighted avg       0.82      0.76      0.67        45\n",
      "\n",
      "END OF THE MODEL----------------------------------- \n",
      "\n",
      "\n",
      "score of  KNeighborsClassifier() is: 0.8409090909090909\n",
      "Metrics:\n",
      "Accuracy Score: 0.7777777777777778\n",
      "Confusion Matrix: [[ 3  9]\n",
      " [ 1 32]]\n",
      "Classification Report:               precision    recall  f1-score   support\n",
      "\n",
      "           0       0.75      0.25      0.38        12\n",
      "           1       0.78      0.97      0.86        33\n",
      "\n",
      "    accuracy                           0.78        45\n",
      "   macro avg       0.77      0.61      0.62        45\n",
      "weighted avg       0.77      0.78      0.73        45\n",
      "\n",
      "END OF THE MODEL----------------------------------- \n",
      "\n",
      "\n",
      "score of  DecisionTreeClassifier() is: 1.0\n",
      "Metrics:\n",
      "Accuracy Score: 0.7333333333333333\n",
      "Confusion Matrix: [[ 4  8]\n",
      " [ 4 29]]\n",
      "Classification Report:               precision    recall  f1-score   support\n",
      "\n",
      "           0       0.50      0.33      0.40        12\n",
      "           1       0.78      0.88      0.83        33\n",
      "\n",
      "    accuracy                           0.73        45\n",
      "   macro avg       0.64      0.61      0.61        45\n",
      "weighted avg       0.71      0.73      0.71        45\n",
      "\n",
      "END OF THE MODEL----------------------------------- \n",
      "\n",
      "\n"
     ]
    }
   ],
   "source": [
    "#creating a for loop for all the models\n",
    "model=[LogisticRegression(),SVC(),KNeighborsClassifier(),DecisionTreeClassifier()]\n",
    "for m in model:\n",
    "    m.fit(x_train,y_train)\n",
    "    print('score of ',m,'is:',m.score(x_train,y_train))\n",
    "    predm=m.predict(x_test)\n",
    "    print('Metrics:')\n",
    "    print('Accuracy Score:',accuracy_score(y_test,predm))\n",
    "    print('Confusion Matrix:',confusion_matrix(y_test,predm))\n",
    "    print('Classification Report:',classification_report(y_test,predm))\n",
    "    print('END OF THE MODEL----------------------------------- ')\n",
    "    print('\\n')"
   ]
  },
  {
   "cell_type": "markdown",
   "metadata": {},
   "source": [
    "## Ensemble methods "
   ]
  },
  {
   "cell_type": "code",
   "execution_count": 46,
   "metadata": {},
   "outputs": [
    {
     "name": "stdout",
     "output_type": "stream",
     "text": [
      "score: 1.0\n",
      "\n",
      "\n",
      "Accuracy Score: 0.8\n",
      "Confusion Matrix: [[ 3  9]\n",
      " [ 0 33]]\n",
      "Classification Report:               precision    recall  f1-score   support\n",
      "\n",
      "           0       1.00      0.25      0.40        12\n",
      "           1       0.79      1.00      0.88        33\n",
      "\n",
      "    accuracy                           0.80        45\n",
      "   macro avg       0.89      0.62      0.64        45\n",
      "weighted avg       0.84      0.80      0.75        45\n",
      "\n"
     ]
    }
   ],
   "source": [
    "#using Random Forest Classifier\n",
    "#best model\n",
    "from sklearn.ensemble import RandomForestClassifier\n",
    "rfc=RandomForestClassifier(n_estimators=1000,random_state=47)\n",
    "rfc.fit(x_train,y_train)\n",
    "print('score:',rfc.score(x_train,y_train))\n",
    "predrfc=rfc.predict(x_test)\n",
    "print('\\n')\n",
    "print('Accuracy Score:',accuracy_score(y_test,predrfc))\n",
    "print('Confusion Matrix:',confusion_matrix(y_test,predrfc))\n",
    "print('Classification Report:',classification_report(y_test,predrfc))"
   ]
  },
  {
   "cell_type": "code",
   "execution_count": 47,
   "metadata": {},
   "outputs": [
    {
     "name": "stdout",
     "output_type": "stream",
     "text": [
      "score: 0.7803030303030303\n",
      "\n",
      "\n",
      "Accuracy Score: 0.7333333333333333\n",
      "Confusion Matrix: [[ 0 12]\n",
      " [ 0 33]]\n",
      "Classification Report:               precision    recall  f1-score   support\n",
      "\n",
      "           0       0.00      0.00      0.00        12\n",
      "           1       0.73      1.00      0.85        33\n",
      "\n",
      "    accuracy                           0.73        45\n",
      "   macro avg       0.37      0.50      0.42        45\n",
      "weighted avg       0.54      0.73      0.62        45\n",
      "\n"
     ]
    }
   ],
   "source": [
    "from sklearn.ensemble import AdaBoostClassifier\n",
    "svc_adb=SVC()\n",
    "adbc=AdaBoostClassifier(base_estimator=svc_adb,algorithm='SAMME',n_estimators=1000,learning_rate=0.1,random_state=47)\n",
    "adbc.fit(x_train,y_train)\n",
    "print('score:',adbc.score(x_train,y_train))\n",
    "predadbc=adbc.predict(x_test)\n",
    "print('\\n')\n",
    "print('Accuracy Score:',accuracy_score(y_test,predadbc))\n",
    "print('Confusion Matrix:',confusion_matrix(y_test,predadbc))\n",
    "print('Classification Report:',classification_report(y_test,predadbc))"
   ]
  },
  {
   "cell_type": "markdown",
   "metadata": {},
   "source": [
    "Of the above models random forest classifier has better accuracy score let us check cross validation scores."
   ]
  },
  {
   "cell_type": "code",
   "execution_count": 48,
   "metadata": {},
   "outputs": [
    {
     "name": "stdout",
     "output_type": "stream",
     "text": [
      "Score: [0.77777778 0.83333333 0.77777778 0.88888889 0.72222222 0.66666667\n",
      " 0.72222222 0.82352941 0.76470588 0.70588235]\n",
      "Mean Score: 0.7683006535947712\n",
      "Standard Deviation: 0.06362821467796848\n"
     ]
    }
   ],
   "source": [
    "#cross validating Random forest classifier\n",
    "from sklearn.model_selection import cross_val_score\n",
    "score=cross_val_score(rfc,x,y,cv=10,scoring='accuracy')\n",
    "print('Score:',score)\n",
    "print('Mean Score:',score.mean())\n",
    "print('Standard Deviation:',score.std())"
   ]
  },
  {
   "cell_type": "markdown",
   "metadata": {},
   "source": [
    "The mean cross validation score is 0.76. This can be considered as a well fit and suitable model for training this dataset."
   ]
  },
  {
   "cell_type": "markdown",
   "metadata": {},
   "source": [
    "AUC ROC Curve"
   ]
  },
  {
   "cell_type": "code",
   "execution_count": 49,
   "metadata": {},
   "outputs": [
    {
     "data": {
      "text/plain": [
       "array([0.936, 0.959, 0.658, 0.754, 0.628, 0.452, 0.916, 0.618, 0.504,\n",
       "       0.71 , 0.337, 0.924, 0.847, 0.976, 0.408, 0.904, 0.953, 0.821,\n",
       "       0.914, 0.942, 0.752, 0.92 , 0.929, 0.606, 0.942, 0.756, 0.871,\n",
       "       0.825, 0.949, 0.686, 0.822, 0.846, 0.834, 0.747, 0.637, 0.909,\n",
       "       0.933, 0.617, 0.966, 0.926, 0.853, 0.622, 0.945, 0.929, 0.921])"
      ]
     },
     "execution_count": 49,
     "metadata": {},
     "output_type": "execute_result"
    }
   ],
   "source": [
    "from sklearn.metrics import roc_auc_score,roc_curve\n",
    "y_pred_prob=rfc.predict_proba(x_test)[:,1]\n",
    "y_pred_prob"
   ]
  },
  {
   "cell_type": "code",
   "execution_count": 50,
   "metadata": {},
   "outputs": [
    {
     "data": {
      "image/png": "[encoded data removed]",
      "text/plain": [
       "<Figure size 432x288 with 1 Axes>"
      ]
     },
     "metadata": {
      "needs_background": "light"
     },
     "output_type": "display_data"
    }
   ],
   "source": [
    "fpr,tpr,thresholds=roc_curve(y_test,y_pred_prob)\n",
    "plt.plot([0,1],[0,1],'k--')\n",
    "plt.plot(fpr,tpr,label='Random Forest Classifier')\n",
    "plt.xlabel('False Positive Rate')\n",
    "plt.ylabel('True Positive Rate')\n",
    "plt.title('Random Forest Classifier')\n",
    "plt.show()"
   ]
  },
  {
   "cell_type": "code",
   "execution_count": 51,
   "metadata": {},
   "outputs": [
    {
     "name": "stdout",
     "output_type": "stream",
     "text": [
      "0.625\n"
     ]
    }
   ],
   "source": [
    "auc_score=roc_auc_score(y_test,rfc.predict(x_test))\n",
    "print(auc_score)"
   ]
  },
  {
   "cell_type": "markdown",
   "metadata": {},
   "source": [
    "The probability of predicting whether a person has hearat disease by using RFC model is 0.625"
   ]
  },
  {
   "cell_type": "markdown",
   "metadata": {},
   "source": [
    "## Saving the model and result "
   ]
  },
  {
   "cell_type": "code",
   "execution_count": 52,
   "metadata": {},
   "outputs": [
    {
     "data": {
      "text/plain": [
       "['Heart_Disease.pkl']"
      ]
     },
     "execution_count": 52,
     "metadata": {},
     "output_type": "execute_result"
    }
   ],
   "source": [
    "#saving the RFC model\n",
    "import joblib\n",
    "joblib.dump(rfc,'Heart_Disease.pkl')"
   ]
  },
  {
   "cell_type": "code",
   "execution_count": 53,
   "metadata": {},
   "outputs": [],
   "source": [
    "#saving the output to csv file\n",
    "pred_OP=pd.DataFrame(predrfc)\n",
    "pred_OP.to_csv('Heart_Disease_prediction.csv')"
   ]
  },
  {
   "cell_type": "code",
   "execution_count": null,
   "metadata": {},
   "outputs": [],
   "source": []
  }
 ],
 "metadata": {
  "kernelspec": {
   "display_name": "Python 3",
   "language": "python",
   "name": "python3"
  },
  "language_info": {
   "codemirror_mode": {
    "name": "ipython",
    "version": 3
   },
   "file_extension": ".py",
   "mimetype": "text/x-python",
   "name": "python",
   "nbconvert_exporter": "python",
   "pygments_lexer": "ipython3",
   "version": "3.8.3"
  }
 },
 "nbformat": 4,
 "nbformat_minor": 4
}
