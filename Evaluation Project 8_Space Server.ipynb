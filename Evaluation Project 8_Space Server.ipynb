{
 "cells": [
  {
   "cell_type": "markdown",
   "metadata": {},
   "source": [
    "# Evaluation Project 8\n",
    "Space Server Dataset"
   ]
  },
  {
   "cell_type": "code",
   "execution_count": 1,
   "metadata": {},
   "outputs": [],
   "source": [
    "#importing libraries\n",
    "import pandas as pd\n",
    "import numpy as np\n",
    "import matplotlib.pyplot as plt\n",
    "import seaborn as sns\n",
    "import warnings\n",
    "warnings.filterwarnings('ignore')"
   ]
  },
  {
   "cell_type": "code",
   "execution_count": 2,
   "metadata": {},
   "outputs": [
    {
     "data": {
      "text/html": [
       "<div>\n",
       "<style scoped>\n",
       "    .dataframe tbody tr th:only-of-type {\n",
       "        vertical-align: middle;\n",
       "    }\n",
       "\n",
       "    .dataframe tbody tr th {\n",
       "        vertical-align: top;\n",
       "    }\n",
       "\n",
       "    .dataframe thead th {\n",
       "        text-align: right;\n",
       "    }\n",
       "</style>\n",
       "<table border=\"1\" class=\"dataframe\">\n",
       "  <thead>\n",
       "    <tr style=\"text-align: right;\">\n",
       "      <th></th>\n",
       "      <th>objid</th>\n",
       "      <th>ra</th>\n",
       "      <th>dec</th>\n",
       "      <th>u</th>\n",
       "      <th>g</th>\n",
       "      <th>r</th>\n",
       "      <th>i</th>\n",
       "      <th>z</th>\n",
       "      <th>run</th>\n",
       "      <th>rerun</th>\n",
       "      <th>camcol</th>\n",
       "      <th>field</th>\n",
       "      <th>specobjid</th>\n",
       "      <th>class</th>\n",
       "      <th>redshift</th>\n",
       "      <th>plate</th>\n",
       "      <th>mjd</th>\n",
       "      <th>fiberid</th>\n",
       "    </tr>\n",
       "  </thead>\n",
       "  <tbody>\n",
       "    <tr>\n",
       "      <th>0</th>\n",
       "      <td>1.237650e+18</td>\n",
       "      <td>183.531326</td>\n",
       "      <td>0.089693</td>\n",
       "      <td>19.47406</td>\n",
       "      <td>17.04240</td>\n",
       "      <td>15.94699</td>\n",
       "      <td>15.50342</td>\n",
       "      <td>15.22531</td>\n",
       "      <td>752</td>\n",
       "      <td>301</td>\n",
       "      <td>4</td>\n",
       "      <td>267</td>\n",
       "      <td>3.722360e+18</td>\n",
       "      <td>STAR</td>\n",
       "      <td>-0.000009</td>\n",
       "      <td>3306</td>\n",
       "      <td>54922</td>\n",
       "      <td>491</td>\n",
       "    </tr>\n",
       "    <tr>\n",
       "      <th>1</th>\n",
       "      <td>1.237650e+18</td>\n",
       "      <td>183.598371</td>\n",
       "      <td>0.135285</td>\n",
       "      <td>18.66280</td>\n",
       "      <td>17.21449</td>\n",
       "      <td>16.67637</td>\n",
       "      <td>16.48922</td>\n",
       "      <td>16.39150</td>\n",
       "      <td>752</td>\n",
       "      <td>301</td>\n",
       "      <td>4</td>\n",
       "      <td>267</td>\n",
       "      <td>3.638140e+17</td>\n",
       "      <td>STAR</td>\n",
       "      <td>-0.000055</td>\n",
       "      <td>323</td>\n",
       "      <td>51615</td>\n",
       "      <td>541</td>\n",
       "    </tr>\n",
       "    <tr>\n",
       "      <th>2</th>\n",
       "      <td>1.237650e+18</td>\n",
       "      <td>183.680207</td>\n",
       "      <td>0.126185</td>\n",
       "      <td>19.38298</td>\n",
       "      <td>18.19169</td>\n",
       "      <td>17.47428</td>\n",
       "      <td>17.08732</td>\n",
       "      <td>16.80125</td>\n",
       "      <td>752</td>\n",
       "      <td>301</td>\n",
       "      <td>4</td>\n",
       "      <td>268</td>\n",
       "      <td>3.232740e+17</td>\n",
       "      <td>GALAXY</td>\n",
       "      <td>0.123111</td>\n",
       "      <td>287</td>\n",
       "      <td>52023</td>\n",
       "      <td>513</td>\n",
       "    </tr>\n",
       "    <tr>\n",
       "      <th>3</th>\n",
       "      <td>1.237650e+18</td>\n",
       "      <td>183.870529</td>\n",
       "      <td>0.049911</td>\n",
       "      <td>17.76536</td>\n",
       "      <td>16.60272</td>\n",
       "      <td>16.16116</td>\n",
       "      <td>15.98233</td>\n",
       "      <td>15.90438</td>\n",
       "      <td>752</td>\n",
       "      <td>301</td>\n",
       "      <td>4</td>\n",
       "      <td>269</td>\n",
       "      <td>3.722370e+18</td>\n",
       "      <td>STAR</td>\n",
       "      <td>-0.000111</td>\n",
       "      <td>3306</td>\n",
       "      <td>54922</td>\n",
       "      <td>510</td>\n",
       "    </tr>\n",
       "    <tr>\n",
       "      <th>4</th>\n",
       "      <td>1.237650e+18</td>\n",
       "      <td>183.883288</td>\n",
       "      <td>0.102557</td>\n",
       "      <td>17.55025</td>\n",
       "      <td>16.26342</td>\n",
       "      <td>16.43869</td>\n",
       "      <td>16.55492</td>\n",
       "      <td>16.61326</td>\n",
       "      <td>752</td>\n",
       "      <td>301</td>\n",
       "      <td>4</td>\n",
       "      <td>269</td>\n",
       "      <td>3.722370e+18</td>\n",
       "      <td>STAR</td>\n",
       "      <td>0.000590</td>\n",
       "      <td>3306</td>\n",
       "      <td>54922</td>\n",
       "      <td>512</td>\n",
       "    </tr>\n",
       "    <tr>\n",
       "      <th>...</th>\n",
       "      <td>...</td>\n",
       "      <td>...</td>\n",
       "      <td>...</td>\n",
       "      <td>...</td>\n",
       "      <td>...</td>\n",
       "      <td>...</td>\n",
       "      <td>...</td>\n",
       "      <td>...</td>\n",
       "      <td>...</td>\n",
       "      <td>...</td>\n",
       "      <td>...</td>\n",
       "      <td>...</td>\n",
       "      <td>...</td>\n",
       "      <td>...</td>\n",
       "      <td>...</td>\n",
       "      <td>...</td>\n",
       "      <td>...</td>\n",
       "      <td>...</td>\n",
       "    </tr>\n",
       "    <tr>\n",
       "      <th>9995</th>\n",
       "      <td>1.237650e+18</td>\n",
       "      <td>131.316413</td>\n",
       "      <td>51.539547</td>\n",
       "      <td>18.81777</td>\n",
       "      <td>17.47053</td>\n",
       "      <td>16.91508</td>\n",
       "      <td>16.68305</td>\n",
       "      <td>16.50570</td>\n",
       "      <td>1345</td>\n",
       "      <td>301</td>\n",
       "      <td>3</td>\n",
       "      <td>161</td>\n",
       "      <td>5.033450e+17</td>\n",
       "      <td>GALAXY</td>\n",
       "      <td>0.027583</td>\n",
       "      <td>447</td>\n",
       "      <td>51877</td>\n",
       "      <td>246</td>\n",
       "    </tr>\n",
       "    <tr>\n",
       "      <th>9996</th>\n",
       "      <td>1.237650e+18</td>\n",
       "      <td>131.306083</td>\n",
       "      <td>51.671341</td>\n",
       "      <td>18.27255</td>\n",
       "      <td>17.43849</td>\n",
       "      <td>17.07692</td>\n",
       "      <td>16.71661</td>\n",
       "      <td>16.69897</td>\n",
       "      <td>1345</td>\n",
       "      <td>301</td>\n",
       "      <td>3</td>\n",
       "      <td>162</td>\n",
       "      <td>5.033400e+17</td>\n",
       "      <td>GALAXY</td>\n",
       "      <td>0.117772</td>\n",
       "      <td>447</td>\n",
       "      <td>51877</td>\n",
       "      <td>228</td>\n",
       "    </tr>\n",
       "    <tr>\n",
       "      <th>9997</th>\n",
       "      <td>1.237650e+18</td>\n",
       "      <td>131.552562</td>\n",
       "      <td>51.666986</td>\n",
       "      <td>18.75818</td>\n",
       "      <td>17.77784</td>\n",
       "      <td>17.51872</td>\n",
       "      <td>17.43302</td>\n",
       "      <td>17.42048</td>\n",
       "      <td>1345</td>\n",
       "      <td>301</td>\n",
       "      <td>3</td>\n",
       "      <td>162</td>\n",
       "      <td>8.222620e+18</td>\n",
       "      <td>STAR</td>\n",
       "      <td>-0.000402</td>\n",
       "      <td>7303</td>\n",
       "      <td>57013</td>\n",
       "      <td>622</td>\n",
       "    </tr>\n",
       "    <tr>\n",
       "      <th>9998</th>\n",
       "      <td>1.237650e+18</td>\n",
       "      <td>131.477151</td>\n",
       "      <td>51.753068</td>\n",
       "      <td>18.88287</td>\n",
       "      <td>17.91068</td>\n",
       "      <td>17.53152</td>\n",
       "      <td>17.36284</td>\n",
       "      <td>17.13988</td>\n",
       "      <td>1345</td>\n",
       "      <td>301</td>\n",
       "      <td>3</td>\n",
       "      <td>163</td>\n",
       "      <td>5.033400e+17</td>\n",
       "      <td>GALAXY</td>\n",
       "      <td>0.014019</td>\n",
       "      <td>447</td>\n",
       "      <td>51877</td>\n",
       "      <td>229</td>\n",
       "    </tr>\n",
       "    <tr>\n",
       "      <th>9999</th>\n",
       "      <td>1.237650e+18</td>\n",
       "      <td>131.665012</td>\n",
       "      <td>51.805307</td>\n",
       "      <td>19.27586</td>\n",
       "      <td>17.37829</td>\n",
       "      <td>16.30542</td>\n",
       "      <td>15.83548</td>\n",
       "      <td>15.50588</td>\n",
       "      <td>1345</td>\n",
       "      <td>301</td>\n",
       "      <td>3</td>\n",
       "      <td>163</td>\n",
       "      <td>5.033410e+17</td>\n",
       "      <td>GALAXY</td>\n",
       "      <td>0.118417</td>\n",
       "      <td>447</td>\n",
       "      <td>51877</td>\n",
       "      <td>233</td>\n",
       "    </tr>\n",
       "  </tbody>\n",
       "</table>\n",
       "<p>10000 rows × 18 columns</p>\n",
       "</div>"
      ],
      "text/plain": [
       "             objid          ra        dec         u         g         r  \\\n",
       "0     1.237650e+18  183.531326   0.089693  19.47406  17.04240  15.94699   \n",
       "1     1.237650e+18  183.598371   0.135285  18.66280  17.21449  16.67637   \n",
       "2     1.237650e+18  183.680207   0.126185  19.38298  18.19169  17.47428   \n",
       "3     1.237650e+18  183.870529   0.049911  17.76536  16.60272  16.16116   \n",
       "4     1.237650e+18  183.883288   0.102557  17.55025  16.26342  16.43869   \n",
       "...            ...         ...        ...       ...       ...       ...   \n",
       "9995  1.237650e+18  131.316413  51.539547  18.81777  17.47053  16.91508   \n",
       "9996  1.237650e+18  131.306083  51.671341  18.27255  17.43849  17.07692   \n",
       "9997  1.237650e+18  131.552562  51.666986  18.75818  17.77784  17.51872   \n",
       "9998  1.237650e+18  131.477151  51.753068  18.88287  17.91068  17.53152   \n",
       "9999  1.237650e+18  131.665012  51.805307  19.27586  17.37829  16.30542   \n",
       "\n",
       "             i         z   run  rerun  camcol  field     specobjid   class  \\\n",
       "0     15.50342  15.22531   752    301       4    267  3.722360e+18    STAR   \n",
       "1     16.48922  16.39150   752    301       4    267  3.638140e+17    STAR   \n",
       "2     17.08732  16.80125   752    301       4    268  3.232740e+17  GALAXY   \n",
       "3     15.98233  15.90438   752    301       4    269  3.722370e+18    STAR   \n",
       "4     16.55492  16.61326   752    301       4    269  3.722370e+18    STAR   \n",
       "...        ...       ...   ...    ...     ...    ...           ...     ...   \n",
       "9995  16.68305  16.50570  1345    301       3    161  5.033450e+17  GALAXY   \n",
       "9996  16.71661  16.69897  1345    301       3    162  5.033400e+17  GALAXY   \n",
       "9997  17.43302  17.42048  1345    301       3    162  8.222620e+18    STAR   \n",
       "9998  17.36284  17.13988  1345    301       3    163  5.033400e+17  GALAXY   \n",
       "9999  15.83548  15.50588  1345    301       3    163  5.033410e+17  GALAXY   \n",
       "\n",
       "      redshift  plate    mjd  fiberid  \n",
       "0    -0.000009   3306  54922      491  \n",
       "1    -0.000055    323  51615      541  \n",
       "2     0.123111    287  52023      513  \n",
       "3    -0.000111   3306  54922      510  \n",
       "4     0.000590   3306  54922      512  \n",
       "...        ...    ...    ...      ...  \n",
       "9995  0.027583    447  51877      246  \n",
       "9996  0.117772    447  51877      228  \n",
       "9997 -0.000402   7303  57013      622  \n",
       "9998  0.014019    447  51877      229  \n",
       "9999  0.118417    447  51877      233  \n",
       "\n",
       "[10000 rows x 18 columns]"
      ]
     },
     "execution_count": 2,
     "metadata": {},
     "output_type": "execute_result"
    }
   ],
   "source": [
    "ds=pd.read_csv('spaceserver.csv')\n",
    "ds"
   ]
  },
  {
   "cell_type": "code",
   "execution_count": 3,
   "metadata": {},
   "outputs": [
    {
     "data": {
      "text/plain": [
       "Index(['objid', 'ra', 'dec', 'u', 'g', 'r', 'i', 'z', 'run', 'rerun', 'camcol',\n",
       "       'field', 'specobjid', 'class', 'redshift', 'plate', 'mjd', 'fiberid'],\n",
       "      dtype='object')"
      ]
     },
     "execution_count": 3,
     "metadata": {},
     "output_type": "execute_result"
    }
   ],
   "source": [
    "#lets check the columns\n",
    "ds.columns"
   ]
  },
  {
   "cell_type": "markdown",
   "metadata": {},
   "source": [
    "#### Column descriptions:-"
   ]
  },
  {
   "cell_type": "markdown",
   "metadata": {},
   "source": [
    "objid = Object Identifier\n",
    "\n",
    "ra = J2000 Right Ascension (r-band)\n",
    "\n",
    "dec = J2000 Declination (r-band)\n",
    "\n",
    "u = better of DeV/Exp magnitude fit\n",
    "\n",
    "g = better of DeV/Exp magnitude fit\n",
    "\n",
    "r = better of DeV/Exp magnitude fit\n",
    "\n",
    "i = better of DeV/Exp magnitude fit\n",
    "\n",
    "z = better of DeV/Exp magnitude fit\n",
    "\n",
    "run = Run Number\n",
    "\n",
    "rereun = Rerun Number\n",
    "\n",
    "camcol = Camera column\n",
    "\n",
    "field = Field number\n",
    "\n",
    "specobjid = Object Identifier\n",
    "\n",
    "class = object class\n",
    "\n",
    "redshift = Final Redshift\n",
    "\n",
    "plate = plate number\n",
    "\n",
    "mjd = MJD of observation\n",
    "\n",
    "fiberid = fiber ID"
   ]
  },
  {
   "cell_type": "code",
   "execution_count": 4,
   "metadata": {},
   "outputs": [
    {
     "data": {
      "text/plain": [
       "objid        float64\n",
       "ra           float64\n",
       "dec          float64\n",
       "u            float64\n",
       "g            float64\n",
       "r            float64\n",
       "i            float64\n",
       "z            float64\n",
       "run            int64\n",
       "rerun          int64\n",
       "camcol         int64\n",
       "field          int64\n",
       "specobjid    float64\n",
       "class         object\n",
       "redshift     float64\n",
       "plate          int64\n",
       "mjd            int64\n",
       "fiberid        int64\n",
       "dtype: object"
      ]
     },
     "execution_count": 4,
     "metadata": {},
     "output_type": "execute_result"
    }
   ],
   "source": [
    "#lets check the datatypes of each columns\n",
    "ds.dtypes"
   ]
  },
  {
   "cell_type": "code",
   "execution_count": 5,
   "metadata": {},
   "outputs": [
    {
     "data": {
      "text/plain": [
       "array(['STAR', 'GALAXY', 'QSO'], dtype=object)"
      ]
     },
     "execution_count": 5,
     "metadata": {},
     "output_type": "execute_result"
    }
   ],
   "source": [
    "#find the different class objects\n",
    "ds['class'].unique()"
   ]
  },
  {
   "cell_type": "code",
   "execution_count": 6,
   "metadata": {},
   "outputs": [],
   "source": [
    "#All attributes are in float and integer datatypes except the target variable.lets map it into integer values\n",
    "ds['class']=ds['class'].replace({'STAR': 1, 'GALAXY': 2, 'QSO': 3})"
   ]
  },
  {
   "cell_type": "code",
   "execution_count": 7,
   "metadata": {},
   "outputs": [
    {
     "data": {
      "text/plain": [
       "2    4998\n",
       "1    4152\n",
       "3     850\n",
       "Name: class, dtype: int64"
      ]
     },
     "execution_count": 7,
     "metadata": {},
     "output_type": "execute_result"
    }
   ],
   "source": [
    "#lets find the counts of class column\n",
    "ds['class'].value_counts()"
   ]
  },
  {
   "cell_type": "code",
   "execution_count": 8,
   "metadata": {},
   "outputs": [
    {
     "data": {
      "text/plain": [
       "objid        0\n",
       "ra           0\n",
       "dec          0\n",
       "u            0\n",
       "g            0\n",
       "r            0\n",
       "i            0\n",
       "z            0\n",
       "run          0\n",
       "rerun        0\n",
       "camcol       0\n",
       "field        0\n",
       "specobjid    0\n",
       "class        0\n",
       "redshift     0\n",
       "plate        0\n",
       "mjd          0\n",
       "fiberid      0\n",
       "dtype: int64"
      ]
     },
     "execution_count": 8,
     "metadata": {},
     "output_type": "execute_result"
    }
   ],
   "source": [
    "#let us find whether there are any missing values in the data\n",
    "ds.isnull().sum()"
   ]
  },
  {
   "cell_type": "markdown",
   "metadata": {},
   "source": [
    "There are no missing values."
   ]
  },
  {
   "cell_type": "code",
   "execution_count": 9,
   "metadata": {},
   "outputs": [
    {
     "data": {
      "text/html": [
       "<div>\n",
       "<style scoped>\n",
       "    .dataframe tbody tr th:only-of-type {\n",
       "        vertical-align: middle;\n",
       "    }\n",
       "\n",
       "    .dataframe tbody tr th {\n",
       "        vertical-align: top;\n",
       "    }\n",
       "\n",
       "    .dataframe thead th {\n",
       "        text-align: right;\n",
       "    }\n",
       "</style>\n",
       "<table border=\"1\" class=\"dataframe\">\n",
       "  <thead>\n",
       "    <tr style=\"text-align: right;\">\n",
       "      <th></th>\n",
       "      <th>objid</th>\n",
       "      <th>ra</th>\n",
       "      <th>dec</th>\n",
       "      <th>u</th>\n",
       "      <th>g</th>\n",
       "      <th>r</th>\n",
       "      <th>i</th>\n",
       "      <th>z</th>\n",
       "      <th>run</th>\n",
       "      <th>rerun</th>\n",
       "      <th>camcol</th>\n",
       "      <th>field</th>\n",
       "      <th>specobjid</th>\n",
       "      <th>class</th>\n",
       "      <th>redshift</th>\n",
       "      <th>plate</th>\n",
       "      <th>mjd</th>\n",
       "      <th>fiberid</th>\n",
       "    </tr>\n",
       "  </thead>\n",
       "  <tbody>\n",
       "    <tr>\n",
       "      <th>count</th>\n",
       "      <td>1.000000e+04</td>\n",
       "      <td>10000.000000</td>\n",
       "      <td>10000.000000</td>\n",
       "      <td>10000.000000</td>\n",
       "      <td>10000.000000</td>\n",
       "      <td>10000.000000</td>\n",
       "      <td>10000.000000</td>\n",
       "      <td>10000.000000</td>\n",
       "      <td>10000.000000</td>\n",
       "      <td>10000.0</td>\n",
       "      <td>10000.000000</td>\n",
       "      <td>10000.000000</td>\n",
       "      <td>1.000000e+04</td>\n",
       "      <td>10000.000000</td>\n",
       "      <td>10000.000000</td>\n",
       "      <td>10000.000000</td>\n",
       "      <td>10000.000000</td>\n",
       "      <td>10000.000000</td>\n",
       "    </tr>\n",
       "    <tr>\n",
       "      <th>mean</th>\n",
       "      <td>1.237650e+18</td>\n",
       "      <td>175.529987</td>\n",
       "      <td>14.836148</td>\n",
       "      <td>18.619355</td>\n",
       "      <td>17.371931</td>\n",
       "      <td>16.840963</td>\n",
       "      <td>16.583579</td>\n",
       "      <td>16.422833</td>\n",
       "      <td>981.034800</td>\n",
       "      <td>301.0</td>\n",
       "      <td>3.648700</td>\n",
       "      <td>302.380100</td>\n",
       "      <td>1.645022e+18</td>\n",
       "      <td>1.669800</td>\n",
       "      <td>0.143726</td>\n",
       "      <td>1460.986400</td>\n",
       "      <td>52943.533300</td>\n",
       "      <td>353.069400</td>\n",
       "    </tr>\n",
       "    <tr>\n",
       "      <th>std</th>\n",
       "      <td>1.577039e+05</td>\n",
       "      <td>47.783439</td>\n",
       "      <td>25.212207</td>\n",
       "      <td>0.828656</td>\n",
       "      <td>0.945457</td>\n",
       "      <td>1.067764</td>\n",
       "      <td>1.141805</td>\n",
       "      <td>1.203188</td>\n",
       "      <td>273.305024</td>\n",
       "      <td>0.0</td>\n",
       "      <td>1.666183</td>\n",
       "      <td>162.577763</td>\n",
       "      <td>2.013998e+18</td>\n",
       "      <td>0.625465</td>\n",
       "      <td>0.388774</td>\n",
       "      <td>1788.778371</td>\n",
       "      <td>1511.150651</td>\n",
       "      <td>206.298149</td>\n",
       "    </tr>\n",
       "    <tr>\n",
       "      <th>min</th>\n",
       "      <td>1.237650e+18</td>\n",
       "      <td>8.235100</td>\n",
       "      <td>-5.382632</td>\n",
       "      <td>12.988970</td>\n",
       "      <td>12.799550</td>\n",
       "      <td>12.431600</td>\n",
       "      <td>11.947210</td>\n",
       "      <td>11.610410</td>\n",
       "      <td>308.000000</td>\n",
       "      <td>301.0</td>\n",
       "      <td>1.000000</td>\n",
       "      <td>11.000000</td>\n",
       "      <td>2.995780e+17</td>\n",
       "      <td>1.000000</td>\n",
       "      <td>-0.004136</td>\n",
       "      <td>266.000000</td>\n",
       "      <td>51578.000000</td>\n",
       "      <td>1.000000</td>\n",
       "    </tr>\n",
       "    <tr>\n",
       "      <th>25%</th>\n",
       "      <td>1.237650e+18</td>\n",
       "      <td>157.370946</td>\n",
       "      <td>-0.539035</td>\n",
       "      <td>18.178035</td>\n",
       "      <td>16.815100</td>\n",
       "      <td>16.173333</td>\n",
       "      <td>15.853705</td>\n",
       "      <td>15.618285</td>\n",
       "      <td>752.000000</td>\n",
       "      <td>301.0</td>\n",
       "      <td>2.000000</td>\n",
       "      <td>184.000000</td>\n",
       "      <td>3.389248e+17</td>\n",
       "      <td>1.000000</td>\n",
       "      <td>0.000081</td>\n",
       "      <td>301.000000</td>\n",
       "      <td>51900.000000</td>\n",
       "      <td>186.750000</td>\n",
       "    </tr>\n",
       "    <tr>\n",
       "      <th>50%</th>\n",
       "      <td>1.237650e+18</td>\n",
       "      <td>180.394514</td>\n",
       "      <td>0.404166</td>\n",
       "      <td>18.853095</td>\n",
       "      <td>17.495135</td>\n",
       "      <td>16.858770</td>\n",
       "      <td>16.554985</td>\n",
       "      <td>16.389945</td>\n",
       "      <td>756.000000</td>\n",
       "      <td>301.0</td>\n",
       "      <td>4.000000</td>\n",
       "      <td>299.000000</td>\n",
       "      <td>4.966580e+17</td>\n",
       "      <td>2.000000</td>\n",
       "      <td>0.042591</td>\n",
       "      <td>441.000000</td>\n",
       "      <td>51997.000000</td>\n",
       "      <td>351.000000</td>\n",
       "    </tr>\n",
       "    <tr>\n",
       "      <th>75%</th>\n",
       "      <td>1.237650e+18</td>\n",
       "      <td>201.547279</td>\n",
       "      <td>35.649397</td>\n",
       "      <td>19.259232</td>\n",
       "      <td>18.010145</td>\n",
       "      <td>17.512675</td>\n",
       "      <td>17.258550</td>\n",
       "      <td>17.141447</td>\n",
       "      <td>1331.000000</td>\n",
       "      <td>301.0</td>\n",
       "      <td>5.000000</td>\n",
       "      <td>414.000000</td>\n",
       "      <td>2.881300e+18</td>\n",
       "      <td>2.000000</td>\n",
       "      <td>0.092579</td>\n",
       "      <td>2559.000000</td>\n",
       "      <td>54468.000000</td>\n",
       "      <td>510.000000</td>\n",
       "    </tr>\n",
       "    <tr>\n",
       "      <th>max</th>\n",
       "      <td>1.237650e+18</td>\n",
       "      <td>260.884382</td>\n",
       "      <td>68.542265</td>\n",
       "      <td>19.599900</td>\n",
       "      <td>19.918970</td>\n",
       "      <td>24.802040</td>\n",
       "      <td>28.179630</td>\n",
       "      <td>22.833060</td>\n",
       "      <td>1412.000000</td>\n",
       "      <td>301.0</td>\n",
       "      <td>6.000000</td>\n",
       "      <td>768.000000</td>\n",
       "      <td>9.468830e+18</td>\n",
       "      <td>3.000000</td>\n",
       "      <td>5.353854</td>\n",
       "      <td>8410.000000</td>\n",
       "      <td>57481.000000</td>\n",
       "      <td>1000.000000</td>\n",
       "    </tr>\n",
       "  </tbody>\n",
       "</table>\n",
       "</div>"
      ],
      "text/plain": [
       "              objid            ra           dec             u             g  \\\n",
       "count  1.000000e+04  10000.000000  10000.000000  10000.000000  10000.000000   \n",
       "mean   1.237650e+18    175.529987     14.836148     18.619355     17.371931   \n",
       "std    1.577039e+05     47.783439     25.212207      0.828656      0.945457   \n",
       "min    1.237650e+18      8.235100     -5.382632     12.988970     12.799550   \n",
       "25%    1.237650e+18    157.370946     -0.539035     18.178035     16.815100   \n",
       "50%    1.237650e+18    180.394514      0.404166     18.853095     17.495135   \n",
       "75%    1.237650e+18    201.547279     35.649397     19.259232     18.010145   \n",
       "max    1.237650e+18    260.884382     68.542265     19.599900     19.918970   \n",
       "\n",
       "                  r             i             z           run    rerun  \\\n",
       "count  10000.000000  10000.000000  10000.000000  10000.000000  10000.0   \n",
       "mean      16.840963     16.583579     16.422833    981.034800    301.0   \n",
       "std        1.067764      1.141805      1.203188    273.305024      0.0   \n",
       "min       12.431600     11.947210     11.610410    308.000000    301.0   \n",
       "25%       16.173333     15.853705     15.618285    752.000000    301.0   \n",
       "50%       16.858770     16.554985     16.389945    756.000000    301.0   \n",
       "75%       17.512675     17.258550     17.141447   1331.000000    301.0   \n",
       "max       24.802040     28.179630     22.833060   1412.000000    301.0   \n",
       "\n",
       "             camcol         field     specobjid         class      redshift  \\\n",
       "count  10000.000000  10000.000000  1.000000e+04  10000.000000  10000.000000   \n",
       "mean       3.648700    302.380100  1.645022e+18      1.669800      0.143726   \n",
       "std        1.666183    162.577763  2.013998e+18      0.625465      0.388774   \n",
       "min        1.000000     11.000000  2.995780e+17      1.000000     -0.004136   \n",
       "25%        2.000000    184.000000  3.389248e+17      1.000000      0.000081   \n",
       "50%        4.000000    299.000000  4.966580e+17      2.000000      0.042591   \n",
       "75%        5.000000    414.000000  2.881300e+18      2.000000      0.092579   \n",
       "max        6.000000    768.000000  9.468830e+18      3.000000      5.353854   \n",
       "\n",
       "              plate           mjd       fiberid  \n",
       "count  10000.000000  10000.000000  10000.000000  \n",
       "mean    1460.986400  52943.533300    353.069400  \n",
       "std     1788.778371   1511.150651    206.298149  \n",
       "min      266.000000  51578.000000      1.000000  \n",
       "25%      301.000000  51900.000000    186.750000  \n",
       "50%      441.000000  51997.000000    351.000000  \n",
       "75%     2559.000000  54468.000000    510.000000  \n",
       "max     8410.000000  57481.000000   1000.000000  "
      ]
     },
     "execution_count": 9,
     "metadata": {},
     "output_type": "execute_result"
    }
   ],
   "source": [
    "#lets check for summary statistics\n",
    "ds.describe()"
   ]
  },
  {
   "cell_type": "markdown",
   "metadata": {},
   "source": [
    "### Observations:-"
   ]
  },
  {
   "cell_type": "markdown",
   "metadata": {},
   "source": [
    "1. The objid and rerun has the same value for mean,min,median,25th & 75th percentiles and max value.Hence the field consists of a constant value throughout.\n",
    "2. There is a large gap between the 75th percentile and max values in the columns field,redshift,plate,fiberid.Hence there may be certain outliers."
   ]
  },
  {
   "cell_type": "code",
   "execution_count": 10,
   "metadata": {},
   "outputs": [
    {
     "data": {
      "text/html": [
       "<div>\n",
       "<style scoped>\n",
       "    .dataframe tbody tr th:only-of-type {\n",
       "        vertical-align: middle;\n",
       "    }\n",
       "\n",
       "    .dataframe tbody tr th {\n",
       "        vertical-align: top;\n",
       "    }\n",
       "\n",
       "    .dataframe thead th {\n",
       "        text-align: right;\n",
       "    }\n",
       "</style>\n",
       "<table border=\"1\" class=\"dataframe\">\n",
       "  <thead>\n",
       "    <tr style=\"text-align: right;\">\n",
       "      <th></th>\n",
       "      <th>objid</th>\n",
       "      <th>ra</th>\n",
       "      <th>dec</th>\n",
       "      <th>u</th>\n",
       "      <th>g</th>\n",
       "      <th>r</th>\n",
       "      <th>i</th>\n",
       "      <th>z</th>\n",
       "      <th>run</th>\n",
       "      <th>rerun</th>\n",
       "      <th>camcol</th>\n",
       "      <th>field</th>\n",
       "      <th>specobjid</th>\n",
       "      <th>class</th>\n",
       "      <th>redshift</th>\n",
       "      <th>plate</th>\n",
       "      <th>mjd</th>\n",
       "      <th>fiberid</th>\n",
       "    </tr>\n",
       "  </thead>\n",
       "  <tbody>\n",
       "    <tr>\n",
       "      <th>objid</th>\n",
       "      <td>1.000000e+00</td>\n",
       "      <td>2.524419e-14</td>\n",
       "      <td>-1.937483e-15</td>\n",
       "      <td>5.581214e-14</td>\n",
       "      <td>1.001149e-13</td>\n",
       "      <td>2.995673e-14</td>\n",
       "      <td>2.212198e-14</td>\n",
       "      <td>-4.107700e-14</td>\n",
       "      <td>-1.553011e-14</td>\n",
       "      <td>NaN</td>\n",
       "      <td>1.921887e-15</td>\n",
       "      <td>5.938881e-16</td>\n",
       "      <td>-1.829075e-15</td>\n",
       "      <td>1.442555e-15</td>\n",
       "      <td>5.085882e-16</td>\n",
       "      <td>4.156934e-16</td>\n",
       "      <td>-3.317582e-15</td>\n",
       "      <td>4.665195e-15</td>\n",
       "    </tr>\n",
       "    <tr>\n",
       "      <th>ra</th>\n",
       "      <td>2.524419e-14</td>\n",
       "      <td>1.000000e+00</td>\n",
       "      <td>3.596046e-03</td>\n",
       "      <td>3.123756e-02</td>\n",
       "      <td>4.390863e-02</td>\n",
       "      <td>4.710290e-02</td>\n",
       "      <td>4.573107e-02</td>\n",
       "      <td>4.294957e-02</td>\n",
       "      <td>-9.274056e-02</td>\n",
       "      <td>NaN</td>\n",
       "      <td>-6.293831e-03</td>\n",
       "      <td>5.946996e-01</td>\n",
       "      <td>-9.532711e-02</td>\n",
       "      <td>4.118918e-02</td>\n",
       "      <td>3.030740e-02</td>\n",
       "      <td>-9.532933e-02</td>\n",
       "      <td>-8.688726e-02</td>\n",
       "      <td>5.748482e-02</td>\n",
       "    </tr>\n",
       "    <tr>\n",
       "      <th>dec</th>\n",
       "      <td>-1.937483e-15</td>\n",
       "      <td>3.596046e-03</td>\n",
       "      <td>1.000000e+00</td>\n",
       "      <td>3.527932e-02</td>\n",
       "      <td>6.187471e-02</td>\n",
       "      <td>6.340395e-02</td>\n",
       "      <td>5.829189e-02</td>\n",
       "      <td>5.687030e-02</td>\n",
       "      <td>7.783849e-01</td>\n",
       "      <td>NaN</td>\n",
       "      <td>1.146139e-01</td>\n",
       "      <td>-1.314714e-01</td>\n",
       "      <td>8.834533e-02</td>\n",
       "      <td>9.124866e-02</td>\n",
       "      <td>6.702076e-02</td>\n",
       "      <td>8.834153e-02</td>\n",
       "      <td>6.614663e-02</td>\n",
       "      <td>1.550124e-01</td>\n",
       "    </tr>\n",
       "    <tr>\n",
       "      <th>u</th>\n",
       "      <td>5.581214e-14</td>\n",
       "      <td>3.123756e-02</td>\n",
       "      <td>3.527932e-02</td>\n",
       "      <td>1.000000e+00</td>\n",
       "      <td>8.492320e-01</td>\n",
       "      <td>6.923790e-01</td>\n",
       "      <td>6.026302e-01</td>\n",
       "      <td>5.514828e-01</td>\n",
       "      <td>3.822910e-02</td>\n",
       "      <td>NaN</td>\n",
       "      <td>9.944672e-03</td>\n",
       "      <td>8.547880e-03</td>\n",
       "      <td>-1.294293e-01</td>\n",
       "      <td>2.845415e-01</td>\n",
       "      <td>1.637409e-01</td>\n",
       "      <td>-1.294304e-01</td>\n",
       "      <td>-1.687927e-01</td>\n",
       "      <td>1.130112e-02</td>\n",
       "    </tr>\n",
       "    <tr>\n",
       "      <th>g</th>\n",
       "      <td>1.001149e-13</td>\n",
       "      <td>4.390863e-02</td>\n",
       "      <td>6.187471e-02</td>\n",
       "      <td>8.492320e-01</td>\n",
       "      <td>1.000000e+00</td>\n",
       "      <td>9.581062e-01</td>\n",
       "      <td>9.074187e-01</td>\n",
       "      <td>8.796222e-01</td>\n",
       "      <td>5.844630e-02</td>\n",
       "      <td>NaN</td>\n",
       "      <td>1.022304e-02</td>\n",
       "      <td>1.465110e-02</td>\n",
       "      <td>-5.497908e-02</td>\n",
       "      <td>3.573522e-01</td>\n",
       "      <td>4.075763e-01</td>\n",
       "      <td>-5.498078e-02</td>\n",
       "      <td>-9.277155e-02</td>\n",
       "      <td>4.718739e-02</td>\n",
       "    </tr>\n",
       "    <tr>\n",
       "      <th>r</th>\n",
       "      <td>2.995673e-14</td>\n",
       "      <td>4.710290e-02</td>\n",
       "      <td>6.340395e-02</td>\n",
       "      <td>6.923790e-01</td>\n",
       "      <td>9.581062e-01</td>\n",
       "      <td>1.000000e+00</td>\n",
       "      <td>9.776718e-01</td>\n",
       "      <td>9.691967e-01</td>\n",
       "      <td>5.726060e-02</td>\n",
       "      <td>NaN</td>\n",
       "      <td>1.074725e-02</td>\n",
       "      <td>1.713294e-02</td>\n",
       "      <td>1.978831e-02</td>\n",
       "      <td>2.786783e-01</td>\n",
       "      <td>4.410797e-01</td>\n",
       "      <td>1.978671e-02</td>\n",
       "      <td>-9.344506e-03</td>\n",
       "      <td>6.108141e-02</td>\n",
       "    </tr>\n",
       "    <tr>\n",
       "      <th>i</th>\n",
       "      <td>2.212198e-14</td>\n",
       "      <td>4.573107e-02</td>\n",
       "      <td>5.829189e-02</td>\n",
       "      <td>6.026302e-01</td>\n",
       "      <td>9.074187e-01</td>\n",
       "      <td>9.776718e-01</td>\n",
       "      <td>1.000000e+00</td>\n",
       "      <td>9.815066e-01</td>\n",
       "      <td>4.976478e-02</td>\n",
       "      <td>NaN</td>\n",
       "      <td>1.346079e-02</td>\n",
       "      <td>1.978147e-02</td>\n",
       "      <td>7.295994e-02</td>\n",
       "      <td>2.053670e-01</td>\n",
       "      <td>4.314500e-01</td>\n",
       "      <td>7.295843e-02</td>\n",
       "      <td>5.089616e-02</td>\n",
       "      <td>6.997739e-02</td>\n",
       "    </tr>\n",
       "    <tr>\n",
       "      <th>z</th>\n",
       "      <td>-4.107700e-14</td>\n",
       "      <td>4.294957e-02</td>\n",
       "      <td>5.687030e-02</td>\n",
       "      <td>5.514828e-01</td>\n",
       "      <td>8.796222e-01</td>\n",
       "      <td>9.691967e-01</td>\n",
       "      <td>9.815066e-01</td>\n",
       "      <td>1.000000e+00</td>\n",
       "      <td>4.825225e-02</td>\n",
       "      <td>NaN</td>\n",
       "      <td>1.092981e-02</td>\n",
       "      <td>1.824845e-02</td>\n",
       "      <td>1.123981e-01</td>\n",
       "      <td>1.494443e-01</td>\n",
       "      <td>4.240342e-01</td>\n",
       "      <td>1.123969e-01</td>\n",
       "      <td>9.565845e-02</td>\n",
       "      <td>6.797999e-02</td>\n",
       "    </tr>\n",
       "    <tr>\n",
       "      <th>run</th>\n",
       "      <td>-1.553011e-14</td>\n",
       "      <td>-9.274056e-02</td>\n",
       "      <td>7.783849e-01</td>\n",
       "      <td>3.822910e-02</td>\n",
       "      <td>5.844630e-02</td>\n",
       "      <td>5.726060e-02</td>\n",
       "      <td>4.976478e-02</td>\n",
       "      <td>4.825225e-02</td>\n",
       "      <td>1.000000e+00</td>\n",
       "      <td>NaN</td>\n",
       "      <td>1.518143e-01</td>\n",
       "      <td>-4.638975e-01</td>\n",
       "      <td>9.360436e-02</td>\n",
       "      <td>1.006273e-01</td>\n",
       "      <td>5.905595e-02</td>\n",
       "      <td>9.360107e-02</td>\n",
       "      <td>7.035433e-02</td>\n",
       "      <td>1.385659e-01</td>\n",
       "    </tr>\n",
       "    <tr>\n",
       "      <th>rerun</th>\n",
       "      <td>NaN</td>\n",
       "      <td>NaN</td>\n",
       "      <td>NaN</td>\n",
       "      <td>NaN</td>\n",
       "      <td>NaN</td>\n",
       "      <td>NaN</td>\n",
       "      <td>NaN</td>\n",
       "      <td>NaN</td>\n",
       "      <td>NaN</td>\n",
       "      <td>NaN</td>\n",
       "      <td>NaN</td>\n",
       "      <td>NaN</td>\n",
       "      <td>NaN</td>\n",
       "      <td>NaN</td>\n",
       "      <td>NaN</td>\n",
       "      <td>NaN</td>\n",
       "      <td>NaN</td>\n",
       "      <td>NaN</td>\n",
       "    </tr>\n",
       "    <tr>\n",
       "      <th>camcol</th>\n",
       "      <td>1.921887e-15</td>\n",
       "      <td>-6.293831e-03</td>\n",
       "      <td>1.146139e-01</td>\n",
       "      <td>9.944672e-03</td>\n",
       "      <td>1.022304e-02</td>\n",
       "      <td>1.074725e-02</td>\n",
       "      <td>1.346079e-02</td>\n",
       "      <td>1.092981e-02</td>\n",
       "      <td>1.518143e-01</td>\n",
       "      <td>NaN</td>\n",
       "      <td>1.000000e+00</td>\n",
       "      <td>-6.792055e-02</td>\n",
       "      <td>4.080943e-02</td>\n",
       "      <td>1.026907e-02</td>\n",
       "      <td>6.833537e-03</td>\n",
       "      <td>4.079461e-02</td>\n",
       "      <td>2.628396e-02</td>\n",
       "      <td>5.356292e-01</td>\n",
       "    </tr>\n",
       "    <tr>\n",
       "      <th>field</th>\n",
       "      <td>5.938881e-16</td>\n",
       "      <td>5.946996e-01</td>\n",
       "      <td>-1.314714e-01</td>\n",
       "      <td>8.547880e-03</td>\n",
       "      <td>1.465110e-02</td>\n",
       "      <td>1.713294e-02</td>\n",
       "      <td>1.978147e-02</td>\n",
       "      <td>1.824845e-02</td>\n",
       "      <td>-4.638975e-01</td>\n",
       "      <td>NaN</td>\n",
       "      <td>-6.792055e-02</td>\n",
       "      <td>1.000000e+00</td>\n",
       "      <td>-9.372375e-02</td>\n",
       "      <td>-2.610148e-03</td>\n",
       "      <td>1.541360e-02</td>\n",
       "      <td>-9.372323e-02</td>\n",
       "      <td>-8.655805e-02</td>\n",
       "      <td>-4.049295e-02</td>\n",
       "    </tr>\n",
       "    <tr>\n",
       "      <th>specobjid</th>\n",
       "      <td>-1.829075e-15</td>\n",
       "      <td>-9.532711e-02</td>\n",
       "      <td>8.834533e-02</td>\n",
       "      <td>-1.294293e-01</td>\n",
       "      <td>-5.497908e-02</td>\n",
       "      <td>1.978831e-02</td>\n",
       "      <td>7.295994e-02</td>\n",
       "      <td>1.123981e-01</td>\n",
       "      <td>9.360436e-02</td>\n",
       "      <td>NaN</td>\n",
       "      <td>4.080943e-02</td>\n",
       "      <td>-9.372375e-02</td>\n",
       "      <td>1.000000e+00</td>\n",
       "      <td>-4.660012e-01</td>\n",
       "      <td>-3.808992e-02</td>\n",
       "      <td>1.000000e+00</td>\n",
       "      <td>9.668799e-01</td>\n",
       "      <td>2.298375e-01</td>\n",
       "    </tr>\n",
       "    <tr>\n",
       "      <th>class</th>\n",
       "      <td>1.442555e-15</td>\n",
       "      <td>4.118918e-02</td>\n",
       "      <td>9.124866e-02</td>\n",
       "      <td>2.845415e-01</td>\n",
       "      <td>3.573522e-01</td>\n",
       "      <td>2.786783e-01</td>\n",
       "      <td>2.053670e-01</td>\n",
       "      <td>1.494443e-01</td>\n",
       "      <td>1.006273e-01</td>\n",
       "      <td>NaN</td>\n",
       "      <td>1.026907e-02</td>\n",
       "      <td>-2.610148e-03</td>\n",
       "      <td>-4.660012e-01</td>\n",
       "      <td>1.000000e+00</td>\n",
       "      <td>6.210460e-01</td>\n",
       "      <td>-4.660039e-01</td>\n",
       "      <td>-5.278030e-01</td>\n",
       "      <td>-1.266851e-02</td>\n",
       "    </tr>\n",
       "    <tr>\n",
       "      <th>redshift</th>\n",
       "      <td>5.085882e-16</td>\n",
       "      <td>3.030740e-02</td>\n",
       "      <td>6.702076e-02</td>\n",
       "      <td>1.637409e-01</td>\n",
       "      <td>4.075763e-01</td>\n",
       "      <td>4.410797e-01</td>\n",
       "      <td>4.314500e-01</td>\n",
       "      <td>4.240342e-01</td>\n",
       "      <td>5.905595e-02</td>\n",
       "      <td>NaN</td>\n",
       "      <td>6.833537e-03</td>\n",
       "      <td>1.541360e-02</td>\n",
       "      <td>-3.808992e-02</td>\n",
       "      <td>6.210460e-01</td>\n",
       "      <td>1.000000e+00</td>\n",
       "      <td>-3.809149e-02</td>\n",
       "      <td>-5.795732e-02</td>\n",
       "      <td>4.653223e-02</td>\n",
       "    </tr>\n",
       "    <tr>\n",
       "      <th>plate</th>\n",
       "      <td>4.156934e-16</td>\n",
       "      <td>-9.532933e-02</td>\n",
       "      <td>8.834153e-02</td>\n",
       "      <td>-1.294304e-01</td>\n",
       "      <td>-5.498078e-02</td>\n",
       "      <td>1.978671e-02</td>\n",
       "      <td>7.295843e-02</td>\n",
       "      <td>1.123969e-01</td>\n",
       "      <td>9.360107e-02</td>\n",
       "      <td>NaN</td>\n",
       "      <td>4.079461e-02</td>\n",
       "      <td>-9.372323e-02</td>\n",
       "      <td>1.000000e+00</td>\n",
       "      <td>-4.660039e-01</td>\n",
       "      <td>-3.809149e-02</td>\n",
       "      <td>1.000000e+00</td>\n",
       "      <td>9.668808e-01</td>\n",
       "      <td>2.298108e-01</td>\n",
       "    </tr>\n",
       "    <tr>\n",
       "      <th>mjd</th>\n",
       "      <td>-3.317582e-15</td>\n",
       "      <td>-8.688726e-02</td>\n",
       "      <td>6.614663e-02</td>\n",
       "      <td>-1.687927e-01</td>\n",
       "      <td>-9.277155e-02</td>\n",
       "      <td>-9.344506e-03</td>\n",
       "      <td>5.089616e-02</td>\n",
       "      <td>9.565845e-02</td>\n",
       "      <td>7.035433e-02</td>\n",
       "      <td>NaN</td>\n",
       "      <td>2.628396e-02</td>\n",
       "      <td>-8.655805e-02</td>\n",
       "      <td>9.668799e-01</td>\n",
       "      <td>-5.278030e-01</td>\n",
       "      <td>-5.795732e-02</td>\n",
       "      <td>9.668808e-01</td>\n",
       "      <td>1.000000e+00</td>\n",
       "      <td>1.903281e-01</td>\n",
       "    </tr>\n",
       "    <tr>\n",
       "      <th>fiberid</th>\n",
       "      <td>4.665195e-15</td>\n",
       "      <td>5.748482e-02</td>\n",
       "      <td>1.550124e-01</td>\n",
       "      <td>1.130112e-02</td>\n",
       "      <td>4.718739e-02</td>\n",
       "      <td>6.108141e-02</td>\n",
       "      <td>6.997739e-02</td>\n",
       "      <td>6.797999e-02</td>\n",
       "      <td>1.385659e-01</td>\n",
       "      <td>NaN</td>\n",
       "      <td>5.356292e-01</td>\n",
       "      <td>-4.049295e-02</td>\n",
       "      <td>2.298375e-01</td>\n",
       "      <td>-1.266851e-02</td>\n",
       "      <td>4.653223e-02</td>\n",
       "      <td>2.298108e-01</td>\n",
       "      <td>1.903281e-01</td>\n",
       "      <td>1.000000e+00</td>\n",
       "    </tr>\n",
       "  </tbody>\n",
       "</table>\n",
       "</div>"
      ],
      "text/plain": [
       "                  objid            ra           dec             u  \\\n",
       "objid      1.000000e+00  2.524419e-14 -1.937483e-15  5.581214e-14   \n",
       "ra         2.524419e-14  1.000000e+00  3.596046e-03  3.123756e-02   \n",
       "dec       -1.937483e-15  3.596046e-03  1.000000e+00  3.527932e-02   \n",
       "u          5.581214e-14  3.123756e-02  3.527932e-02  1.000000e+00   \n",
       "g          1.001149e-13  4.390863e-02  6.187471e-02  8.492320e-01   \n",
       "r          2.995673e-14  4.710290e-02  6.340395e-02  6.923790e-01   \n",
       "i          2.212198e-14  4.573107e-02  5.829189e-02  6.026302e-01   \n",
       "z         -4.107700e-14  4.294957e-02  5.687030e-02  5.514828e-01   \n",
       "run       -1.553011e-14 -9.274056e-02  7.783849e-01  3.822910e-02   \n",
       "rerun               NaN           NaN           NaN           NaN   \n",
       "camcol     1.921887e-15 -6.293831e-03  1.146139e-01  9.944672e-03   \n",
       "field      5.938881e-16  5.946996e-01 -1.314714e-01  8.547880e-03   \n",
       "specobjid -1.829075e-15 -9.532711e-02  8.834533e-02 -1.294293e-01   \n",
       "class      1.442555e-15  4.118918e-02  9.124866e-02  2.845415e-01   \n",
       "redshift   5.085882e-16  3.030740e-02  6.702076e-02  1.637409e-01   \n",
       "plate      4.156934e-16 -9.532933e-02  8.834153e-02 -1.294304e-01   \n",
       "mjd       -3.317582e-15 -8.688726e-02  6.614663e-02 -1.687927e-01   \n",
       "fiberid    4.665195e-15  5.748482e-02  1.550124e-01  1.130112e-02   \n",
       "\n",
       "                      g             r             i             z  \\\n",
       "objid      1.001149e-13  2.995673e-14  2.212198e-14 -4.107700e-14   \n",
       "ra         4.390863e-02  4.710290e-02  4.573107e-02  4.294957e-02   \n",
       "dec        6.187471e-02  6.340395e-02  5.829189e-02  5.687030e-02   \n",
       "u          8.492320e-01  6.923790e-01  6.026302e-01  5.514828e-01   \n",
       "g          1.000000e+00  9.581062e-01  9.074187e-01  8.796222e-01   \n",
       "r          9.581062e-01  1.000000e+00  9.776718e-01  9.691967e-01   \n",
       "i          9.074187e-01  9.776718e-01  1.000000e+00  9.815066e-01   \n",
       "z          8.796222e-01  9.691967e-01  9.815066e-01  1.000000e+00   \n",
       "run        5.844630e-02  5.726060e-02  4.976478e-02  4.825225e-02   \n",
       "rerun               NaN           NaN           NaN           NaN   \n",
       "camcol     1.022304e-02  1.074725e-02  1.346079e-02  1.092981e-02   \n",
       "field      1.465110e-02  1.713294e-02  1.978147e-02  1.824845e-02   \n",
       "specobjid -5.497908e-02  1.978831e-02  7.295994e-02  1.123981e-01   \n",
       "class      3.573522e-01  2.786783e-01  2.053670e-01  1.494443e-01   \n",
       "redshift   4.075763e-01  4.410797e-01  4.314500e-01  4.240342e-01   \n",
       "plate     -5.498078e-02  1.978671e-02  7.295843e-02  1.123969e-01   \n",
       "mjd       -9.277155e-02 -9.344506e-03  5.089616e-02  9.565845e-02   \n",
       "fiberid    4.718739e-02  6.108141e-02  6.997739e-02  6.797999e-02   \n",
       "\n",
       "                    run  rerun        camcol         field     specobjid  \\\n",
       "objid     -1.553011e-14    NaN  1.921887e-15  5.938881e-16 -1.829075e-15   \n",
       "ra        -9.274056e-02    NaN -6.293831e-03  5.946996e-01 -9.532711e-02   \n",
       "dec        7.783849e-01    NaN  1.146139e-01 -1.314714e-01  8.834533e-02   \n",
       "u          3.822910e-02    NaN  9.944672e-03  8.547880e-03 -1.294293e-01   \n",
       "g          5.844630e-02    NaN  1.022304e-02  1.465110e-02 -5.497908e-02   \n",
       "r          5.726060e-02    NaN  1.074725e-02  1.713294e-02  1.978831e-02   \n",
       "i          4.976478e-02    NaN  1.346079e-02  1.978147e-02  7.295994e-02   \n",
       "z          4.825225e-02    NaN  1.092981e-02  1.824845e-02  1.123981e-01   \n",
       "run        1.000000e+00    NaN  1.518143e-01 -4.638975e-01  9.360436e-02   \n",
       "rerun               NaN    NaN           NaN           NaN           NaN   \n",
       "camcol     1.518143e-01    NaN  1.000000e+00 -6.792055e-02  4.080943e-02   \n",
       "field     -4.638975e-01    NaN -6.792055e-02  1.000000e+00 -9.372375e-02   \n",
       "specobjid  9.360436e-02    NaN  4.080943e-02 -9.372375e-02  1.000000e+00   \n",
       "class      1.006273e-01    NaN  1.026907e-02 -2.610148e-03 -4.660012e-01   \n",
       "redshift   5.905595e-02    NaN  6.833537e-03  1.541360e-02 -3.808992e-02   \n",
       "plate      9.360107e-02    NaN  4.079461e-02 -9.372323e-02  1.000000e+00   \n",
       "mjd        7.035433e-02    NaN  2.628396e-02 -8.655805e-02  9.668799e-01   \n",
       "fiberid    1.385659e-01    NaN  5.356292e-01 -4.049295e-02  2.298375e-01   \n",
       "\n",
       "                  class      redshift         plate           mjd  \\\n",
       "objid      1.442555e-15  5.085882e-16  4.156934e-16 -3.317582e-15   \n",
       "ra         4.118918e-02  3.030740e-02 -9.532933e-02 -8.688726e-02   \n",
       "dec        9.124866e-02  6.702076e-02  8.834153e-02  6.614663e-02   \n",
       "u          2.845415e-01  1.637409e-01 -1.294304e-01 -1.687927e-01   \n",
       "g          3.573522e-01  4.075763e-01 -5.498078e-02 -9.277155e-02   \n",
       "r          2.786783e-01  4.410797e-01  1.978671e-02 -9.344506e-03   \n",
       "i          2.053670e-01  4.314500e-01  7.295843e-02  5.089616e-02   \n",
       "z          1.494443e-01  4.240342e-01  1.123969e-01  9.565845e-02   \n",
       "run        1.006273e-01  5.905595e-02  9.360107e-02  7.035433e-02   \n",
       "rerun               NaN           NaN           NaN           NaN   \n",
       "camcol     1.026907e-02  6.833537e-03  4.079461e-02  2.628396e-02   \n",
       "field     -2.610148e-03  1.541360e-02 -9.372323e-02 -8.655805e-02   \n",
       "specobjid -4.660012e-01 -3.808992e-02  1.000000e+00  9.668799e-01   \n",
       "class      1.000000e+00  6.210460e-01 -4.660039e-01 -5.278030e-01   \n",
       "redshift   6.210460e-01  1.000000e+00 -3.809149e-02 -5.795732e-02   \n",
       "plate     -4.660039e-01 -3.809149e-02  1.000000e+00  9.668808e-01   \n",
       "mjd       -5.278030e-01 -5.795732e-02  9.668808e-01  1.000000e+00   \n",
       "fiberid   -1.266851e-02  4.653223e-02  2.298108e-01  1.903281e-01   \n",
       "\n",
       "                fiberid  \n",
       "objid      4.665195e-15  \n",
       "ra         5.748482e-02  \n",
       "dec        1.550124e-01  \n",
       "u          1.130112e-02  \n",
       "g          4.718739e-02  \n",
       "r          6.108141e-02  \n",
       "i          6.997739e-02  \n",
       "z          6.797999e-02  \n",
       "run        1.385659e-01  \n",
       "rerun               NaN  \n",
       "camcol     5.356292e-01  \n",
       "field     -4.049295e-02  \n",
       "specobjid  2.298375e-01  \n",
       "class     -1.266851e-02  \n",
       "redshift   4.653223e-02  \n",
       "plate      2.298108e-01  \n",
       "mjd        1.903281e-01  \n",
       "fiberid    1.000000e+00  "
      ]
     },
     "execution_count": 10,
     "metadata": {},
     "output_type": "execute_result"
    }
   ],
   "source": [
    "#lets check the correlation\n",
    "ds.corr()"
   ]
  },
  {
   "cell_type": "markdown",
   "metadata": {},
   "source": [
    "The rerun attribute shows nan values, which means that it has no correlation with any other data ,hence we can drop it."
   ]
  },
  {
   "cell_type": "code",
   "execution_count": 11,
   "metadata": {},
   "outputs": [
    {
     "data": {
      "image/png": "[encoded data removed]",
      "text/plain": [
       "<Figure size 1440x1440 with 2 Axes>"
      ]
     },
     "metadata": {
      "needs_background": "light"
     },
     "output_type": "display_data"
    }
   ],
   "source": [
    "#lets visualize correlation graphically to understand better\n",
    "plt.figure(figsize=(20,20))\n",
    "sns.heatmap(ds.corr(),annot=True)\n",
    "plt.show()"
   ]
  },
  {
   "cell_type": "markdown",
   "metadata": {},
   "source": [
    "1. Our target varibale shows strict negative correlation with:-mjd,plate and spaceobjid and strong positive correlation with redshift.\n",
    "2. The objid is showing exponential relation with our target hence we can neglect it while training. "
   ]
  },
  {
   "cell_type": "code",
   "execution_count": 12,
   "metadata": {},
   "outputs": [
    {
     "data": {
      "image/png": "[encoded data removed]",
      "text/plain": [
       "<Figure size 432x288 with 1 Axes>"
      ]
     },
     "metadata": {
      "needs_background": "light"
     },
     "output_type": "display_data"
    },
    {
     "name": "stdout",
     "output_type": "stream",
     "text": [
      "2    4998\n",
      "1    4152\n",
      "3     850\n",
      "Name: class, dtype: int64\n"
     ]
    }
   ],
   "source": [
    "#checking the counts for different classes\n",
    "plt.figure()\n",
    "sns.countplot(x='class',data=ds)\n",
    "plt.show()\n",
    "print(ds['class'].value_counts())"
   ]
  },
  {
   "cell_type": "markdown",
   "metadata": {},
   "source": [
    "The most number of objects identified are galaxy and the least identified are quasar."
   ]
  },
  {
   "cell_type": "code",
   "execution_count": 13,
   "metadata": {},
   "outputs": [
    {
     "data": {
      "image/png": "[encoded data removed]",
      "text/plain": [
       "<Figure size 1080x720 with 1 Axes>"
      ]
     },
     "metadata": {
      "needs_background": "light"
     },
     "output_type": "display_data"
    },
    {
     "name": "stdout",
     "output_type": "stream",
     "text": [
      "class  run \n",
      "1      756     1291\n",
      "       752     1029\n",
      "       1350     280\n",
      "       1345     251\n",
      "       745      196\n",
      "               ... \n",
      "3      1334       9\n",
      "       1402       3\n",
      "       727        1\n",
      "       1119       1\n",
      "       1411       1\n",
      "Name: run, Length: 62, dtype: int64\n"
     ]
    }
   ],
   "source": [
    "plt.figure(figsize=(15,10))\n",
    "sns.countplot(x='run',hue='class',data=ds)\n",
    "plt.show()\n",
    "print(ds.groupby('class')['run'].value_counts())"
   ]
  },
  {
   "cell_type": "markdown",
   "metadata": {},
   "source": [
    "for run number 756 maximum number of objects are identified and for run number 1119 and 1132 least number of objects are identified."
   ]
  },
  {
   "cell_type": "code",
   "execution_count": 14,
   "metadata": {},
   "outputs": [
    {
     "data": {
      "text/plain": [
       "<matplotlib.axes._subplots.AxesSubplot at 0x21e37701df0>"
      ]
     },
     "execution_count": 14,
     "metadata": {},
     "output_type": "execute_result"
    },
    {
     "data": {
      "image/png": "[encoded data removed]",
      "text/plain": [
       "<Figure size 432x288 with 1 Axes>"
      ]
     },
     "metadata": {
      "needs_background": "light"
     },
     "output_type": "display_data"
    }
   ],
   "source": [
    "sns.scatterplot(x='g',y='class',data=ds)"
   ]
  },
  {
   "cell_type": "markdown",
   "metadata": {},
   "source": [
    "For an object to be quasar the g-fit number should be greater than 15.5. All objects with g-fit greater than 15.5 are not always quasar"
   ]
  },
  {
   "cell_type": "code",
   "execution_count": 15,
   "metadata": {},
   "outputs": [
    {
     "data": {
      "text/plain": [
       "<matplotlib.axes._subplots.AxesSubplot at 0x21e3786adc0>"
      ]
     },
     "execution_count": 15,
     "metadata": {},
     "output_type": "execute_result"
    },
    {
     "data": {
      "image/png": "[encoded data removed]",
      "text/plain": [
       "<Figure size 432x288 with 1 Axes>"
      ]
     },
     "metadata": {
      "needs_background": "light"
     },
     "output_type": "display_data"
    }
   ],
   "source": [
    "sns.scatterplot(x='u',y='class',data=ds)"
   ]
  },
  {
   "cell_type": "markdown",
   "metadata": {},
   "source": [
    "Objects with u-fit number below than 14 could not be galaxy or quasar."
   ]
  },
  {
   "cell_type": "code",
   "execution_count": 16,
   "metadata": {},
   "outputs": [
    {
     "data": {
      "text/plain": [
       "<matplotlib.axes._subplots.AxesSubplot at 0x21e378b1a60>"
      ]
     },
     "execution_count": 16,
     "metadata": {},
     "output_type": "execute_result"
    },
    {
     "data": {
      "image/png": "[encoded data removed]",
      "text/plain": [
       "<Figure size 432x288 with 1 Axes>"
      ]
     },
     "metadata": {
      "needs_background": "light"
     },
     "output_type": "display_data"
    }
   ],
   "source": [
    "sns.scatterplot(x='r',y='class',data=ds)"
   ]
  },
  {
   "cell_type": "markdown",
   "metadata": {},
   "source": [
    "Objects with r-fit number beyond 21 cannot be quasar and there are only two objects identified beyond it as galaxy or star. So there is a 50% likely chances of a new object to be identified beyond this limit to be a star or galaxy.  "
   ]
  },
  {
   "cell_type": "code",
   "execution_count": 17,
   "metadata": {},
   "outputs": [
    {
     "data": {
      "text/plain": [
       "<matplotlib.axes._subplots.AxesSubplot at 0x21e3786a610>"
      ]
     },
     "execution_count": 17,
     "metadata": {},
     "output_type": "execute_result"
    },
    {
     "data": {
      "image/png": "[encoded data removed]",
      "text/plain": [
       "<Figure size 432x288 with 1 Axes>"
      ]
     },
     "metadata": {
      "needs_background": "light"
     },
     "output_type": "display_data"
    }
   ],
   "source": [
    "sns.scatterplot(x='i',y='class',data=ds)"
   ]
  },
  {
   "cell_type": "markdown",
   "metadata": {},
   "source": [
    "Majority of objects identified are in the range 12-21, and for quasar it has the similar condition met with r-number."
   ]
  },
  {
   "cell_type": "code",
   "execution_count": 18,
   "metadata": {},
   "outputs": [
    {
     "data": {
      "image/png": "[encoded data removed]",
      "text/plain": [
       "<Figure size 432x288 with 1 Axes>"
      ]
     },
     "metadata": {
      "needs_background": "light"
     },
     "output_type": "display_data"
    },
    {
     "name": "stdout",
     "output_type": "stream",
     "text": [
      "class\n",
      "1    2680.613198\n",
      "2     477.680672\n",
      "3    1285.305882\n",
      "Name: plate, dtype: float64\n"
     ]
    }
   ],
   "source": [
    "plt.figure()\n",
    "sns.barplot(x='class',y='plate',data=ds)\n",
    "plt.show()\n",
    "print(ds.groupby('class')['plate'].mean())"
   ]
  },
  {
   "cell_type": "markdown",
   "metadata": {},
   "source": [
    "The galaxy has the lowest mean value of plate number than the other categories"
   ]
  },
  {
   "cell_type": "code",
   "execution_count": 19,
   "metadata": {},
   "outputs": [
    {
     "data": {
      "text/plain": [
       "<matplotlib.axes._subplots.AxesSubplot at 0x21e376fdbb0>"
      ]
     },
     "execution_count": 19,
     "metadata": {},
     "output_type": "execute_result"
    },
    {
     "data": {
      "image/png": "[encoded data removed]",
      "text/plain": [
       "<Figure size 432x288 with 1 Axes>"
      ]
     },
     "metadata": {
      "needs_background": "light"
     },
     "output_type": "display_data"
    }
   ],
   "source": [
    "#lets seperate the galaxy objects from the dataframe \n",
    "ds_galaxy=ds[ds['class']==2]\n",
    "#lets find the relationship with plate number\n",
    "sns.scatterplot(x=range(0,4998),y='plate',data=ds_galaxy)"
   ]
  },
  {
   "cell_type": "markdown",
   "metadata": {},
   "source": [
    "Majority of the objects identified are having plate number below 1000."
   ]
  },
  {
   "cell_type": "code",
   "execution_count": 20,
   "metadata": {},
   "outputs": [
    {
     "data": {
      "image/png": "[encoded data removed]",
      "text/plain": [
       "<Figure size 432x288 with 1 Axes>"
      ]
     },
     "metadata": {
      "needs_background": "light"
     },
     "output_type": "display_data"
    },
    {
     "name": "stdout",
     "output_type": "stream",
     "text": [
      "class  camcol\n",
      "1      4         772\n",
      "       2         758\n",
      "       6         735\n",
      "       5         700\n",
      "       3         690\n",
      "       1         497\n",
      "2      5         957\n",
      "       4         901\n",
      "       6         883\n",
      "       2         818\n",
      "       3         752\n",
      "       1         687\n",
      "3      5         170\n",
      "       4         161\n",
      "       6         151\n",
      "       2         136\n",
      "       3         118\n",
      "       1         114\n",
      "Name: camcol, dtype: int64\n"
     ]
    }
   ],
   "source": [
    "plt.figure()\n",
    "sns.countplot(x='camcol',hue='class',data=ds)\n",
    "plt.show()\n",
    "print(ds.groupby('class')['camcol'].value_counts())"
   ]
  },
  {
   "cell_type": "markdown",
   "metadata": {},
   "source": [
    "The maximum number of objects identified is in camera column 5 as GALAXY and the least objects identified is in camera column 1 as QUASAR."
   ]
  },
  {
   "cell_type": "code",
   "execution_count": 21,
   "metadata": {},
   "outputs": [
    {
     "data": {
      "image/png": "[encoded data removed]",
      "text/plain": [
       "<Figure size 432x288 with 1 Axes>"
      ]
     },
     "metadata": {
      "needs_background": "light"
     },
     "output_type": "display_data"
    },
    {
     "data": {
      "image/png": "[encoded data removed]",
      "text/plain": [
       "<Figure size 432x288 with 1 Axes>"
      ]
     },
     "metadata": {
      "needs_background": "light"
     },
     "output_type": "display_data"
    },
    {
     "data": {
      "image/png": "[encoded data removed]",
      "text/plain": [
       "<Figure size 432x288 with 1 Axes>"
      ]
     },
     "metadata": {
      "needs_background": "light"
     },
     "output_type": "display_data"
    },
    {
     "data": {
      "image/png": "[encoded data removed]",
      "text/plain": [
       "<Figure size 432x288 with 1 Axes>"
      ]
     },
     "metadata": {
      "needs_background": "light"
     },
     "output_type": "display_data"
    },
    {
     "data": {
      "image/png": "[encoded data removed]",
      "text/plain": [
       "<Figure size 432x288 with 1 Axes>"
      ]
     },
     "metadata": {
      "needs_background": "light"
     },
     "output_type": "display_data"
    },
    {
     "data": {
      "image/png": "[encoded data removed]",
      "text/plain": [
       "<Figure size 432x288 with 1 Axes>"
      ]
     },
     "metadata": {
      "needs_background": "light"
     },
     "output_type": "display_data"
    },
    {
     "data": {
      "image/png": "[encoded data removed]",
      "text/plain": [
       "<Figure size 432x288 with 1 Axes>"
      ]
     },
     "metadata": {
      "needs_background": "light"
     },
     "output_type": "display_data"
    },
    {
     "data": {
      "image/png": "[encoded data removed]",
      "text/plain": [
       "<Figure size 432x288 with 1 Axes>"
      ]
     },
     "metadata": {
      "needs_background": "light"
     },
     "output_type": "display_data"
    },
    {
     "data": {
      "image/png": "[encoded data removed]",
      "text/plain": [
       "<Figure size 432x288 with 1 Axes>"
      ]
     },
     "metadata": {
      "needs_background": "light"
     },
     "output_type": "display_data"
    },
    {
     "data": {
      "image/png": "[encoded data removed]",
      "text/plain": [
       "<Figure size 432x288 with 1 Axes>"
      ]
     },
     "metadata": {
      "needs_background": "light"
     },
     "output_type": "display_data"
    },
    {
     "data": {
      "image/png": "[encoded data removed]",
      "text/plain": [
       "<Figure size 432x288 with 1 Axes>"
      ]
     },
     "metadata": {
      "needs_background": "light"
     },
     "output_type": "display_data"
    },
    {
     "data": {
      "image/png": "[encoded data removed]",
      "text/plain": [
       "<Figure size 432x288 with 1 Axes>"
      ]
     },
     "metadata": {
      "needs_background": "light"
     },
     "output_type": "display_data"
    },
    {
     "data": {
      "image/png": "[encoded data removed]",
      "text/plain": [
       "<Figure size 432x288 with 1 Axes>"
      ]
     },
     "metadata": {
      "needs_background": "light"
     },
     "output_type": "display_data"
    },
    {
     "data": {
      "image/png": "[encoded data removed]",
      "text/plain": [
       "<Figure size 432x288 with 1 Axes>"
      ]
     },
     "metadata": {
      "needs_background": "light"
     },
     "output_type": "display_data"
    },
    {
     "data": {
      "image/png": "[encoded data removed]",
      "text/plain": [
       "<Figure size 432x288 with 1 Axes>"
      ]
     },
     "metadata": {
      "needs_background": "light"
     },
     "output_type": "display_data"
    },
    {
     "data": {
      "image/png": "[encoded data removed]",
      "text/plain": [
       "<Figure size 432x288 with 1 Axes>"
      ]
     },
     "metadata": {
      "needs_background": "light"
     },
     "output_type": "display_data"
    },
    {
     "data": {
      "image/png": "[encoded data removed]",
      "text/plain": [
       "<Figure size 432x288 with 1 Axes>"
      ]
     },
     "metadata": {
      "needs_background": "light"
     },
     "output_type": "display_data"
    },
    {
     "data": {
      "image/png": "[encoded data removed]",
      "text/plain": [
       "<Figure size 432x288 with 1 Axes>"
      ]
     },
     "metadata": {
      "needs_background": "light"
     },
     "output_type": "display_data"
    }
   ],
   "source": [
    "#lets check for outliers using boxplot\n",
    "plt.figure()\n",
    "for i in ds.columns:\n",
    "    ds[i].plot.box()\n",
    "    plt.show()    "
   ]
  },
  {
   "cell_type": "markdown",
   "metadata": {},
   "source": [
    "We can see that there are outliers present in ra,u,g,r,i,z,spaceobjid,redshift,plate and fiberid.Hence we have to treat them."
   ]
  },
  {
   "cell_type": "code",
   "execution_count": 22,
   "metadata": {},
   "outputs": [
    {
     "name": "stdout",
     "output_type": "stream",
     "text": [
      "(10000, 16)\n",
      "(8698, 16)\n"
     ]
    }
   ],
   "source": [
    "#before treating the outliers lets drop the columns objid and rerun as they have no significance with our target variable.\n",
    "ds.drop(columns=['objid','rerun'],axis=1,inplace=True)\n",
    "#removing the outliers\n",
    "from scipy.stats import zscore\n",
    "z_score=abs(zscore(ds))\n",
    "print(ds.shape)\n",
    "\n",
    "ds_final=ds.loc[(z_score<3).all(axis=1)]\n",
    "print(ds_final.shape)"
   ]
  },
  {
   "cell_type": "code",
   "execution_count": 23,
   "metadata": {},
   "outputs": [
    {
     "data": {
      "text/plain": [
       "(8698, 16)"
      ]
     },
     "execution_count": 23,
     "metadata": {},
     "output_type": "execute_result"
    }
   ],
   "source": [
    "#saving the dataframe after treating outliers\n",
    "ds=ds_final\n",
    "#checking the shape\n",
    "ds.shape"
   ]
  },
  {
   "cell_type": "code",
   "execution_count": 24,
   "metadata": {},
   "outputs": [
    {
     "data": {
      "text/plain": [
       "ra          -0.130951\n",
       "dec          1.212911\n",
       "u           -0.981103\n",
       "g           -0.528033\n",
       "r           -0.153454\n",
       "i            0.055966\n",
       "z            0.167256\n",
       "run          0.518602\n",
       "camcol      -0.141193\n",
       "field        0.220032\n",
       "specobjid    1.320102\n",
       "class        0.192726\n",
       "redshift     4.951700\n",
       "plate        1.320088\n",
       "mjd          0.963989\n",
       "fiberid      0.065374\n",
       "dtype: float64"
      ]
     },
     "execution_count": 24,
     "metadata": {},
     "output_type": "execute_result"
    }
   ],
   "source": [
    "#lets check for skewness()\n",
    "ds.skew()"
   ]
  },
  {
   "cell_type": "code",
   "execution_count": 25,
   "metadata": {},
   "outputs": [
    {
     "data": {
      "image/png": "[encoded data removed]",
      "text/plain": [
       "<Figure size 432x288 with 1 Axes>"
      ]
     },
     "metadata": {
      "needs_background": "light"
     },
     "output_type": "display_data"
    },
    {
     "data": {
      "image/png": "[encoded data removed]",
      "text/plain": [
       "<Figure size 432x288 with 1 Axes>"
      ]
     },
     "metadata": {
      "needs_background": "light"
     },
     "output_type": "display_data"
    },
    {
     "data": {
      "image/png": "[encoded data removed]",
      "text/plain": [
       "<Figure size 432x288 with 1 Axes>"
      ]
     },
     "metadata": {
      "needs_background": "light"
     },
     "output_type": "display_data"
    },
    {
     "data": {
      "image/png": "[encoded data removed]",
      "text/plain": [
       "<Figure size 432x288 with 1 Axes>"
      ]
     },
     "metadata": {
      "needs_background": "light"
     },
     "output_type": "display_data"
    },
    {
     "data": {
      "image/png": "[encoded data removed]",
      "text/plain": [
       "<Figure size 432x288 with 1 Axes>"
      ]
     },
     "metadata": {
      "needs_background": "light"
     },
     "output_type": "display_data"
    },
    {
     "data": {
      "image/png": "[encoded data removed]",
      "text/plain": [
       "<Figure size 432x288 with 1 Axes>"
      ]
     },
     "metadata": {
      "needs_background": "light"
     },
     "output_type": "display_data"
    },
    {
     "data": {
      "image/png": "[encoded data removed]",
      "text/plain": [
       "<Figure size 432x288 with 1 Axes>"
      ]
     },
     "metadata": {
      "needs_background": "light"
     },
     "output_type": "display_data"
    },
    {
     "data": {
      "image/png": "[encoded data removed]",
      "text/plain": [
       "<Figure size 432x288 with 1 Axes>"
      ]
     },
     "metadata": {
      "needs_background": "light"
     },
     "output_type": "display_data"
    },
    {
     "data": {
      "image/png": "[encoded data removed]",
      "text/plain": [
       "<Figure size 432x288 with 1 Axes>"
      ]
     },
     "metadata": {
      "needs_background": "light"
     },
     "output_type": "display_data"
    },
    {
     "data": {
      "image/png": "[encoded data removed]",
      "text/plain": [
       "<Figure size 432x288 with 1 Axes>"
      ]
     },
     "metadata": {
      "needs_background": "light"
     },
     "output_type": "display_data"
    },
    {
     "data": {
      "image/png": "[encoded data removed]",
      "text/plain": [
       "<Figure size 432x288 with 1 Axes>"
      ]
     },
     "metadata": {
      "needs_background": "light"
     },
     "output_type": "display_data"
    },
    {
     "data": {
      "image/png": "[encoded data removed]",
      "text/plain": [
       "<Figure size 432x288 with 1 Axes>"
      ]
     },
     "metadata": {
      "needs_background": "light"
     },
     "output_type": "display_data"
    },
    {
     "data": {
      "image/png": "[encoded data removed]",
      "text/plain": [
       "<Figure size 432x288 with 1 Axes>"
      ]
     },
     "metadata": {
      "needs_background": "light"
     },
     "output_type": "display_data"
    },
    {
     "data": {
      "image/png": "[encoded data removed]",
      "text/plain": [
       "<Figure size 432x288 with 1 Axes>"
      ]
     },
     "metadata": {
      "needs_background": "light"
     },
     "output_type": "display_data"
    },
    {
     "data": {
      "image/png": "[encoded data removed]",
      "text/plain": [
       "<Figure size 432x288 with 1 Axes>"
      ]
     },
     "metadata": {
      "needs_background": "light"
     },
     "output_type": "display_data"
    },
    {
     "data": {
      "image/png": "[encoded data removed]",
      "text/plain": [
       "<Figure size 432x288 with 1 Axes>"
      ]
     },
     "metadata": {
      "needs_background": "light"
     },
     "output_type": "display_data"
    }
   ],
   "source": [
    "#lets visualize graphically\n",
    "for i in ds.columns:\n",
    "    plt.figure()\n",
    "    sns.distplot(ds[i])\n",
    "    plt.show()"
   ]
  },
  {
   "cell_type": "markdown",
   "metadata": {},
   "source": [
    "we can see there is a negative as well as positive skewness.hence we need to treat them."
   ]
  },
  {
   "cell_type": "code",
   "execution_count": 26,
   "metadata": {},
   "outputs": [],
   "source": [
    "for col in ds.columns:\n",
    "    if ds[col].skew()>0.55:\n",
    "        ds[col]=np.log1p(ds[col])               #log for treating positive skewness\n",
    "    if ds[col].skew()<-0.55:\n",
    "        ds[col]=np.cbrt(ds[col])               #cbrt for treating negative skewness   "
   ]
  },
  {
   "cell_type": "code",
   "execution_count": 27,
   "metadata": {},
   "outputs": [
    {
     "data": {
      "text/plain": [
       "ra          -0.130951\n",
       "dec          0.255429\n",
       "u           -1.037995\n",
       "g           -0.528033\n",
       "r           -0.153454\n",
       "i            0.055966\n",
       "z            0.167256\n",
       "run          0.518602\n",
       "camcol      -0.141193\n",
       "field        0.220032\n",
       "specobjid    0.751620\n",
       "class        0.192726\n",
       "redshift     4.195758\n",
       "plate        0.752026\n",
       "mjd          0.949578\n",
       "fiberid      0.065374\n",
       "dtype: float64"
      ]
     },
     "execution_count": 27,
     "metadata": {},
     "output_type": "execute_result"
    }
   ],
   "source": [
    "#checking the skewness\n",
    "ds.skew()"
   ]
  },
  {
   "cell_type": "markdown",
   "metadata": {},
   "source": [
    "skewness is reduced to an extent and now lets trainnthe model."
   ]
  },
  {
   "cell_type": "code",
   "execution_count": 28,
   "metadata": {},
   "outputs": [
    {
     "data": {
      "text/plain": [
       "0    1\n",
       "1    1\n",
       "2    2\n",
       "3    1\n",
       "4    1\n",
       "Name: class, dtype: int64"
      ]
     },
     "execution_count": 28,
     "metadata": {},
     "output_type": "execute_result"
    }
   ],
   "source": [
    "#seperating the target variable\n",
    "y=ds['class']\n",
    "y.head()"
   ]
  },
  {
   "cell_type": "code",
   "execution_count": 29,
   "metadata": {},
   "outputs": [
    {
     "data": {
      "text/html": [
       "<div>\n",
       "<style scoped>\n",
       "    .dataframe tbody tr th:only-of-type {\n",
       "        vertical-align: middle;\n",
       "    }\n",
       "\n",
       "    .dataframe tbody tr th {\n",
       "        vertical-align: top;\n",
       "    }\n",
       "\n",
       "    .dataframe thead th {\n",
       "        text-align: right;\n",
       "    }\n",
       "</style>\n",
       "<table border=\"1\" class=\"dataframe\">\n",
       "  <thead>\n",
       "    <tr style=\"text-align: right;\">\n",
       "      <th></th>\n",
       "      <th>ra</th>\n",
       "      <th>dec</th>\n",
       "      <th>u</th>\n",
       "      <th>g</th>\n",
       "      <th>r</th>\n",
       "      <th>i</th>\n",
       "      <th>z</th>\n",
       "      <th>run</th>\n",
       "      <th>camcol</th>\n",
       "      <th>field</th>\n",
       "      <th>specobjid</th>\n",
       "      <th>redshift</th>\n",
       "      <th>plate</th>\n",
       "      <th>mjd</th>\n",
       "      <th>fiberid</th>\n",
       "    </tr>\n",
       "  </thead>\n",
       "  <tbody>\n",
       "    <tr>\n",
       "      <th>0</th>\n",
       "      <td>183.531326</td>\n",
       "      <td>0.085896</td>\n",
       "      <td>2.690412</td>\n",
       "      <td>17.04240</td>\n",
       "      <td>15.94699</td>\n",
       "      <td>15.50342</td>\n",
       "      <td>15.22531</td>\n",
       "      <td>752</td>\n",
       "      <td>4</td>\n",
       "      <td>267</td>\n",
       "      <td>42.760890</td>\n",
       "      <td>-0.000009</td>\n",
       "      <td>8.103797</td>\n",
       "      <td>10.913687</td>\n",
       "      <td>491</td>\n",
       "    </tr>\n",
       "    <tr>\n",
       "      <th>1</th>\n",
       "      <td>183.598371</td>\n",
       "      <td>0.126884</td>\n",
       "      <td>2.652522</td>\n",
       "      <td>17.21449</td>\n",
       "      <td>16.67637</td>\n",
       "      <td>16.48922</td>\n",
       "      <td>16.39150</td>\n",
       "      <td>752</td>\n",
       "      <td>4</td>\n",
       "      <td>267</td>\n",
       "      <td>40.435419</td>\n",
       "      <td>-0.000055</td>\n",
       "      <td>5.780744</td>\n",
       "      <td>10.851587</td>\n",
       "      <td>541</td>\n",
       "    </tr>\n",
       "    <tr>\n",
       "      <th>2</th>\n",
       "      <td>183.680207</td>\n",
       "      <td>0.118836</td>\n",
       "      <td>2.686211</td>\n",
       "      <td>18.19169</td>\n",
       "      <td>17.47428</td>\n",
       "      <td>17.08732</td>\n",
       "      <td>16.80125</td>\n",
       "      <td>752</td>\n",
       "      <td>4</td>\n",
       "      <td>268</td>\n",
       "      <td>40.317277</td>\n",
       "      <td>0.116103</td>\n",
       "      <td>5.662960</td>\n",
       "      <td>10.859460</td>\n",
       "      <td>513</td>\n",
       "    </tr>\n",
       "    <tr>\n",
       "      <th>3</th>\n",
       "      <td>183.870529</td>\n",
       "      <td>0.048705</td>\n",
       "      <td>2.609304</td>\n",
       "      <td>16.60272</td>\n",
       "      <td>16.16116</td>\n",
       "      <td>15.98233</td>\n",
       "      <td>15.90438</td>\n",
       "      <td>752</td>\n",
       "      <td>4</td>\n",
       "      <td>269</td>\n",
       "      <td>42.760892</td>\n",
       "      <td>-0.000111</td>\n",
       "      <td>8.103797</td>\n",
       "      <td>10.913687</td>\n",
       "      <td>510</td>\n",
       "    </tr>\n",
       "    <tr>\n",
       "      <th>4</th>\n",
       "      <td>183.883288</td>\n",
       "      <td>0.097632</td>\n",
       "      <td>2.598730</td>\n",
       "      <td>16.26342</td>\n",
       "      <td>16.43869</td>\n",
       "      <td>16.55492</td>\n",
       "      <td>16.61326</td>\n",
       "      <td>752</td>\n",
       "      <td>4</td>\n",
       "      <td>269</td>\n",
       "      <td>42.760892</td>\n",
       "      <td>0.000590</td>\n",
       "      <td>8.103797</td>\n",
       "      <td>10.913687</td>\n",
       "      <td>512</td>\n",
       "    </tr>\n",
       "  </tbody>\n",
       "</table>\n",
       "</div>"
      ],
      "text/plain": [
       "           ra       dec         u         g         r         i         z  \\\n",
       "0  183.531326  0.085896  2.690412  17.04240  15.94699  15.50342  15.22531   \n",
       "1  183.598371  0.126884  2.652522  17.21449  16.67637  16.48922  16.39150   \n",
       "2  183.680207  0.118836  2.686211  18.19169  17.47428  17.08732  16.80125   \n",
       "3  183.870529  0.048705  2.609304  16.60272  16.16116  15.98233  15.90438   \n",
       "4  183.883288  0.097632  2.598730  16.26342  16.43869  16.55492  16.61326   \n",
       "\n",
       "   run  camcol  field  specobjid  redshift     plate        mjd  fiberid  \n",
       "0  752       4    267  42.760890 -0.000009  8.103797  10.913687      491  \n",
       "1  752       4    267  40.435419 -0.000055  5.780744  10.851587      541  \n",
       "2  752       4    268  40.317277  0.116103  5.662960  10.859460      513  \n",
       "3  752       4    269  42.760892 -0.000111  8.103797  10.913687      510  \n",
       "4  752       4    269  42.760892  0.000590  8.103797  10.913687      512  "
      ]
     },
     "execution_count": 29,
     "metadata": {},
     "output_type": "execute_result"
    }
   ],
   "source": [
    "#seperating input variables\n",
    "ds_x=ds.drop(columns='class',axis=1)\n",
    "ds_x.head()"
   ]
  },
  {
   "cell_type": "code",
   "execution_count": 30,
   "metadata": {},
   "outputs": [],
   "source": [
    "# we need to standardize the input data.we use standard scaler for the purpose.\n",
    "from sklearn.preprocessing import StandardScaler\n",
    "sc=StandardScaler()\n",
    "x=sc.fit_transform(ds_x)\n",
    "x=pd.DataFrame(x,columns=ds_x.columns)"
   ]
  },
  {
   "cell_type": "code",
   "execution_count": 31,
   "metadata": {},
   "outputs": [
    {
     "data": {
      "text/html": [
       "<div>\n",
       "<style scoped>\n",
       "    .dataframe tbody tr th:only-of-type {\n",
       "        vertical-align: middle;\n",
       "    }\n",
       "\n",
       "    .dataframe tbody tr th {\n",
       "        vertical-align: top;\n",
       "    }\n",
       "\n",
       "    .dataframe thead th {\n",
       "        text-align: right;\n",
       "    }\n",
       "</style>\n",
       "<table border=\"1\" class=\"dataframe\">\n",
       "  <thead>\n",
       "    <tr style=\"text-align: right;\">\n",
       "      <th></th>\n",
       "      <th>ra</th>\n",
       "      <th>dec</th>\n",
       "      <th>u</th>\n",
       "      <th>g</th>\n",
       "      <th>r</th>\n",
       "      <th>i</th>\n",
       "      <th>z</th>\n",
       "      <th>run</th>\n",
       "      <th>camcol</th>\n",
       "      <th>field</th>\n",
       "      <th>specobjid</th>\n",
       "      <th>redshift</th>\n",
       "      <th>plate</th>\n",
       "      <th>mjd</th>\n",
       "      <th>fiberid</th>\n",
       "    </tr>\n",
       "  </thead>\n",
       "  <tbody>\n",
       "    <tr>\n",
       "      <th>0</th>\n",
       "      <td>0.022563</td>\n",
       "      <td>-0.436433</td>\n",
       "      <td>1.059046</td>\n",
       "      <td>-0.332856</td>\n",
       "      <td>-0.855097</td>\n",
       "      <td>-0.969819</td>\n",
       "      <td>-1.007660</td>\n",
       "      <td>-0.790307</td>\n",
       "      <td>0.197332</td>\n",
       "      <td>-0.304679</td>\n",
       "      <td>1.573357</td>\n",
       "      <td>-0.553789</td>\n",
       "      <td>1.573507</td>\n",
       "      <td>1.665137</td>\n",
       "      <td>0.754994</td>\n",
       "    </tr>\n",
       "    <tr>\n",
       "      <th>1</th>\n",
       "      <td>0.024421</td>\n",
       "      <td>-0.417249</td>\n",
       "      <td>0.053297</td>\n",
       "      <td>-0.134171</td>\n",
       "      <td>-0.098144</td>\n",
       "      <td>-0.009474</td>\n",
       "      <td>0.055512</td>\n",
       "      <td>-0.790307</td>\n",
       "      <td>0.197332</td>\n",
       "      <td>-0.304679</td>\n",
       "      <td>-0.731864</td>\n",
       "      <td>-0.554174</td>\n",
       "      <td>-0.731988</td>\n",
       "      <td>-0.891468</td>\n",
       "      <td>1.016814</td>\n",
       "    </tr>\n",
       "    <tr>\n",
       "      <th>2</th>\n",
       "      <td>0.026689</td>\n",
       "      <td>-0.421015</td>\n",
       "      <td>0.947540</td>\n",
       "      <td>0.994046</td>\n",
       "      <td>0.729930</td>\n",
       "      <td>0.573183</td>\n",
       "      <td>0.429065</td>\n",
       "      <td>-0.790307</td>\n",
       "      <td>0.197332</td>\n",
       "      <td>-0.298398</td>\n",
       "      <td>-0.848978</td>\n",
       "      <td>0.418754</td>\n",
       "      <td>-0.848881</td>\n",
       "      <td>-0.567327</td>\n",
       "      <td>0.870195</td>\n",
       "    </tr>\n",
       "    <tr>\n",
       "      <th>3</th>\n",
       "      <td>0.031964</td>\n",
       "      <td>-0.453840</td>\n",
       "      <td>-1.093850</td>\n",
       "      <td>-0.840484</td>\n",
       "      <td>-0.632831</td>\n",
       "      <td>-0.503275</td>\n",
       "      <td>-0.388577</td>\n",
       "      <td>-0.790307</td>\n",
       "      <td>0.197332</td>\n",
       "      <td>-0.292117</td>\n",
       "      <td>1.573359</td>\n",
       "      <td>-0.554640</td>\n",
       "      <td>1.573507</td>\n",
       "      <td>1.665137</td>\n",
       "      <td>0.854486</td>\n",
       "    </tr>\n",
       "    <tr>\n",
       "      <th>4</th>\n",
       "      <td>0.032318</td>\n",
       "      <td>-0.430940</td>\n",
       "      <td>-1.374529</td>\n",
       "      <td>-1.232219</td>\n",
       "      <td>-0.344809</td>\n",
       "      <td>0.054530</td>\n",
       "      <td>0.257682</td>\n",
       "      <td>-0.790307</td>\n",
       "      <td>0.197332</td>\n",
       "      <td>-0.292117</td>\n",
       "      <td>1.573359</td>\n",
       "      <td>-0.548770</td>\n",
       "      <td>1.573507</td>\n",
       "      <td>1.665137</td>\n",
       "      <td>0.864958</td>\n",
       "    </tr>\n",
       "    <tr>\n",
       "      <th>...</th>\n",
       "      <td>...</td>\n",
       "      <td>...</td>\n",
       "      <td>...</td>\n",
       "      <td>...</td>\n",
       "      <td>...</td>\n",
       "      <td>...</td>\n",
       "      <td>...</td>\n",
       "      <td>...</td>\n",
       "      <td>...</td>\n",
       "      <td>...</td>\n",
       "      <td>...</td>\n",
       "      <td>...</td>\n",
       "      <td>...</td>\n",
       "      <td>...</td>\n",
       "      <td>...</td>\n",
       "    </tr>\n",
       "    <tr>\n",
       "      <th>8693</th>\n",
       "      <td>-1.422261</td>\n",
       "      <td>1.377541</td>\n",
       "      <td>-1.053887</td>\n",
       "      <td>-1.506087</td>\n",
       "      <td>-1.672305</td>\n",
       "      <td>-1.737999</td>\n",
       "      <td>-1.816223</td>\n",
       "      <td>1.360326</td>\n",
       "      <td>-0.394324</td>\n",
       "      <td>-0.970460</td>\n",
       "      <td>-0.410056</td>\n",
       "      <td>-0.101172</td>\n",
       "      <td>-0.410388</td>\n",
       "      <td>-0.683025</td>\n",
       "      <td>-0.512213</td>\n",
       "    </tr>\n",
       "    <tr>\n",
       "      <th>8694</th>\n",
       "      <td>-1.424548</td>\n",
       "      <td>1.377593</td>\n",
       "      <td>0.247640</td>\n",
       "      <td>0.161438</td>\n",
       "      <td>0.149590</td>\n",
       "      <td>0.179351</td>\n",
       "      <td>0.159624</td>\n",
       "      <td>1.360326</td>\n",
       "      <td>-0.394324</td>\n",
       "      <td>-0.970460</td>\n",
       "      <td>-0.410058</td>\n",
       "      <td>-0.325810</td>\n",
       "      <td>-0.410388</td>\n",
       "      <td>-0.683025</td>\n",
       "      <td>-0.527922</td>\n",
       "    </tr>\n",
       "    <tr>\n",
       "      <th>8695</th>\n",
       "      <td>-1.424834</td>\n",
       "      <td>1.378766</td>\n",
       "      <td>-0.440915</td>\n",
       "      <td>0.124446</td>\n",
       "      <td>0.317548</td>\n",
       "      <td>0.212045</td>\n",
       "      <td>0.335821</td>\n",
       "      <td>1.360326</td>\n",
       "      <td>-0.394324</td>\n",
       "      <td>-0.964179</td>\n",
       "      <td>-0.410068</td>\n",
       "      <td>0.378842</td>\n",
       "      <td>-0.410388</td>\n",
       "      <td>-0.683025</td>\n",
       "      <td>-0.622177</td>\n",
       "    </tr>\n",
       "    <tr>\n",
       "      <th>8696</th>\n",
       "      <td>-1.420093</td>\n",
       "      <td>1.379492</td>\n",
       "      <td>0.328961</td>\n",
       "      <td>0.669608</td>\n",
       "      <td>0.789334</td>\n",
       "      <td>0.841588</td>\n",
       "      <td>0.737782</td>\n",
       "      <td>1.360326</td>\n",
       "      <td>-0.394324</td>\n",
       "      <td>-0.957898</td>\n",
       "      <td>-0.410068</td>\n",
       "      <td>-0.437108</td>\n",
       "      <td>-0.410388</td>\n",
       "      <td>-0.683025</td>\n",
       "      <td>-0.616941</td>\n",
       "    </tr>\n",
       "    <tr>\n",
       "      <th>8697</th>\n",
       "      <td>-1.414887</td>\n",
       "      <td>1.379955</td>\n",
       "      <td>0.815948</td>\n",
       "      <td>0.054943</td>\n",
       "      <td>-0.483117</td>\n",
       "      <td>-0.646334</td>\n",
       "      <td>-0.751875</td>\n",
       "      <td>1.360326</td>\n",
       "      <td>-0.394324</td>\n",
       "      <td>-0.957898</td>\n",
       "      <td>-0.410066</td>\n",
       "      <td>0.383675</td>\n",
       "      <td>-0.410388</td>\n",
       "      <td>-0.683025</td>\n",
       "      <td>-0.595995</td>\n",
       "    </tr>\n",
       "  </tbody>\n",
       "</table>\n",
       "<p>8698 rows × 15 columns</p>\n",
       "</div>"
      ],
      "text/plain": [
       "            ra       dec         u         g         r         i         z  \\\n",
       "0     0.022563 -0.436433  1.059046 -0.332856 -0.855097 -0.969819 -1.007660   \n",
       "1     0.024421 -0.417249  0.053297 -0.134171 -0.098144 -0.009474  0.055512   \n",
       "2     0.026689 -0.421015  0.947540  0.994046  0.729930  0.573183  0.429065   \n",
       "3     0.031964 -0.453840 -1.093850 -0.840484 -0.632831 -0.503275 -0.388577   \n",
       "4     0.032318 -0.430940 -1.374529 -1.232219 -0.344809  0.054530  0.257682   \n",
       "...        ...       ...       ...       ...       ...       ...       ...   \n",
       "8693 -1.422261  1.377541 -1.053887 -1.506087 -1.672305 -1.737999 -1.816223   \n",
       "8694 -1.424548  1.377593  0.247640  0.161438  0.149590  0.179351  0.159624   \n",
       "8695 -1.424834  1.378766 -0.440915  0.124446  0.317548  0.212045  0.335821   \n",
       "8696 -1.420093  1.379492  0.328961  0.669608  0.789334  0.841588  0.737782   \n",
       "8697 -1.414887  1.379955  0.815948  0.054943 -0.483117 -0.646334 -0.751875   \n",
       "\n",
       "           run    camcol     field  specobjid  redshift     plate       mjd  \\\n",
       "0    -0.790307  0.197332 -0.304679   1.573357 -0.553789  1.573507  1.665137   \n",
       "1    -0.790307  0.197332 -0.304679  -0.731864 -0.554174 -0.731988 -0.891468   \n",
       "2    -0.790307  0.197332 -0.298398  -0.848978  0.418754 -0.848881 -0.567327   \n",
       "3    -0.790307  0.197332 -0.292117   1.573359 -0.554640  1.573507  1.665137   \n",
       "4    -0.790307  0.197332 -0.292117   1.573359 -0.548770  1.573507  1.665137   \n",
       "...        ...       ...       ...        ...       ...       ...       ...   \n",
       "8693  1.360326 -0.394324 -0.970460  -0.410056 -0.101172 -0.410388 -0.683025   \n",
       "8694  1.360326 -0.394324 -0.970460  -0.410058 -0.325810 -0.410388 -0.683025   \n",
       "8695  1.360326 -0.394324 -0.964179  -0.410068  0.378842 -0.410388 -0.683025   \n",
       "8696  1.360326 -0.394324 -0.957898  -0.410068 -0.437108 -0.410388 -0.683025   \n",
       "8697  1.360326 -0.394324 -0.957898  -0.410066  0.383675 -0.410388 -0.683025   \n",
       "\n",
       "       fiberid  \n",
       "0     0.754994  \n",
       "1     1.016814  \n",
       "2     0.870195  \n",
       "3     0.854486  \n",
       "4     0.864958  \n",
       "...        ...  \n",
       "8693 -0.512213  \n",
       "8694 -0.527922  \n",
       "8695 -0.622177  \n",
       "8696 -0.616941  \n",
       "8697 -0.595995  \n",
       "\n",
       "[8698 rows x 15 columns]"
      ]
     },
     "execution_count": 31,
     "metadata": {},
     "output_type": "execute_result"
    }
   ],
   "source": [
    "x"
   ]
  },
  {
   "cell_type": "code",
   "execution_count": 32,
   "metadata": {},
   "outputs": [
    {
     "data": {
      "text/plain": [
       "ra              0\n",
       "dec          1069\n",
       "u               0\n",
       "g               0\n",
       "r               0\n",
       "i               0\n",
       "z               0\n",
       "run             0\n",
       "camcol          0\n",
       "field           0\n",
       "specobjid       0\n",
       "redshift        0\n",
       "plate           0\n",
       "mjd             0\n",
       "fiberid         0\n",
       "dtype: int64"
      ]
     },
     "execution_count": 32,
     "metadata": {},
     "output_type": "execute_result"
    }
   ],
   "source": [
    "#after standardizing lets look for null values\n",
    "x.isnull().sum()"
   ]
  },
  {
   "cell_type": "code",
   "execution_count": 33,
   "metadata": {},
   "outputs": [],
   "source": [
    "#replace the null values with the column mean.\n",
    "x['dec']=x['dec'].replace(np.nan,x['dec'].mean())"
   ]
  },
  {
   "cell_type": "code",
   "execution_count": 34,
   "metadata": {},
   "outputs": [
    {
     "data": {
      "text/html": [
       "<div>\n",
       "<style scoped>\n",
       "    .dataframe tbody tr th:only-of-type {\n",
       "        vertical-align: middle;\n",
       "    }\n",
       "\n",
       "    .dataframe tbody tr th {\n",
       "        vertical-align: top;\n",
       "    }\n",
       "\n",
       "    .dataframe thead th {\n",
       "        text-align: right;\n",
       "    }\n",
       "</style>\n",
       "<table border=\"1\" class=\"dataframe\">\n",
       "  <thead>\n",
       "    <tr style=\"text-align: right;\">\n",
       "      <th></th>\n",
       "      <th>ra</th>\n",
       "      <th>dec</th>\n",
       "      <th>u</th>\n",
       "      <th>g</th>\n",
       "      <th>r</th>\n",
       "      <th>i</th>\n",
       "      <th>z</th>\n",
       "      <th>run</th>\n",
       "      <th>camcol</th>\n",
       "      <th>field</th>\n",
       "      <th>specobjid</th>\n",
       "      <th>redshift</th>\n",
       "      <th>plate</th>\n",
       "      <th>mjd</th>\n",
       "      <th>fiberid</th>\n",
       "    </tr>\n",
       "  </thead>\n",
       "  <tbody>\n",
       "    <tr>\n",
       "      <th>0</th>\n",
       "      <td>0.022563</td>\n",
       "      <td>-0.436433</td>\n",
       "      <td>1.059046</td>\n",
       "      <td>-0.332856</td>\n",
       "      <td>-0.855097</td>\n",
       "      <td>-0.969819</td>\n",
       "      <td>-1.007660</td>\n",
       "      <td>-0.790307</td>\n",
       "      <td>0.197332</td>\n",
       "      <td>-0.304679</td>\n",
       "      <td>1.573357</td>\n",
       "      <td>-0.553789</td>\n",
       "      <td>1.573507</td>\n",
       "      <td>1.665137</td>\n",
       "      <td>0.754994</td>\n",
       "    </tr>\n",
       "    <tr>\n",
       "      <th>1</th>\n",
       "      <td>0.024421</td>\n",
       "      <td>-0.417249</td>\n",
       "      <td>0.053297</td>\n",
       "      <td>-0.134171</td>\n",
       "      <td>-0.098144</td>\n",
       "      <td>-0.009474</td>\n",
       "      <td>0.055512</td>\n",
       "      <td>-0.790307</td>\n",
       "      <td>0.197332</td>\n",
       "      <td>-0.304679</td>\n",
       "      <td>-0.731864</td>\n",
       "      <td>-0.554174</td>\n",
       "      <td>-0.731988</td>\n",
       "      <td>-0.891468</td>\n",
       "      <td>1.016814</td>\n",
       "    </tr>\n",
       "    <tr>\n",
       "      <th>2</th>\n",
       "      <td>0.026689</td>\n",
       "      <td>-0.421015</td>\n",
       "      <td>0.947540</td>\n",
       "      <td>0.994046</td>\n",
       "      <td>0.729930</td>\n",
       "      <td>0.573183</td>\n",
       "      <td>0.429065</td>\n",
       "      <td>-0.790307</td>\n",
       "      <td>0.197332</td>\n",
       "      <td>-0.298398</td>\n",
       "      <td>-0.848978</td>\n",
       "      <td>0.418754</td>\n",
       "      <td>-0.848881</td>\n",
       "      <td>-0.567327</td>\n",
       "      <td>0.870195</td>\n",
       "    </tr>\n",
       "    <tr>\n",
       "      <th>3</th>\n",
       "      <td>0.031964</td>\n",
       "      <td>-0.453840</td>\n",
       "      <td>-1.093850</td>\n",
       "      <td>-0.840484</td>\n",
       "      <td>-0.632831</td>\n",
       "      <td>-0.503275</td>\n",
       "      <td>-0.388577</td>\n",
       "      <td>-0.790307</td>\n",
       "      <td>0.197332</td>\n",
       "      <td>-0.292117</td>\n",
       "      <td>1.573359</td>\n",
       "      <td>-0.554640</td>\n",
       "      <td>1.573507</td>\n",
       "      <td>1.665137</td>\n",
       "      <td>0.854486</td>\n",
       "    </tr>\n",
       "    <tr>\n",
       "      <th>4</th>\n",
       "      <td>0.032318</td>\n",
       "      <td>-0.430940</td>\n",
       "      <td>-1.374529</td>\n",
       "      <td>-1.232219</td>\n",
       "      <td>-0.344809</td>\n",
       "      <td>0.054530</td>\n",
       "      <td>0.257682</td>\n",
       "      <td>-0.790307</td>\n",
       "      <td>0.197332</td>\n",
       "      <td>-0.292117</td>\n",
       "      <td>1.573359</td>\n",
       "      <td>-0.548770</td>\n",
       "      <td>1.573507</td>\n",
       "      <td>1.665137</td>\n",
       "      <td>0.864958</td>\n",
       "    </tr>\n",
       "    <tr>\n",
       "      <th>...</th>\n",
       "      <td>...</td>\n",
       "      <td>...</td>\n",
       "      <td>...</td>\n",
       "      <td>...</td>\n",
       "      <td>...</td>\n",
       "      <td>...</td>\n",
       "      <td>...</td>\n",
       "      <td>...</td>\n",
       "      <td>...</td>\n",
       "      <td>...</td>\n",
       "      <td>...</td>\n",
       "      <td>...</td>\n",
       "      <td>...</td>\n",
       "      <td>...</td>\n",
       "      <td>...</td>\n",
       "    </tr>\n",
       "    <tr>\n",
       "      <th>8693</th>\n",
       "      <td>-1.422261</td>\n",
       "      <td>1.377541</td>\n",
       "      <td>-1.053887</td>\n",
       "      <td>-1.506087</td>\n",
       "      <td>-1.672305</td>\n",
       "      <td>-1.737999</td>\n",
       "      <td>-1.816223</td>\n",
       "      <td>1.360326</td>\n",
       "      <td>-0.394324</td>\n",
       "      <td>-0.970460</td>\n",
       "      <td>-0.410056</td>\n",
       "      <td>-0.101172</td>\n",
       "      <td>-0.410388</td>\n",
       "      <td>-0.683025</td>\n",
       "      <td>-0.512213</td>\n",
       "    </tr>\n",
       "    <tr>\n",
       "      <th>8694</th>\n",
       "      <td>-1.424548</td>\n",
       "      <td>1.377593</td>\n",
       "      <td>0.247640</td>\n",
       "      <td>0.161438</td>\n",
       "      <td>0.149590</td>\n",
       "      <td>0.179351</td>\n",
       "      <td>0.159624</td>\n",
       "      <td>1.360326</td>\n",
       "      <td>-0.394324</td>\n",
       "      <td>-0.970460</td>\n",
       "      <td>-0.410058</td>\n",
       "      <td>-0.325810</td>\n",
       "      <td>-0.410388</td>\n",
       "      <td>-0.683025</td>\n",
       "      <td>-0.527922</td>\n",
       "    </tr>\n",
       "    <tr>\n",
       "      <th>8695</th>\n",
       "      <td>-1.424834</td>\n",
       "      <td>1.378766</td>\n",
       "      <td>-0.440915</td>\n",
       "      <td>0.124446</td>\n",
       "      <td>0.317548</td>\n",
       "      <td>0.212045</td>\n",
       "      <td>0.335821</td>\n",
       "      <td>1.360326</td>\n",
       "      <td>-0.394324</td>\n",
       "      <td>-0.964179</td>\n",
       "      <td>-0.410068</td>\n",
       "      <td>0.378842</td>\n",
       "      <td>-0.410388</td>\n",
       "      <td>-0.683025</td>\n",
       "      <td>-0.622177</td>\n",
       "    </tr>\n",
       "    <tr>\n",
       "      <th>8696</th>\n",
       "      <td>-1.420093</td>\n",
       "      <td>1.379492</td>\n",
       "      <td>0.328961</td>\n",
       "      <td>0.669608</td>\n",
       "      <td>0.789334</td>\n",
       "      <td>0.841588</td>\n",
       "      <td>0.737782</td>\n",
       "      <td>1.360326</td>\n",
       "      <td>-0.394324</td>\n",
       "      <td>-0.957898</td>\n",
       "      <td>-0.410068</td>\n",
       "      <td>-0.437108</td>\n",
       "      <td>-0.410388</td>\n",
       "      <td>-0.683025</td>\n",
       "      <td>-0.616941</td>\n",
       "    </tr>\n",
       "    <tr>\n",
       "      <th>8697</th>\n",
       "      <td>-1.414887</td>\n",
       "      <td>1.379955</td>\n",
       "      <td>0.815948</td>\n",
       "      <td>0.054943</td>\n",
       "      <td>-0.483117</td>\n",
       "      <td>-0.646334</td>\n",
       "      <td>-0.751875</td>\n",
       "      <td>1.360326</td>\n",
       "      <td>-0.394324</td>\n",
       "      <td>-0.957898</td>\n",
       "      <td>-0.410066</td>\n",
       "      <td>0.383675</td>\n",
       "      <td>-0.410388</td>\n",
       "      <td>-0.683025</td>\n",
       "      <td>-0.595995</td>\n",
       "    </tr>\n",
       "  </tbody>\n",
       "</table>\n",
       "<p>8698 rows × 15 columns</p>\n",
       "</div>"
      ],
      "text/plain": [
       "            ra       dec         u         g         r         i         z  \\\n",
       "0     0.022563 -0.436433  1.059046 -0.332856 -0.855097 -0.969819 -1.007660   \n",
       "1     0.024421 -0.417249  0.053297 -0.134171 -0.098144 -0.009474  0.055512   \n",
       "2     0.026689 -0.421015  0.947540  0.994046  0.729930  0.573183  0.429065   \n",
       "3     0.031964 -0.453840 -1.093850 -0.840484 -0.632831 -0.503275 -0.388577   \n",
       "4     0.032318 -0.430940 -1.374529 -1.232219 -0.344809  0.054530  0.257682   \n",
       "...        ...       ...       ...       ...       ...       ...       ...   \n",
       "8693 -1.422261  1.377541 -1.053887 -1.506087 -1.672305 -1.737999 -1.816223   \n",
       "8694 -1.424548  1.377593  0.247640  0.161438  0.149590  0.179351  0.159624   \n",
       "8695 -1.424834  1.378766 -0.440915  0.124446  0.317548  0.212045  0.335821   \n",
       "8696 -1.420093  1.379492  0.328961  0.669608  0.789334  0.841588  0.737782   \n",
       "8697 -1.414887  1.379955  0.815948  0.054943 -0.483117 -0.646334 -0.751875   \n",
       "\n",
       "           run    camcol     field  specobjid  redshift     plate       mjd  \\\n",
       "0    -0.790307  0.197332 -0.304679   1.573357 -0.553789  1.573507  1.665137   \n",
       "1    -0.790307  0.197332 -0.304679  -0.731864 -0.554174 -0.731988 -0.891468   \n",
       "2    -0.790307  0.197332 -0.298398  -0.848978  0.418754 -0.848881 -0.567327   \n",
       "3    -0.790307  0.197332 -0.292117   1.573359 -0.554640  1.573507  1.665137   \n",
       "4    -0.790307  0.197332 -0.292117   1.573359 -0.548770  1.573507  1.665137   \n",
       "...        ...       ...       ...        ...       ...       ...       ...   \n",
       "8693  1.360326 -0.394324 -0.970460  -0.410056 -0.101172 -0.410388 -0.683025   \n",
       "8694  1.360326 -0.394324 -0.970460  -0.410058 -0.325810 -0.410388 -0.683025   \n",
       "8695  1.360326 -0.394324 -0.964179  -0.410068  0.378842 -0.410388 -0.683025   \n",
       "8696  1.360326 -0.394324 -0.957898  -0.410068 -0.437108 -0.410388 -0.683025   \n",
       "8697  1.360326 -0.394324 -0.957898  -0.410066  0.383675 -0.410388 -0.683025   \n",
       "\n",
       "       fiberid  \n",
       "0     0.754994  \n",
       "1     1.016814  \n",
       "2     0.870195  \n",
       "3     0.854486  \n",
       "4     0.864958  \n",
       "...        ...  \n",
       "8693 -0.512213  \n",
       "8694 -0.527922  \n",
       "8695 -0.622177  \n",
       "8696 -0.616941  \n",
       "8697 -0.595995  \n",
       "\n",
       "[8698 rows x 15 columns]"
      ]
     },
     "execution_count": 34,
     "metadata": {},
     "output_type": "execute_result"
    }
   ],
   "source": [
    "x"
   ]
  },
  {
   "cell_type": "markdown",
   "metadata": {},
   "source": [
    "### Training the model "
   ]
  },
  {
   "cell_type": "code",
   "execution_count": 35,
   "metadata": {},
   "outputs": [
    {
     "name": "stdout",
     "output_type": "stream",
     "text": [
      "(6784, 15) \t (1914, 15)\n"
     ]
    }
   ],
   "source": [
    "#splitting the input and target variable into test and train data\n",
    "from sklearn.model_selection import train_test_split\n",
    "x_train,x_test,y_train,y_test=train_test_split(x,y,test_size=.22,random_state=47)\n",
    "print(x_train.shape,'\\t',x_test.shape)"
   ]
  },
  {
   "cell_type": "code",
   "execution_count": 36,
   "metadata": {},
   "outputs": [
    {
     "name": "stdout",
     "output_type": "stream",
     "text": [
      "(6784,) \t (1914,)\n"
     ]
    }
   ],
   "source": [
    "print(y_train.shape,'\\t',y_test.shape)"
   ]
  },
  {
   "cell_type": "code",
   "execution_count": 37,
   "metadata": {},
   "outputs": [],
   "source": [
    "#importing libraries for models and error metrics\n",
    "from sklearn.svm import SVC\n",
    "from sklearn.tree import DecisionTreeClassifier\n",
    "from sklearn.neighbors import KNeighborsClassifier\n",
    "from sklearn.metrics import accuracy_score,confusion_matrix,classification_report\n"
   ]
  },
  {
   "cell_type": "code",
   "execution_count": 38,
   "metadata": {},
   "outputs": [
    {
     "name": "stdout",
     "output_type": "stream",
     "text": [
      "score of  SVC() is: 0.9784787735849056\n",
      "Metrics:\n",
      "Accuracy Score: 0.9806687565308255\n",
      "Confusion Matrix: [[ 778    2    0]\n",
      " [  24 1019    3]\n",
      " [   0    8   80]]\n",
      "Classification Report:               precision    recall  f1-score   support\n",
      "\n",
      "           1       0.97      1.00      0.98       780\n",
      "           2       0.99      0.97      0.98      1046\n",
      "           3       0.96      0.91      0.94        88\n",
      "\n",
      "    accuracy                           0.98      1914\n",
      "   macro avg       0.97      0.96      0.97      1914\n",
      "weighted avg       0.98      0.98      0.98      1914\n",
      "\n",
      "END OF THE MODEL----------------------------------- \n",
      "\n",
      "\n",
      "score of  KNeighborsClassifier() is: 0.9436910377358491\n",
      "Metrics:\n",
      "Accuracy Score: 0.9310344827586207\n",
      "Confusion Matrix: [[ 699   81    0]\n",
      " [  34 1010    2]\n",
      " [   1   14   73]]\n",
      "Classification Report:               precision    recall  f1-score   support\n",
      "\n",
      "           1       0.95      0.90      0.92       780\n",
      "           2       0.91      0.97      0.94      1046\n",
      "           3       0.97      0.83      0.90        88\n",
      "\n",
      "    accuracy                           0.93      1914\n",
      "   macro avg       0.95      0.90      0.92      1914\n",
      "weighted avg       0.93      0.93      0.93      1914\n",
      "\n",
      "END OF THE MODEL----------------------------------- \n",
      "\n",
      "\n",
      "score of  DecisionTreeClassifier() is: 1.0\n",
      "Metrics:\n",
      "Accuracy Score: 0.9853709508881923\n",
      "Confusion Matrix: [[ 780    0    0]\n",
      " [   0 1030   16]\n",
      " [   0   12   76]]\n",
      "Classification Report:               precision    recall  f1-score   support\n",
      "\n",
      "           1       1.00      1.00      1.00       780\n",
      "           2       0.99      0.98      0.99      1046\n",
      "           3       0.83      0.86      0.84        88\n",
      "\n",
      "    accuracy                           0.99      1914\n",
      "   macro avg       0.94      0.95      0.94      1914\n",
      "weighted avg       0.99      0.99      0.99      1914\n",
      "\n",
      "END OF THE MODEL----------------------------------- \n",
      "\n",
      "\n"
     ]
    }
   ],
   "source": [
    "#creating a for loop for all the models\n",
    "model=[SVC(),KNeighborsClassifier(),DecisionTreeClassifier()]\n",
    "for m in model:\n",
    "    m.fit(x_train,y_train)\n",
    "    print('score of ',m,'is:',m.score(x_train,y_train))\n",
    "    predm=m.predict(x_test)\n",
    "    print('Metrics:')\n",
    "    print('Accuracy Score:',accuracy_score(y_test,predm))\n",
    "    print('Confusion Matrix:',confusion_matrix(y_test,predm))\n",
    "    print('Classification Report:',classification_report(y_test,predm))\n",
    "    print('END OF THE MODEL----------------------------------- ')\n",
    "    print('\\n')"
   ]
  },
  {
   "cell_type": "markdown",
   "metadata": {},
   "source": [
    "Of the above models dtc has the best accuracy score lets check for parameter tuning"
   ]
  },
  {
   "cell_type": "code",
   "execution_count": 39,
   "metadata": {},
   "outputs": [
    {
     "data": {
      "text/plain": [
       "{'criterion': 'entropy', 'random_state': 98}"
      ]
     },
     "execution_count": 39,
     "metadata": {},
     "output_type": "execute_result"
    }
   ],
   "source": [
    "#finding the best parameters for Decision Tree  Classifier using GridSearchcv\n",
    "from sklearn.model_selection import GridSearchCV\n",
    "dtc=DecisionTreeClassifier()\n",
    "parameters={'criterion':['gini','entropy'],'random_state':range(0,100)}\n",
    "clf_class=GridSearchCV(estimator=dtc,param_grid=parameters,cv=10,scoring='accuracy')\n",
    "clf_class.fit(x,y)\n",
    "clf_class.best_params_"
   ]
  },
  {
   "cell_type": "code",
   "execution_count": 40,
   "metadata": {},
   "outputs": [
    {
     "name": "stdout",
     "output_type": "stream",
     "text": [
      "Accuracy score: 0.9890282131661442\n",
      "Confusion matrix:\n",
      " [[ 779    1    0]\n",
      " [   0 1040    6]\n",
      " [   0   14   74]]\n",
      "Classification report:\n",
      "               precision    recall  f1-score   support\n",
      "\n",
      "           1       1.00      1.00      1.00       780\n",
      "           2       0.99      0.99      0.99      1046\n",
      "           3       0.93      0.84      0.88        88\n",
      "\n",
      "    accuracy                           0.99      1914\n",
      "   macro avg       0.97      0.94      0.96      1914\n",
      "weighted avg       0.99      0.99      0.99      1914\n",
      "\n"
     ]
    }
   ],
   "source": [
    "#final dtc model with best parameters:\n",
    "\n",
    "dtc=DecisionTreeClassifier(criterion='entropy',random_state=98)\n",
    "dtc.fit(x_train,y_train)\n",
    "dtc.score(x_train,y_train)\n",
    "preddtc=dtc.predict(x_test)\n",
    "\n",
    "print('Accuracy score:',accuracy_score(y_test,preddtc))\n",
    "print('Confusion matrix:\\n',confusion_matrix(y_test,preddtc))\n",
    "print('Classification report:\\n',classification_report(y_test,preddtc))\n"
   ]
  },
  {
   "cell_type": "markdown",
   "metadata": {},
   "source": [
    "By parameter tuning the score of dtc model has been improved from 0.986 to 0.989"
   ]
  },
  {
   "cell_type": "markdown",
   "metadata": {},
   "source": [
    "## Ensemble methods "
   ]
  },
  {
   "cell_type": "code",
   "execution_count": 41,
   "metadata": {},
   "outputs": [],
   "source": [
    "#importing libraries\n",
    "from sklearn.ensemble import RandomForestClassifier\n",
    "from sklearn.ensemble import AdaBoostClassifier\n",
    "from sklearn.ensemble import GradientBoostingClassifier\n",
    "from sklearn.ensemble import BaggingClassifier\n",
    "from sklearn.ensemble import ExtraTreesClassifier"
   ]
  },
  {
   "cell_type": "code",
   "execution_count": 42,
   "metadata": {},
   "outputs": [
    {
     "name": "stdout",
     "output_type": "stream",
     "text": [
      "score of  RandomForestClassifier() is: 1.0\n",
      "Metrics:\n",
      "Accuracy Score: 0.9932079414838035\n",
      "Confusion Matrix: [[ 780    0    0]\n",
      " [   1 1040    5]\n",
      " [   0    7   81]]\n",
      "Classification Report:               precision    recall  f1-score   support\n",
      "\n",
      "           1       1.00      1.00      1.00       780\n",
      "           2       0.99      0.99      0.99      1046\n",
      "           3       0.94      0.92      0.93        88\n",
      "\n",
      "    accuracy                           0.99      1914\n",
      "   macro avg       0.98      0.97      0.97      1914\n",
      "weighted avg       0.99      0.99      0.99      1914\n",
      "\n",
      "END OF THE MODEL----------------------------------- \n",
      "\n",
      "\n",
      "score of  AdaBoostClassifier() is: 0.9264445754716981\n",
      "Metrics:\n",
      "Accuracy Score: 0.9294670846394985\n",
      "Confusion Matrix: [[ 736   44    0]\n",
      " [   2 1043    1]\n",
      " [   0   88    0]]\n",
      "Classification Report:               precision    recall  f1-score   support\n",
      "\n",
      "           1       1.00      0.94      0.97       780\n",
      "           2       0.89      1.00      0.94      1046\n",
      "           3       0.00      0.00      0.00        88\n",
      "\n",
      "    accuracy                           0.93      1914\n",
      "   macro avg       0.63      0.65      0.64      1914\n",
      "weighted avg       0.89      0.93      0.91      1914\n",
      "\n",
      "END OF THE MODEL----------------------------------- \n",
      "\n",
      "\n",
      "score of  GradientBoostingClassifier() is: 0.9988207547169812\n",
      "Metrics:\n",
      "Accuracy Score: 0.9947753396029259\n",
      "Confusion Matrix: [[ 780    0    0]\n",
      " [   0 1042    4]\n",
      " [   0    6   82]]\n",
      "Classification Report:               precision    recall  f1-score   support\n",
      "\n",
      "           1       1.00      1.00      1.00       780\n",
      "           2       0.99      1.00      1.00      1046\n",
      "           3       0.95      0.93      0.94        88\n",
      "\n",
      "    accuracy                           0.99      1914\n",
      "   macro avg       0.98      0.98      0.98      1914\n",
      "weighted avg       0.99      0.99      0.99      1914\n",
      "\n",
      "END OF THE MODEL----------------------------------- \n",
      "\n",
      "\n",
      "score of  BaggingClassifier() is: 0.9979363207547169\n",
      "Metrics:\n",
      "Accuracy Score: 0.9905956112852664\n",
      "Confusion Matrix: [[ 780    0    0]\n",
      " [   0 1037    9]\n",
      " [   0    9   79]]\n",
      "Classification Report:               precision    recall  f1-score   support\n",
      "\n",
      "           1       1.00      1.00      1.00       780\n",
      "           2       0.99      0.99      0.99      1046\n",
      "           3       0.90      0.90      0.90        88\n",
      "\n",
      "    accuracy                           0.99      1914\n",
      "   macro avg       0.96      0.96      0.96      1914\n",
      "weighted avg       0.99      0.99      0.99      1914\n",
      "\n",
      "END OF THE MODEL----------------------------------- \n",
      "\n",
      "\n",
      "score of  ExtraTreesClassifier() is: 1.0\n",
      "Metrics:\n",
      "Accuracy Score: 0.9864158829676071\n",
      "Confusion Matrix: [[ 775    5    0]\n",
      " [   9 1034    3]\n",
      " [   1    8   79]]\n",
      "Classification Report:               precision    recall  f1-score   support\n",
      "\n",
      "           1       0.99      0.99      0.99       780\n",
      "           2       0.99      0.99      0.99      1046\n",
      "           3       0.96      0.90      0.93        88\n",
      "\n",
      "    accuracy                           0.99      1914\n",
      "   macro avg       0.98      0.96      0.97      1914\n",
      "weighted avg       0.99      0.99      0.99      1914\n",
      "\n",
      "END OF THE MODEL----------------------------------- \n",
      "\n",
      "\n"
     ]
    }
   ],
   "source": [
    "#by using loop\n",
    "model=[RandomForestClassifier(),AdaBoostClassifier(),GradientBoostingClassifier(),BaggingClassifier(),ExtraTreesClassifier()]\n",
    "\n",
    "for m in model:\n",
    "    m.fit(x_train,y_train)\n",
    "    print('score of ',m,'is:',m.score(x_train,y_train))\n",
    "    predm=m.predict(x_test)\n",
    "    print('Metrics:')\n",
    "    print('Accuracy Score:',accuracy_score(y_test,predm))\n",
    "    print('Confusion Matrix:',confusion_matrix(y_test,predm))\n",
    "    print('Classification Report:',classification_report(y_test,predm))\n",
    "    print('END OF THE MODEL----------------------------------- ')\n",
    "    print('\\n')"
   ]
  },
  {
   "cell_type": "code",
   "execution_count": 43,
   "metadata": {},
   "outputs": [
    {
     "name": "stdout",
     "output_type": "stream",
     "text": [
      "score: 1.0\n",
      "\n",
      "\n",
      "Accuracy Score: 0.9942528735632183\n",
      "Confusion Matrix: [[ 780    0    0]\n",
      " [   1 1042    3]\n",
      " [   0    7   81]]\n",
      "Classification Report:               precision    recall  f1-score   support\n",
      "\n",
      "           1       1.00      1.00      1.00       780\n",
      "           2       0.99      1.00      0.99      1046\n",
      "           3       0.96      0.92      0.94        88\n",
      "\n",
      "    accuracy                           0.99      1914\n",
      "   macro avg       0.99      0.97      0.98      1914\n",
      "weighted avg       0.99      0.99      0.99      1914\n",
      "\n"
     ]
    }
   ],
   "source": [
    "#random forest classifier model\n",
    "rfc=RandomForestClassifier()\n",
    "rfc.fit(x_train,y_train)\n",
    "print('score:',rfc.score(x_train,y_train))\n",
    "predrfc=rfc.predict(x_test)\n",
    "print('\\n')\n",
    "print('Accuracy Score:',accuracy_score(y_test,predrfc))\n",
    "print('Confusion Matrix:',confusion_matrix(y_test,predrfc))\n",
    "print('Classification Report:',classification_report(y_test,predrfc))"
   ]
  },
  {
   "cell_type": "code",
   "execution_count": 44,
   "metadata": {},
   "outputs": [
    {
     "name": "stdout",
     "output_type": "stream",
     "text": [
      "Score: [0.9862069  0.98965517 0.98965517 0.99195402 0.98965517 0.98850575\n",
      " 0.98505747 0.9816092  0.99309551 0.98849252]\n",
      "Mean Score: 0.9883886882795657\n",
      "Standard Deviation: 0.003186235671386077\n"
     ]
    }
   ],
   "source": [
    "#cross validating Random forest classifier\n",
    "from sklearn.model_selection import cross_val_score\n",
    "score=cross_val_score(rfc,x,y,cv=10,scoring='accuracy')\n",
    "print('Score:',score)\n",
    "print('Mean Score:',score.mean())\n",
    "print('Standard Deviation:',score.std())"
   ]
  },
  {
   "cell_type": "markdown",
   "metadata": {},
   "source": [
    "The cross validation mean score is around 0.987.Thus the model is not under-fitted or over fitted.The Random Forest Classifier can be considered as the best model for this dataset. "
   ]
  },
  {
   "cell_type": "markdown",
   "metadata": {},
   "source": [
    "# Saving the model and result"
   ]
  },
  {
   "cell_type": "code",
   "execution_count": 45,
   "metadata": {},
   "outputs": [
    {
     "data": {
      "text/plain": [
       "['Space_Server.pkl']"
      ]
     },
     "execution_count": 45,
     "metadata": {},
     "output_type": "execute_result"
    }
   ],
   "source": [
    "#saving the RFC model\n",
    "import joblib\n",
    "joblib.dump(rfc,'Space_Server.pkl')"
   ]
  },
  {
   "cell_type": "code",
   "execution_count": 46,
   "metadata": {},
   "outputs": [],
   "source": [
    "#saving the output to csv file\n",
    "pred_OP=pd.DataFrame(predrfc)\n",
    "pred_OP.to_csv('Space_Server_classification.csv')"
   ]
  }
 ],
 "metadata": {
  "kernelspec": {
   "display_name": "Python 3",
   "language": "python",
   "name": "python3"
  },
  "language_info": {
   "codemirror_mode": {
    "name": "ipython",
    "version": 3
   },
   "file_extension": ".py",
   "mimetype": "text/x-python",
   "name": "python",
   "nbconvert_exporter": "python",
   "pygments_lexer": "ipython3",
   "version": "3.8.3"
  }
 },
 "nbformat": 4,
 "nbformat_minor": 4
}
