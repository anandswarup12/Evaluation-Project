{
 "cells": [
  {
   "cell_type": "markdown",
   "metadata": {},
   "source": [
    "# Evaluation Project 10\n",
    "Agriculture Dataset"
   ]
  },
  {
   "cell_type": "code",
   "execution_count": 1,
   "metadata": {},
   "outputs": [],
   "source": [
    "#importing libraries\n",
    "import pandas as pd\n",
    "import numpy as np\n",
    "import matplotlib.pyplot as plt\n",
    "import seaborn as sns\n",
    "import warnings\n",
    "warnings.filterwarnings('ignore')"
   ]
  },
  {
   "cell_type": "code",
   "execution_count": 2,
   "metadata": {},
   "outputs": [
    {
     "data": {
      "text/html": [
       "<div>\n",
       "<style scoped>\n",
       "    .dataframe tbody tr th:only-of-type {\n",
       "        vertical-align: middle;\n",
       "    }\n",
       "\n",
       "    .dataframe tbody tr th {\n",
       "        vertical-align: top;\n",
       "    }\n",
       "\n",
       "    .dataframe thead th {\n",
       "        text-align: right;\n",
       "    }\n",
       "</style>\n",
       "<table border=\"1\" class=\"dataframe\">\n",
       "  <thead>\n",
       "    <tr style=\"text-align: right;\">\n",
       "      <th></th>\n",
       "      <th>ID</th>\n",
       "      <th>Estimated_Insects_Count</th>\n",
       "      <th>Crop_Type</th>\n",
       "      <th>Soil_Type</th>\n",
       "      <th>Pesticide_Use_Category</th>\n",
       "      <th>Number_Doses_Week</th>\n",
       "      <th>Number_Weeks_Used</th>\n",
       "      <th>Number_Weeks_Quit</th>\n",
       "      <th>Season</th>\n",
       "      <th>Crop_Damage</th>\n",
       "    </tr>\n",
       "  </thead>\n",
       "  <tbody>\n",
       "    <tr>\n",
       "      <th>0</th>\n",
       "      <td>F00000001</td>\n",
       "      <td>188</td>\n",
       "      <td>1</td>\n",
       "      <td>0</td>\n",
       "      <td>1</td>\n",
       "      <td>0</td>\n",
       "      <td>0.0</td>\n",
       "      <td>0</td>\n",
       "      <td>1</td>\n",
       "      <td>0</td>\n",
       "    </tr>\n",
       "    <tr>\n",
       "      <th>1</th>\n",
       "      <td>F00000003</td>\n",
       "      <td>209</td>\n",
       "      <td>1</td>\n",
       "      <td>0</td>\n",
       "      <td>1</td>\n",
       "      <td>0</td>\n",
       "      <td>0.0</td>\n",
       "      <td>0</td>\n",
       "      <td>2</td>\n",
       "      <td>1</td>\n",
       "    </tr>\n",
       "    <tr>\n",
       "      <th>2</th>\n",
       "      <td>F00000004</td>\n",
       "      <td>257</td>\n",
       "      <td>1</td>\n",
       "      <td>0</td>\n",
       "      <td>1</td>\n",
       "      <td>0</td>\n",
       "      <td>0.0</td>\n",
       "      <td>0</td>\n",
       "      <td>2</td>\n",
       "      <td>1</td>\n",
       "    </tr>\n",
       "    <tr>\n",
       "      <th>3</th>\n",
       "      <td>F00000005</td>\n",
       "      <td>257</td>\n",
       "      <td>1</td>\n",
       "      <td>1</td>\n",
       "      <td>1</td>\n",
       "      <td>0</td>\n",
       "      <td>0.0</td>\n",
       "      <td>0</td>\n",
       "      <td>2</td>\n",
       "      <td>1</td>\n",
       "    </tr>\n",
       "    <tr>\n",
       "      <th>4</th>\n",
       "      <td>F00000006</td>\n",
       "      <td>342</td>\n",
       "      <td>1</td>\n",
       "      <td>0</td>\n",
       "      <td>1</td>\n",
       "      <td>0</td>\n",
       "      <td>0.0</td>\n",
       "      <td>0</td>\n",
       "      <td>2</td>\n",
       "      <td>1</td>\n",
       "    </tr>\n",
       "    <tr>\n",
       "      <th>...</th>\n",
       "      <td>...</td>\n",
       "      <td>...</td>\n",
       "      <td>...</td>\n",
       "      <td>...</td>\n",
       "      <td>...</td>\n",
       "      <td>...</td>\n",
       "      <td>...</td>\n",
       "      <td>...</td>\n",
       "      <td>...</td>\n",
       "      <td>...</td>\n",
       "    </tr>\n",
       "    <tr>\n",
       "      <th>4594</th>\n",
       "      <td>F00008078</td>\n",
       "      <td>2138</td>\n",
       "      <td>0</td>\n",
       "      <td>1</td>\n",
       "      <td>2</td>\n",
       "      <td>20</td>\n",
       "      <td>NaN</td>\n",
       "      <td>1</td>\n",
       "      <td>1</td>\n",
       "      <td>1</td>\n",
       "    </tr>\n",
       "    <tr>\n",
       "      <th>4595</th>\n",
       "      <td>F00008079</td>\n",
       "      <td>2139</td>\n",
       "      <td>0</td>\n",
       "      <td>1</td>\n",
       "      <td>2</td>\n",
       "      <td>30</td>\n",
       "      <td>47.0</td>\n",
       "      <td>2</td>\n",
       "      <td>1</td>\n",
       "      <td>1</td>\n",
       "    </tr>\n",
       "    <tr>\n",
       "      <th>4596</th>\n",
       "      <td>F00008080</td>\n",
       "      <td>2267</td>\n",
       "      <td>0</td>\n",
       "      <td>1</td>\n",
       "      <td>2</td>\n",
       "      <td>10</td>\n",
       "      <td>7.0</td>\n",
       "      <td>27</td>\n",
       "      <td>2</td>\n",
       "      <td>0</td>\n",
       "    </tr>\n",
       "    <tr>\n",
       "      <th>4597</th>\n",
       "      <td>F00008082</td>\n",
       "      <td>2267</td>\n",
       "      <td>0</td>\n",
       "      <td>1</td>\n",
       "      <td>2</td>\n",
       "      <td>10</td>\n",
       "      <td>20.0</td>\n",
       "      <td>24</td>\n",
       "      <td>2</td>\n",
       "      <td>0</td>\n",
       "    </tr>\n",
       "    <tr>\n",
       "      <th>4598</th>\n",
       "      <td>F00008083</td>\n",
       "      <td>2267</td>\n",
       "      <td>0</td>\n",
       "      <td>1</td>\n",
       "      <td>2</td>\n",
       "      <td>10</td>\n",
       "      <td>33.0</td>\n",
       "      <td>17</td>\n",
       "      <td>2</td>\n",
       "      <td>0</td>\n",
       "    </tr>\n",
       "  </tbody>\n",
       "</table>\n",
       "<p>4599 rows × 10 columns</p>\n",
       "</div>"
      ],
      "text/plain": [
       "             ID  Estimated_Insects_Count  Crop_Type  Soil_Type  \\\n",
       "0     F00000001                      188          1          0   \n",
       "1     F00000003                      209          1          0   \n",
       "2     F00000004                      257          1          0   \n",
       "3     F00000005                      257          1          1   \n",
       "4     F00000006                      342          1          0   \n",
       "...         ...                      ...        ...        ...   \n",
       "4594  F00008078                     2138          0          1   \n",
       "4595  F00008079                     2139          0          1   \n",
       "4596  F00008080                     2267          0          1   \n",
       "4597  F00008082                     2267          0          1   \n",
       "4598  F00008083                     2267          0          1   \n",
       "\n",
       "      Pesticide_Use_Category  Number_Doses_Week  Number_Weeks_Used  \\\n",
       "0                          1                  0                0.0   \n",
       "1                          1                  0                0.0   \n",
       "2                          1                  0                0.0   \n",
       "3                          1                  0                0.0   \n",
       "4                          1                  0                0.0   \n",
       "...                      ...                ...                ...   \n",
       "4594                       2                 20                NaN   \n",
       "4595                       2                 30               47.0   \n",
       "4596                       2                 10                7.0   \n",
       "4597                       2                 10               20.0   \n",
       "4598                       2                 10               33.0   \n",
       "\n",
       "      Number_Weeks_Quit  Season  Crop_Damage  \n",
       "0                     0       1            0  \n",
       "1                     0       2            1  \n",
       "2                     0       2            1  \n",
       "3                     0       2            1  \n",
       "4                     0       2            1  \n",
       "...                 ...     ...          ...  \n",
       "4594                  1       1            1  \n",
       "4595                  2       1            1  \n",
       "4596                 27       2            0  \n",
       "4597                 24       2            0  \n",
       "4598                 17       2            0  \n",
       "\n",
       "[4599 rows x 10 columns]"
      ]
     },
     "execution_count": 2,
     "metadata": {},
     "output_type": "execute_result"
    }
   ],
   "source": [
    "#importing the file from csv into a dataframe\n",
    "ds=pd.read_csv('train_agriculture.csv')\n",
    "ds"
   ]
  },
  {
   "cell_type": "markdown",
   "metadata": {},
   "source": [
    "We have a dataset based on crops harvested by various farmers at the end of harvest season. Our aim is to develop a model to determine the outcome of the harvest season, i.e. whether the crop would be healthy (alive), damaged by pesticides or damaged by other reasons.\n"
   ]
  },
  {
   "cell_type": "code",
   "execution_count": 3,
   "metadata": {},
   "outputs": [
    {
     "data": {
      "text/plain": [
       "Index(['ID', 'Estimated_Insects_Count', 'Crop_Type', 'Soil_Type',\n",
       "       'Pesticide_Use_Category', 'Number_Doses_Week', 'Number_Weeks_Used',\n",
       "       'Number_Weeks_Quit', 'Season', 'Crop_Damage'],\n",
       "      dtype='object')"
      ]
     },
     "execution_count": 3,
     "metadata": {},
     "output_type": "execute_result"
    }
   ],
   "source": [
    "#lets check the columns\n",
    "ds.columns"
   ]
  },
  {
   "cell_type": "markdown",
   "metadata": {},
   "source": [
    "### Column Description:-\n",
    "\n",
    "1. ID - UniqueID\n",
    "2. Estimated_Insects_Count - Estimated insects count per square meter\n",
    "3. Crop_Type - Category of Crop(0,1)\n",
    "4. Soil_Type - Category of Soil(0,1)\n",
    "5. Pesticide_Use_Category - Type of pesticides uses(1-Never,2-Previously used,3-Currently using)\n",
    "6. Number_Doses_Week - Number of doses per week\n",
    "7. Number_Weeks_Used - Number of weeks used\n",
    "8. Number_Weeks_Quit - Number of weeks quit\n",
    "9. Season - Season Category(1,2,3)\n",
    "10. Crop_Damage - Crop Damage Category(0=alive,1=Damage due to other causes,2=Damage due to pesticides)"
   ]
  },
  {
   "cell_type": "code",
   "execution_count": 4,
   "metadata": {},
   "outputs": [
    {
     "data": {
      "text/plain": [
       "ID                          object\n",
       "Estimated_Insects_Count      int64\n",
       "Crop_Type                    int64\n",
       "Soil_Type                    int64\n",
       "Pesticide_Use_Category       int64\n",
       "Number_Doses_Week            int64\n",
       "Number_Weeks_Used          float64\n",
       "Number_Weeks_Quit            int64\n",
       "Season                       int64\n",
       "Crop_Damage                  int64\n",
       "dtype: object"
      ]
     },
     "execution_count": 4,
     "metadata": {},
     "output_type": "execute_result"
    }
   ],
   "source": [
    "#lets check the datatypes\n",
    "ds.dtypes"
   ]
  },
  {
   "cell_type": "code",
   "execution_count": 5,
   "metadata": {},
   "outputs": [
    {
     "data": {
      "text/plain": [
       "ID                           0\n",
       "Estimated_Insects_Count      0\n",
       "Crop_Type                    0\n",
       "Soil_Type                    0\n",
       "Pesticide_Use_Category       0\n",
       "Number_Doses_Week            0\n",
       "Number_Weeks_Used          442\n",
       "Number_Weeks_Quit            0\n",
       "Season                       0\n",
       "Crop_Damage                  0\n",
       "dtype: int64"
      ]
     },
     "execution_count": 5,
     "metadata": {},
     "output_type": "execute_result"
    }
   ],
   "source": [
    "#lets check for any missing values\n",
    "ds.isnull().sum()"
   ]
  },
  {
   "cell_type": "code",
   "execution_count": 6,
   "metadata": {},
   "outputs": [
    {
     "data": {
      "text/plain": [
       "array([ 0., nan, 26., 20., 15., 14., 19., 24.,  8., 23., 25., 28., 29.,\n",
       "       22., 21., 17., 30., 35., 32., 27., 16., 31., 33., 34., 39., 38.,\n",
       "       42., 40., 41., 36., 44., 37., 46., 45., 47., 43., 50., 10., 49.,\n",
       "       53., 48., 51., 54., 52., 55., 56., 61., 18., 57., 62., 60., 63.,\n",
       "       66., 59., 64., 13.,  7.,  5., 12.,  6.,  9., 58., 11., 65.])"
      ]
     },
     "execution_count": 6,
     "metadata": {},
     "output_type": "execute_result"
    }
   ],
   "source": [
    "#lets check the distinct values of Number_Weeks_Used\n",
    "ds['Number_Weeks_Used'].unique()"
   ]
  },
  {
   "cell_type": "code",
   "execution_count": 7,
   "metadata": {},
   "outputs": [],
   "source": [
    "#lets fill the missing datas with most frequent value\n",
    "ds['Number_Weeks_Used'].replace(np.nan,ds['Number_Weeks_Used'].mode()[0],inplace=True)"
   ]
  },
  {
   "cell_type": "code",
   "execution_count": 8,
   "metadata": {},
   "outputs": [
    {
     "data": {
      "text/plain": [
       "<matplotlib.axes._subplots.AxesSubplot at 0x20bfa9b52e0>"
      ]
     },
     "execution_count": 8,
     "metadata": {},
     "output_type": "execute_result"
    },
    {
     "data": {
      "image/png": "[encoded data removed]",
      "text/plain": [
       "<Figure size 432x288 with 2 Axes>"
      ]
     },
     "metadata": {
      "needs_background": "light"
     },
     "output_type": "display_data"
    }
   ],
   "source": [
    "#again check for missing data\n",
    "sns.heatmap(ds.isnull())"
   ]
  },
  {
   "cell_type": "code",
   "execution_count": 9,
   "metadata": {},
   "outputs": [
    {
     "data": {
      "text/html": [
       "<div>\n",
       "<style scoped>\n",
       "    .dataframe tbody tr th:only-of-type {\n",
       "        vertical-align: middle;\n",
       "    }\n",
       "\n",
       "    .dataframe tbody tr th {\n",
       "        vertical-align: top;\n",
       "    }\n",
       "\n",
       "    .dataframe thead th {\n",
       "        text-align: right;\n",
       "    }\n",
       "</style>\n",
       "<table border=\"1\" class=\"dataframe\">\n",
       "  <thead>\n",
       "    <tr style=\"text-align: right;\">\n",
       "      <th></th>\n",
       "      <th>Estimated_Insects_Count</th>\n",
       "      <th>Crop_Type</th>\n",
       "      <th>Soil_Type</th>\n",
       "      <th>Pesticide_Use_Category</th>\n",
       "      <th>Number_Doses_Week</th>\n",
       "      <th>Number_Weeks_Used</th>\n",
       "      <th>Number_Weeks_Quit</th>\n",
       "      <th>Season</th>\n",
       "      <th>Crop_Damage</th>\n",
       "    </tr>\n",
       "  </thead>\n",
       "  <tbody>\n",
       "    <tr>\n",
       "      <th>count</th>\n",
       "      <td>4599.000000</td>\n",
       "      <td>4599.000000</td>\n",
       "      <td>4599.000000</td>\n",
       "      <td>4599.000000</td>\n",
       "      <td>4599.000000</td>\n",
       "      <td>4599.000000</td>\n",
       "      <td>4599.000000</td>\n",
       "      <td>4599.000000</td>\n",
       "      <td>4599.000000</td>\n",
       "    </tr>\n",
       "    <tr>\n",
       "      <th>mean</th>\n",
       "      <td>1363.000435</td>\n",
       "      <td>0.224831</td>\n",
       "      <td>0.476625</td>\n",
       "      <td>2.283540</td>\n",
       "      <td>26.477495</td>\n",
       "      <td>28.036530</td>\n",
       "      <td>9.205479</td>\n",
       "      <td>1.894325</td>\n",
       "      <td>0.194390</td>\n",
       "    </tr>\n",
       "    <tr>\n",
       "      <th>std</th>\n",
       "      <td>814.439120</td>\n",
       "      <td>0.417517</td>\n",
       "      <td>0.499508</td>\n",
       "      <td>0.471978</td>\n",
       "      <td>15.524647</td>\n",
       "      <td>12.249436</td>\n",
       "      <td>9.713253</td>\n",
       "      <td>0.694952</td>\n",
       "      <td>0.454597</td>\n",
       "    </tr>\n",
       "    <tr>\n",
       "      <th>min</th>\n",
       "      <td>150.000000</td>\n",
       "      <td>0.000000</td>\n",
       "      <td>0.000000</td>\n",
       "      <td>1.000000</td>\n",
       "      <td>0.000000</td>\n",
       "      <td>0.000000</td>\n",
       "      <td>0.000000</td>\n",
       "      <td>1.000000</td>\n",
       "      <td>0.000000</td>\n",
       "    </tr>\n",
       "    <tr>\n",
       "      <th>25%</th>\n",
       "      <td>731.000000</td>\n",
       "      <td>0.000000</td>\n",
       "      <td>0.000000</td>\n",
       "      <td>2.000000</td>\n",
       "      <td>15.000000</td>\n",
       "      <td>20.000000</td>\n",
       "      <td>0.000000</td>\n",
       "      <td>1.000000</td>\n",
       "      <td>0.000000</td>\n",
       "    </tr>\n",
       "    <tr>\n",
       "      <th>50%</th>\n",
       "      <td>1212.000000</td>\n",
       "      <td>0.000000</td>\n",
       "      <td>0.000000</td>\n",
       "      <td>2.000000</td>\n",
       "      <td>20.000000</td>\n",
       "      <td>26.000000</td>\n",
       "      <td>7.000000</td>\n",
       "      <td>2.000000</td>\n",
       "      <td>0.000000</td>\n",
       "    </tr>\n",
       "    <tr>\n",
       "      <th>75%</th>\n",
       "      <td>1786.000000</td>\n",
       "      <td>0.000000</td>\n",
       "      <td>1.000000</td>\n",
       "      <td>3.000000</td>\n",
       "      <td>40.000000</td>\n",
       "      <td>36.000000</td>\n",
       "      <td>16.000000</td>\n",
       "      <td>2.000000</td>\n",
       "      <td>0.000000</td>\n",
       "    </tr>\n",
       "    <tr>\n",
       "      <th>max</th>\n",
       "      <td>4097.000000</td>\n",
       "      <td>1.000000</td>\n",
       "      <td>1.000000</td>\n",
       "      <td>3.000000</td>\n",
       "      <td>95.000000</td>\n",
       "      <td>66.000000</td>\n",
       "      <td>47.000000</td>\n",
       "      <td>3.000000</td>\n",
       "      <td>2.000000</td>\n",
       "    </tr>\n",
       "  </tbody>\n",
       "</table>\n",
       "</div>"
      ],
      "text/plain": [
       "       Estimated_Insects_Count    Crop_Type    Soil_Type  \\\n",
       "count              4599.000000  4599.000000  4599.000000   \n",
       "mean               1363.000435     0.224831     0.476625   \n",
       "std                 814.439120     0.417517     0.499508   \n",
       "min                 150.000000     0.000000     0.000000   \n",
       "25%                 731.000000     0.000000     0.000000   \n",
       "50%                1212.000000     0.000000     0.000000   \n",
       "75%                1786.000000     0.000000     1.000000   \n",
       "max                4097.000000     1.000000     1.000000   \n",
       "\n",
       "       Pesticide_Use_Category  Number_Doses_Week  Number_Weeks_Used  \\\n",
       "count             4599.000000        4599.000000        4599.000000   \n",
       "mean                 2.283540          26.477495          28.036530   \n",
       "std                  0.471978          15.524647          12.249436   \n",
       "min                  1.000000           0.000000           0.000000   \n",
       "25%                  2.000000          15.000000          20.000000   \n",
       "50%                  2.000000          20.000000          26.000000   \n",
       "75%                  3.000000          40.000000          36.000000   \n",
       "max                  3.000000          95.000000          66.000000   \n",
       "\n",
       "       Number_Weeks_Quit       Season  Crop_Damage  \n",
       "count        4599.000000  4599.000000  4599.000000  \n",
       "mean            9.205479     1.894325     0.194390  \n",
       "std             9.713253     0.694952     0.454597  \n",
       "min             0.000000     1.000000     0.000000  \n",
       "25%             0.000000     1.000000     0.000000  \n",
       "50%             7.000000     2.000000     0.000000  \n",
       "75%            16.000000     2.000000     0.000000  \n",
       "max            47.000000     3.000000     2.000000  "
      ]
     },
     "execution_count": 9,
     "metadata": {},
     "output_type": "execute_result"
    }
   ],
   "source": [
    "#lets check the summary statistics\n",
    "ds.describe()"
   ]
  },
  {
   "cell_type": "markdown",
   "metadata": {},
   "source": [
    "### Inference\n",
    "1. The Mean is greater than median for all columns except Season,hence we can see a little bit of positive skewness in them.\n",
    "2. The minimum insects count is 150 and the maximum is 4097.\n",
    "3. There is high standard deviation for Number weeks quit.\n",
    "4. we can see a difference gap between the 75th percentile and max value of insect counts. So there is a chance that it may have outlier datas. "
   ]
  },
  {
   "cell_type": "code",
   "execution_count": 10,
   "metadata": {},
   "outputs": [
    {
     "data": {
      "text/html": [
       "<div>\n",
       "<style scoped>\n",
       "    .dataframe tbody tr th:only-of-type {\n",
       "        vertical-align: middle;\n",
       "    }\n",
       "\n",
       "    .dataframe tbody tr th {\n",
       "        vertical-align: top;\n",
       "    }\n",
       "\n",
       "    .dataframe thead th {\n",
       "        text-align: right;\n",
       "    }\n",
       "</style>\n",
       "<table border=\"1\" class=\"dataframe\">\n",
       "  <thead>\n",
       "    <tr style=\"text-align: right;\">\n",
       "      <th></th>\n",
       "      <th>Estimated_Insects_Count</th>\n",
       "      <th>Crop_Type</th>\n",
       "      <th>Soil_Type</th>\n",
       "      <th>Pesticide_Use_Category</th>\n",
       "      <th>Number_Doses_Week</th>\n",
       "      <th>Number_Weeks_Used</th>\n",
       "      <th>Number_Weeks_Quit</th>\n",
       "      <th>Season</th>\n",
       "      <th>Crop_Damage</th>\n",
       "    </tr>\n",
       "  </thead>\n",
       "  <tbody>\n",
       "    <tr>\n",
       "      <th>Estimated_Insects_Count</th>\n",
       "      <td>1.000000</td>\n",
       "      <td>-0.036911</td>\n",
       "      <td>-0.151796</td>\n",
       "      <td>-0.027111</td>\n",
       "      <td>-0.122509</td>\n",
       "      <td>0.422254</td>\n",
       "      <td>0.246719</td>\n",
       "      <td>-0.009482</td>\n",
       "      <td>0.202312</td>\n",
       "    </tr>\n",
       "    <tr>\n",
       "      <th>Crop_Type</th>\n",
       "      <td>-0.036911</td>\n",
       "      <td>1.000000</td>\n",
       "      <td>-0.175019</td>\n",
       "      <td>0.349662</td>\n",
       "      <td>-0.163832</td>\n",
       "      <td>-0.001181</td>\n",
       "      <td>-0.273475</td>\n",
       "      <td>-0.000549</td>\n",
       "      <td>0.021772</td>\n",
       "    </tr>\n",
       "    <tr>\n",
       "      <th>Soil_Type</th>\n",
       "      <td>-0.151796</td>\n",
       "      <td>-0.175019</td>\n",
       "      <td>1.000000</td>\n",
       "      <td>0.021661</td>\n",
       "      <td>0.050099</td>\n",
       "      <td>-0.093058</td>\n",
       "      <td>-0.034355</td>\n",
       "      <td>0.011052</td>\n",
       "      <td>-0.059481</td>\n",
       "    </tr>\n",
       "    <tr>\n",
       "      <th>Pesticide_Use_Category</th>\n",
       "      <td>-0.027111</td>\n",
       "      <td>0.349662</td>\n",
       "      <td>0.021661</td>\n",
       "      <td>1.000000</td>\n",
       "      <td>-0.005985</td>\n",
       "      <td>0.357684</td>\n",
       "      <td>-0.569467</td>\n",
       "      <td>0.008487</td>\n",
       "      <td>0.199195</td>\n",
       "    </tr>\n",
       "    <tr>\n",
       "      <th>Number_Doses_Week</th>\n",
       "      <td>-0.122509</td>\n",
       "      <td>-0.163832</td>\n",
       "      <td>0.050099</td>\n",
       "      <td>-0.005985</td>\n",
       "      <td>1.000000</td>\n",
       "      <td>0.099563</td>\n",
       "      <td>-0.032381</td>\n",
       "      <td>-0.003768</td>\n",
       "      <td>-0.018363</td>\n",
       "    </tr>\n",
       "    <tr>\n",
       "      <th>Number_Weeks_Used</th>\n",
       "      <td>0.422254</td>\n",
       "      <td>-0.001181</td>\n",
       "      <td>-0.093058</td>\n",
       "      <td>0.357684</td>\n",
       "      <td>0.099563</td>\n",
       "      <td>1.000000</td>\n",
       "      <td>-0.429923</td>\n",
       "      <td>-0.012550</td>\n",
       "      <td>0.222360</td>\n",
       "    </tr>\n",
       "    <tr>\n",
       "      <th>Number_Weeks_Quit</th>\n",
       "      <td>0.246719</td>\n",
       "      <td>-0.273475</td>\n",
       "      <td>-0.034355</td>\n",
       "      <td>-0.569467</td>\n",
       "      <td>-0.032381</td>\n",
       "      <td>-0.429923</td>\n",
       "      <td>1.000000</td>\n",
       "      <td>0.004861</td>\n",
       "      <td>-0.152918</td>\n",
       "    </tr>\n",
       "    <tr>\n",
       "      <th>Season</th>\n",
       "      <td>-0.009482</td>\n",
       "      <td>-0.000549</td>\n",
       "      <td>0.011052</td>\n",
       "      <td>0.008487</td>\n",
       "      <td>-0.003768</td>\n",
       "      <td>-0.012550</td>\n",
       "      <td>0.004861</td>\n",
       "      <td>1.000000</td>\n",
       "      <td>-0.016196</td>\n",
       "    </tr>\n",
       "    <tr>\n",
       "      <th>Crop_Damage</th>\n",
       "      <td>0.202312</td>\n",
       "      <td>0.021772</td>\n",
       "      <td>-0.059481</td>\n",
       "      <td>0.199195</td>\n",
       "      <td>-0.018363</td>\n",
       "      <td>0.222360</td>\n",
       "      <td>-0.152918</td>\n",
       "      <td>-0.016196</td>\n",
       "      <td>1.000000</td>\n",
       "    </tr>\n",
       "  </tbody>\n",
       "</table>\n",
       "</div>"
      ],
      "text/plain": [
       "                         Estimated_Insects_Count  Crop_Type  Soil_Type  \\\n",
       "Estimated_Insects_Count                 1.000000  -0.036911  -0.151796   \n",
       "Crop_Type                              -0.036911   1.000000  -0.175019   \n",
       "Soil_Type                              -0.151796  -0.175019   1.000000   \n",
       "Pesticide_Use_Category                 -0.027111   0.349662   0.021661   \n",
       "Number_Doses_Week                      -0.122509  -0.163832   0.050099   \n",
       "Number_Weeks_Used                       0.422254  -0.001181  -0.093058   \n",
       "Number_Weeks_Quit                       0.246719  -0.273475  -0.034355   \n",
       "Season                                 -0.009482  -0.000549   0.011052   \n",
       "Crop_Damage                             0.202312   0.021772  -0.059481   \n",
       "\n",
       "                         Pesticide_Use_Category  Number_Doses_Week  \\\n",
       "Estimated_Insects_Count               -0.027111          -0.122509   \n",
       "Crop_Type                              0.349662          -0.163832   \n",
       "Soil_Type                              0.021661           0.050099   \n",
       "Pesticide_Use_Category                 1.000000          -0.005985   \n",
       "Number_Doses_Week                     -0.005985           1.000000   \n",
       "Number_Weeks_Used                      0.357684           0.099563   \n",
       "Number_Weeks_Quit                     -0.569467          -0.032381   \n",
       "Season                                 0.008487          -0.003768   \n",
       "Crop_Damage                            0.199195          -0.018363   \n",
       "\n",
       "                         Number_Weeks_Used  Number_Weeks_Quit    Season  \\\n",
       "Estimated_Insects_Count           0.422254           0.246719 -0.009482   \n",
       "Crop_Type                        -0.001181          -0.273475 -0.000549   \n",
       "Soil_Type                        -0.093058          -0.034355  0.011052   \n",
       "Pesticide_Use_Category            0.357684          -0.569467  0.008487   \n",
       "Number_Doses_Week                 0.099563          -0.032381 -0.003768   \n",
       "Number_Weeks_Used                 1.000000          -0.429923 -0.012550   \n",
       "Number_Weeks_Quit                -0.429923           1.000000  0.004861   \n",
       "Season                           -0.012550           0.004861  1.000000   \n",
       "Crop_Damage                       0.222360          -0.152918 -0.016196   \n",
       "\n",
       "                         Crop_Damage  \n",
       "Estimated_Insects_Count     0.202312  \n",
       "Crop_Type                   0.021772  \n",
       "Soil_Type                  -0.059481  \n",
       "Pesticide_Use_Category      0.199195  \n",
       "Number_Doses_Week          -0.018363  \n",
       "Number_Weeks_Used           0.222360  \n",
       "Number_Weeks_Quit          -0.152918  \n",
       "Season                     -0.016196  \n",
       "Crop_Damage                 1.000000  "
      ]
     },
     "execution_count": 10,
     "metadata": {},
     "output_type": "execute_result"
    }
   ],
   "source": [
    "#lets find the correlation\n",
    "ds.corr()"
   ]
  },
  {
   "cell_type": "code",
   "execution_count": 11,
   "metadata": {},
   "outputs": [
    {
     "data": {
      "image/png": "[encoded data removed]",
      "text/plain": [
       "<Figure size 720x720 with 2 Axes>"
      ]
     },
     "metadata": {
      "needs_background": "light"
     },
     "output_type": "display_data"
    }
   ],
   "source": [
    "#lets visyualize correlation graphicallly\n",
    "plt.figure(figsize=(10,10))\n",
    "sns.heatmap(ds.corr(),annot=True)\n",
    "plt.show()"
   ]
  },
  {
   "cell_type": "markdown",
   "metadata": {},
   "source": [
    "Our Target variable is showing negative correlation with crop type,soil type,number doses week,number weeks quit and season. That is,these are the factors which shows higher dependancies for the crop to be wealthy.\n",
    "The factors estimated insects counts,pesticide use category and number weeks used shows positive correlation, As if these factors increases the damage of crops also increases. "
   ]
  },
  {
   "cell_type": "code",
   "execution_count": 12,
   "metadata": {},
   "outputs": [
    {
     "data": {
      "image/png": "[encoded data removed]",
      "text/plain": [
       "<Figure size 432x288 with 1 Axes>"
      ]
     },
     "metadata": {
      "needs_background": "light"
     },
     "output_type": "display_data"
    },
    {
     "name": "stdout",
     "output_type": "stream",
     "text": [
      "Crop_Damage\n",
      "0    1282.352094\n",
      "1    1772.251506\n",
      "2    1678.947826\n",
      "Name: Estimated_Insects_Count, dtype: float64\n"
     ]
    }
   ],
   "source": [
    "#lets check the damage type of crop with insects count\n",
    "plt.figure()\n",
    "sns.barplot(x='Crop_Damage',y='Estimated_Insects_Count',data=ds)\n",
    "plt.show()\n",
    "print(ds.groupby('Crop_Damage')['Estimated_Insects_Count'].mean())"
   ]
  },
  {
   "cell_type": "markdown",
   "metadata": {},
   "source": [
    "This shows that the healthy crops has the lowest mean count of insects and the crops damaged due to other causes have highest count of insects."
   ]
  },
  {
   "cell_type": "code",
   "execution_count": 13,
   "metadata": {},
   "outputs": [
    {
     "data": {
      "image/png": "[encoded data removed]",
      "text/plain": [
       "<Figure size 432x288 with 1 Axes>"
      ]
     },
     "metadata": {
      "needs_background": "light"
     },
     "output_type": "display_data"
    },
    {
     "name": "stdout",
     "output_type": "stream",
     "text": [
      "0    3820\n",
      "1     664\n",
      "2     115\n",
      "Name: Crop_Damage, dtype: int64\n"
     ]
    }
   ],
   "source": [
    "#counts of damage types\n",
    "plt.figure()\n",
    "sns.countplot(x='Crop_Damage',data=ds)\n",
    "plt.show()\n",
    "print(ds['Crop_Damage'].value_counts())"
   ]
  },
  {
   "cell_type": "markdown",
   "metadata": {},
   "source": [
    "The maximum number of crops are healthy and the least are those damaged due to pesticides."
   ]
  },
  {
   "cell_type": "code",
   "execution_count": 14,
   "metadata": {},
   "outputs": [
    {
     "data": {
      "image/png": "[encoded data removed]",
      "text/plain": [
       "<Figure size 432x288 with 1 Axes>"
      ]
     },
     "metadata": {
      "needs_background": "light"
     },
     "output_type": "display_data"
    },
    {
     "name": "stdout",
     "output_type": "stream",
     "text": [
      "Crop_Damage  Crop_Type\n",
      "0            0            2979\n",
      "             1             841\n",
      "1            0             498\n",
      "             1             166\n",
      "2            0              88\n",
      "             1              27\n",
      "Name: Crop_Type, dtype: int64\n"
     ]
    }
   ],
   "source": [
    "#crop type against crop damage\n",
    "plt.figure()\n",
    "sns.countplot(x='Crop_Damage',hue='Crop_Type',data=ds)\n",
    "plt.show()\n",
    "print(ds.groupby('Crop_Damage')['Crop_Type'].value_counts())"
   ]
  },
  {
   "cell_type": "markdown",
   "metadata": {},
   "source": [
    "The crop type 0 has the maximum count of healthy crops. Also crop type 0 is the most used type also. Also the damage due to pesticides is the least for both crop types."
   ]
  },
  {
   "cell_type": "code",
   "execution_count": 15,
   "metadata": {},
   "outputs": [
    {
     "data": {
      "image/png": "[encoded data removed]",
      "text/plain": [
       "<Figure size 432x288 with 1 Axes>"
      ]
     },
     "metadata": {
      "needs_background": "light"
     },
     "output_type": "display_data"
    },
    {
     "name": "stdout",
     "output_type": "stream",
     "text": [
      "Crop_Damage  Soil_Type\n",
      "0            0            1947\n",
      "             1            1873\n",
      "1            0             390\n",
      "             1             274\n",
      "2            0              70\n",
      "             1              45\n",
      "Name: Soil_Type, dtype: int64\n"
     ]
    }
   ],
   "source": [
    "#soil type against crop damage\n",
    "plt.figure()\n",
    "sns.countplot(x='Crop_Damage',hue='Soil_Type',data=ds)\n",
    "plt.show()\n",
    "print(ds.groupby('Crop_Damage')['Soil_Type'].value_counts())"
   ]
  },
  {
   "cell_type": "markdown",
   "metadata": {},
   "source": [
    "There isnt a large difference between the soil types in terms of healthy crops, though the maximum count is high for wealthy crops in soil type 0."
   ]
  },
  {
   "cell_type": "code",
   "execution_count": 16,
   "metadata": {},
   "outputs": [
    {
     "data": {
      "image/png": "[encoded data removed]",
      "text/plain": [
       "<Figure size 432x288 with 1 Axes>"
      ]
     },
     "metadata": {
      "needs_background": "light"
     },
     "output_type": "display_data"
    },
    {
     "name": "stdout",
     "output_type": "stream",
     "text": [
      "Crop_Damage  Pesticide_Use_Category\n",
      "0            2                         2881\n",
      "             3                          932\n",
      "             1                            7\n",
      "1            3                          341\n",
      "             2                          290\n",
      "             1                           33\n",
      "2            3                           76\n",
      "             2                           34\n",
      "             1                            5\n",
      "Name: Pesticide_Use_Category, dtype: int64\n"
     ]
    }
   ],
   "source": [
    "#crop damage vs pesticide category\n",
    "plt.figure()\n",
    "sns.countplot(x='Crop_Damage',hue='Pesticide_Use_Category',data=ds)\n",
    "plt.show()\n",
    "print(ds.groupby('Crop_Damage')['Pesticide_Use_Category'].value_counts())"
   ]
  },
  {
   "cell_type": "markdown",
   "metadata": {},
   "source": [
    "Previously used pesticides had a max count for wealthy crops. It is evident that although pesticides has been used more number of wealthy crops are seen. Those crops which are damaged due to pesticides have more count for the currently using pesticides."
   ]
  },
  {
   "cell_type": "code",
   "execution_count": 17,
   "metadata": {},
   "outputs": [
    {
     "data": {
      "image/png": "[encoded data removed]",
      "text/plain": [
       "<Figure size 432x288 with 1 Axes>"
      ]
     },
     "metadata": {
      "needs_background": "light"
     },
     "output_type": "display_data"
    },
    {
     "name": "stdout",
     "output_type": "stream",
     "text": [
      "Crop_Damage\n",
      "0    26.692408\n",
      "1    24.902108\n",
      "2    28.434783\n",
      "Name: Number_Doses_Week, dtype: float64\n"
     ]
    }
   ],
   "source": [
    "#crop damage vs Number doses weeks\n",
    "plt.figure()\n",
    "sns.barplot(x='Crop_Damage',y='Number_Doses_Week',data=ds)\n",
    "plt.show()\n",
    "print(ds.groupby('Crop_Damage')['Number_Doses_Week'].mean())"
   ]
  },
  {
   "cell_type": "markdown",
   "metadata": {},
   "source": [
    "The average of number of doses per week is less in the case of damaged crops due to other reasons. "
   ]
  },
  {
   "cell_type": "code",
   "execution_count": 18,
   "metadata": {},
   "outputs": [
    {
     "data": {
      "image/png": "[encoded data removed]",
      "text/plain": [
       "<Figure size 432x288 with 1 Axes>"
      ]
     },
     "metadata": {
      "needs_background": "light"
     },
     "output_type": "display_data"
    },
    {
     "name": "stdout",
     "output_type": "stream",
     "text": [
      "Crop_Damage\n",
      "0    26.818586\n",
      "1    33.475904\n",
      "2    37.086957\n",
      "Name: Number_Weeks_Used, dtype: float64\n"
     ]
    }
   ],
   "source": [
    "#crop damage vs Number_Weeks_Used\n",
    "plt.figure()\n",
    "sns.barplot(x='Crop_Damage',y='Number_Weeks_Used',data=ds)\n",
    "plt.show()\n",
    "print(ds.groupby('Crop_Damage')['Number_Weeks_Used'].mean())"
   ]
  },
  {
   "cell_type": "markdown",
   "metadata": {},
   "source": [
    "The number of weeks used is less in the case of healthy crops whereas it is more for crops damaged due to pesticides. This is evident that number of weeks used leads to more damages in crops. "
   ]
  },
  {
   "cell_type": "code",
   "execution_count": 19,
   "metadata": {},
   "outputs": [
    {
     "data": {
      "image/png": "[encoded data removed]",
      "text/plain": [
       "<Figure size 432x288 with 1 Axes>"
      ]
     },
     "metadata": {
      "needs_background": "light"
     },
     "output_type": "display_data"
    },
    {
     "name": "stdout",
     "output_type": "stream",
     "text": [
      "Crop_Damage\n",
      "0    9.841885\n",
      "1    6.558735\n",
      "2    3.347826\n",
      "Name: Number_Weeks_Quit, dtype: float64\n"
     ]
    }
   ],
   "source": [
    "#crop damage vs Number_Weeks_Quit\n",
    "plt.figure()\n",
    "sns.barplot(x='Crop_Damage',y='Number_Weeks_Quit',data=ds)\n",
    "plt.show()\n",
    "print(ds.groupby('Crop_Damage')['Number_Weeks_Quit'].mean())"
   ]
  },
  {
   "cell_type": "markdown",
   "metadata": {},
   "source": [
    "The number of weeks quit was high in the case of healthy crops whereas the lowest number of weeks quit lead to damage of crops due to pesticides.This shows the inverse relationship of weeks quit with the crop damage type, As it was quitted for more weeks the crop was healthy and when it was for less weeks the crop was damaged."
   ]
  },
  {
   "cell_type": "code",
   "execution_count": 20,
   "metadata": {},
   "outputs": [
    {
     "data": {
      "image/png": "[encoded data removed]",
      "text/plain": [
       "<Figure size 432x288 with 1 Axes>"
      ]
     },
     "metadata": {
      "needs_background": "light"
     },
     "output_type": "display_data"
    },
    {
     "name": "stdout",
     "output_type": "stream",
     "text": [
      "Crop_Damage  Season\n",
      "0            2         1908\n",
      "             1         1150\n",
      "             3          762\n",
      "1            2          358\n",
      "             1          192\n",
      "             3          114\n",
      "2            2           61\n",
      "             1           37\n",
      "             3           17\n",
      "Name: Season, dtype: int64\n"
     ]
    }
   ],
   "source": [
    "#season vs crop damage\n",
    "plt.figure()\n",
    "sns.countplot(x='Crop_Damage',hue='Season',data=ds)\n",
    "plt.show()\n",
    "print(ds.groupby('Crop_Damage')['Season'].value_counts())"
   ]
  },
  {
   "cell_type": "markdown",
   "metadata": {},
   "source": [
    "It is evident that in the 2 nd season most number of crops were sown. The 3rd season is having the least number of crops sown.\n"
   ]
  },
  {
   "cell_type": "markdown",
   "metadata": {},
   "source": [
    "Lets check for outliers"
   ]
  },
  {
   "cell_type": "code",
   "execution_count": 21,
   "metadata": {},
   "outputs": [
    {
     "data": {
      "text/html": [
       "<div>\n",
       "<style scoped>\n",
       "    .dataframe tbody tr th:only-of-type {\n",
       "        vertical-align: middle;\n",
       "    }\n",
       "\n",
       "    .dataframe tbody tr th {\n",
       "        vertical-align: top;\n",
       "    }\n",
       "\n",
       "    .dataframe thead th {\n",
       "        text-align: right;\n",
       "    }\n",
       "</style>\n",
       "<table border=\"1\" class=\"dataframe\">\n",
       "  <thead>\n",
       "    <tr style=\"text-align: right;\">\n",
       "      <th></th>\n",
       "      <th>Estimated_Insects_Count</th>\n",
       "      <th>Crop_Type</th>\n",
       "      <th>Soil_Type</th>\n",
       "      <th>Pesticide_Use_Category</th>\n",
       "      <th>Number_Doses_Week</th>\n",
       "      <th>Number_Weeks_Used</th>\n",
       "      <th>Number_Weeks_Quit</th>\n",
       "      <th>Season</th>\n",
       "      <th>Crop_Damage</th>\n",
       "    </tr>\n",
       "  </thead>\n",
       "  <tbody>\n",
       "    <tr>\n",
       "      <th>0</th>\n",
       "      <td>188</td>\n",
       "      <td>1</td>\n",
       "      <td>0</td>\n",
       "      <td>1</td>\n",
       "      <td>0</td>\n",
       "      <td>0.0</td>\n",
       "      <td>0</td>\n",
       "      <td>1</td>\n",
       "      <td>0</td>\n",
       "    </tr>\n",
       "    <tr>\n",
       "      <th>1</th>\n",
       "      <td>209</td>\n",
       "      <td>1</td>\n",
       "      <td>0</td>\n",
       "      <td>1</td>\n",
       "      <td>0</td>\n",
       "      <td>0.0</td>\n",
       "      <td>0</td>\n",
       "      <td>2</td>\n",
       "      <td>1</td>\n",
       "    </tr>\n",
       "    <tr>\n",
       "      <th>2</th>\n",
       "      <td>257</td>\n",
       "      <td>1</td>\n",
       "      <td>0</td>\n",
       "      <td>1</td>\n",
       "      <td>0</td>\n",
       "      <td>0.0</td>\n",
       "      <td>0</td>\n",
       "      <td>2</td>\n",
       "      <td>1</td>\n",
       "    </tr>\n",
       "    <tr>\n",
       "      <th>3</th>\n",
       "      <td>257</td>\n",
       "      <td>1</td>\n",
       "      <td>1</td>\n",
       "      <td>1</td>\n",
       "      <td>0</td>\n",
       "      <td>0.0</td>\n",
       "      <td>0</td>\n",
       "      <td>2</td>\n",
       "      <td>1</td>\n",
       "    </tr>\n",
       "    <tr>\n",
       "      <th>4</th>\n",
       "      <td>342</td>\n",
       "      <td>1</td>\n",
       "      <td>0</td>\n",
       "      <td>1</td>\n",
       "      <td>0</td>\n",
       "      <td>0.0</td>\n",
       "      <td>0</td>\n",
       "      <td>2</td>\n",
       "      <td>1</td>\n",
       "    </tr>\n",
       "    <tr>\n",
       "      <th>...</th>\n",
       "      <td>...</td>\n",
       "      <td>...</td>\n",
       "      <td>...</td>\n",
       "      <td>...</td>\n",
       "      <td>...</td>\n",
       "      <td>...</td>\n",
       "      <td>...</td>\n",
       "      <td>...</td>\n",
       "      <td>...</td>\n",
       "    </tr>\n",
       "    <tr>\n",
       "      <th>4594</th>\n",
       "      <td>2138</td>\n",
       "      <td>0</td>\n",
       "      <td>1</td>\n",
       "      <td>2</td>\n",
       "      <td>20</td>\n",
       "      <td>20.0</td>\n",
       "      <td>1</td>\n",
       "      <td>1</td>\n",
       "      <td>1</td>\n",
       "    </tr>\n",
       "    <tr>\n",
       "      <th>4595</th>\n",
       "      <td>2139</td>\n",
       "      <td>0</td>\n",
       "      <td>1</td>\n",
       "      <td>2</td>\n",
       "      <td>30</td>\n",
       "      <td>47.0</td>\n",
       "      <td>2</td>\n",
       "      <td>1</td>\n",
       "      <td>1</td>\n",
       "    </tr>\n",
       "    <tr>\n",
       "      <th>4596</th>\n",
       "      <td>2267</td>\n",
       "      <td>0</td>\n",
       "      <td>1</td>\n",
       "      <td>2</td>\n",
       "      <td>10</td>\n",
       "      <td>7.0</td>\n",
       "      <td>27</td>\n",
       "      <td>2</td>\n",
       "      <td>0</td>\n",
       "    </tr>\n",
       "    <tr>\n",
       "      <th>4597</th>\n",
       "      <td>2267</td>\n",
       "      <td>0</td>\n",
       "      <td>1</td>\n",
       "      <td>2</td>\n",
       "      <td>10</td>\n",
       "      <td>20.0</td>\n",
       "      <td>24</td>\n",
       "      <td>2</td>\n",
       "      <td>0</td>\n",
       "    </tr>\n",
       "    <tr>\n",
       "      <th>4598</th>\n",
       "      <td>2267</td>\n",
       "      <td>0</td>\n",
       "      <td>1</td>\n",
       "      <td>2</td>\n",
       "      <td>10</td>\n",
       "      <td>33.0</td>\n",
       "      <td>17</td>\n",
       "      <td>2</td>\n",
       "      <td>0</td>\n",
       "    </tr>\n",
       "  </tbody>\n",
       "</table>\n",
       "<p>4599 rows × 9 columns</p>\n",
       "</div>"
      ],
      "text/plain": [
       "      Estimated_Insects_Count  Crop_Type  Soil_Type  Pesticide_Use_Category  \\\n",
       "0                         188          1          0                       1   \n",
       "1                         209          1          0                       1   \n",
       "2                         257          1          0                       1   \n",
       "3                         257          1          1                       1   \n",
       "4                         342          1          0                       1   \n",
       "...                       ...        ...        ...                     ...   \n",
       "4594                     2138          0          1                       2   \n",
       "4595                     2139          0          1                       2   \n",
       "4596                     2267          0          1                       2   \n",
       "4597                     2267          0          1                       2   \n",
       "4598                     2267          0          1                       2   \n",
       "\n",
       "      Number_Doses_Week  Number_Weeks_Used  Number_Weeks_Quit  Season  \\\n",
       "0                     0                0.0                  0       1   \n",
       "1                     0                0.0                  0       2   \n",
       "2                     0                0.0                  0       2   \n",
       "3                     0                0.0                  0       2   \n",
       "4                     0                0.0                  0       2   \n",
       "...                 ...                ...                ...     ...   \n",
       "4594                 20               20.0                  1       1   \n",
       "4595                 30               47.0                  2       1   \n",
       "4596                 10                7.0                 27       2   \n",
       "4597                 10               20.0                 24       2   \n",
       "4598                 10               33.0                 17       2   \n",
       "\n",
       "      Crop_Damage  \n",
       "0               0  \n",
       "1               1  \n",
       "2               1  \n",
       "3               1  \n",
       "4               1  \n",
       "...           ...  \n",
       "4594            1  \n",
       "4595            1  \n",
       "4596            0  \n",
       "4597            0  \n",
       "4598            0  \n",
       "\n",
       "[4599 rows x 9 columns]"
      ]
     },
     "execution_count": 21,
     "metadata": {},
     "output_type": "execute_result"
    }
   ],
   "source": [
    "#let us drop the id column since it has no relevance\n",
    "ds.drop(columns='ID',axis=1,inplace=True)\n",
    "ds"
   ]
  },
  {
   "cell_type": "code",
   "execution_count": 22,
   "metadata": {},
   "outputs": [
    {
     "data": {
      "image/png": "[encoded data removed]",
      "text/plain": [
       "<Figure size 432x288 with 1 Axes>"
      ]
     },
     "metadata": {
      "needs_background": "light"
     },
     "output_type": "display_data"
    },
    {
     "data": {
      "image/png": "[encoded data removed]",
      "text/plain": [
       "<Figure size 432x288 with 1 Axes>"
      ]
     },
     "metadata": {
      "needs_background": "light"
     },
     "output_type": "display_data"
    },
    {
     "data": {
      "image/png": "[encoded data removed]",
      "text/plain": [
       "<Figure size 432x288 with 1 Axes>"
      ]
     },
     "metadata": {
      "needs_background": "light"
     },
     "output_type": "display_data"
    },
    {
     "data": {
      "image/png": "[encoded data removed]",
      "text/plain": [
       "<Figure size 432x288 with 1 Axes>"
      ]
     },
     "metadata": {
      "needs_background": "light"
     },
     "output_type": "display_data"
    },
    {
     "data": {
      "image/png": "[encoded data removed]",
      "text/plain": [
       "<Figure size 432x288 with 1 Axes>"
      ]
     },
     "metadata": {
      "needs_background": "light"
     },
     "output_type": "display_data"
    },
    {
     "data": {
      "image/png": "[encoded data removed]",
      "text/plain": [
       "<Figure size 432x288 with 1 Axes>"
      ]
     },
     "metadata": {
      "needs_background": "light"
     },
     "output_type": "display_data"
    },
    {
     "data": {
      "image/png": "[encoded data removed]",
      "text/plain": [
       "<Figure size 432x288 with 1 Axes>"
      ]
     },
     "metadata": {
      "needs_background": "light"
     },
     "output_type": "display_data"
    },
    {
     "data": {
      "image/png": "[encoded data removed]",
      "text/plain": [
       "<Figure size 432x288 with 1 Axes>"
      ]
     },
     "metadata": {
      "needs_background": "light"
     },
     "output_type": "display_data"
    },
    {
     "data": {
      "image/png": "[encoded data removed]",
      "text/plain": [
       "<Figure size 432x288 with 1 Axes>"
      ]
     },
     "metadata": {
      "needs_background": "light"
     },
     "output_type": "display_data"
    }
   ],
   "source": [
    "# using boxplot\n",
    "plt.figure()\n",
    "for i in ds.columns:\n",
    "    ds[i].plot.box()\n",
    "    plt.show()    "
   ]
  },
  {
   "cell_type": "markdown",
   "metadata": {},
   "source": [
    "They are not outlier datas.Hence we cannot treat them because while treating we get to omit all of our crop_damage type 2 datas."
   ]
  },
  {
   "cell_type": "code",
   "execution_count": 23,
   "metadata": {},
   "outputs": [
    {
     "data": {
      "text/plain": [
       "Estimated_Insects_Count    0.911469\n",
       "Crop_Type                  1.318693\n",
       "Soil_Type                  0.093631\n",
       "Pesticide_Use_Category     0.678586\n",
       "Number_Doses_Week          0.945895\n",
       "Number_Weeks_Used          0.432681\n",
       "Number_Weeks_Quit          0.919771\n",
       "Season                     0.144841\n",
       "Crop_Damage                2.306933\n",
       "dtype: float64"
      ]
     },
     "execution_count": 23,
     "metadata": {},
     "output_type": "execute_result"
    }
   ],
   "source": [
    "#lets check for skewness\n",
    "ds.skew()"
   ]
  },
  {
   "cell_type": "markdown",
   "metadata": {},
   "source": [
    "Since most of the datas are categorical ones treating skewness for them is not ideal."
   ]
  },
  {
   "cell_type": "code",
   "execution_count": 24,
   "metadata": {},
   "outputs": [
    {
     "data": {
      "image/png": "[encoded data removed]",
      "text/plain": [
       "<Figure size 432x288 with 1 Axes>"
      ]
     },
     "metadata": {
      "needs_background": "light"
     },
     "output_type": "display_data"
    },
    {
     "data": {
      "image/png": "[encoded data removed]",
      "text/plain": [
       "<Figure size 432x288 with 1 Axes>"
      ]
     },
     "metadata": {
      "needs_background": "light"
     },
     "output_type": "display_data"
    },
    {
     "data": {
      "image/png": "[encoded data removed]",
      "text/plain": [
       "<Figure size 432x288 with 1 Axes>"
      ]
     },
     "metadata": {
      "needs_background": "light"
     },
     "output_type": "display_data"
    },
    {
     "data": {
      "image/png": "[encoded data removed]",
      "text/plain": [
       "<Figure size 432x288 with 1 Axes>"
      ]
     },
     "metadata": {
      "needs_background": "light"
     },
     "output_type": "display_data"
    },
    {
     "data": {
      "image/png": "[encoded data removed]",
      "text/plain": [
       "<Figure size 432x288 with 1 Axes>"
      ]
     },
     "metadata": {
      "needs_background": "light"
     },
     "output_type": "display_data"
    },
    {
     "data": {
      "image/png": "[encoded data removed]",
      "text/plain": [
       "<Figure size 432x288 with 1 Axes>"
      ]
     },
     "metadata": {
      "needs_background": "light"
     },
     "output_type": "display_data"
    },
    {
     "data": {
      "image/png": "[encoded data removed]",
      "text/plain": [
       "<Figure size 432x288 with 1 Axes>"
      ]
     },
     "metadata": {
      "needs_background": "light"
     },
     "output_type": "display_data"
    },
    {
     "data": {
      "image/png": "[encoded data removed]",
      "text/plain": [
       "<Figure size 432x288 with 1 Axes>"
      ]
     },
     "metadata": {
      "needs_background": "light"
     },
     "output_type": "display_data"
    },
    {
     "data": {
      "image/png": "[encoded data removed]",
      "text/plain": [
       "<Figure size 432x288 with 1 Axes>"
      ]
     },
     "metadata": {
      "needs_background": "light"
     },
     "output_type": "display_data"
    }
   ],
   "source": [
    "#lets visualise graphically\n",
    "for i in ds.columns:\n",
    "    plt.figure()\n",
    "    sns.distplot(ds[i])\n",
    "    plt.show()"
   ]
  },
  {
   "cell_type": "code",
   "execution_count": 25,
   "metadata": {},
   "outputs": [],
   "source": [
    "list=['Estimated_Insects_Count','Number_Doses_Week','Number_Weeks_Quit']\n",
    "for i in list:\n",
    "    ds[i]=np.sqrt(ds[i])"
   ]
  },
  {
   "cell_type": "code",
   "execution_count": 26,
   "metadata": {},
   "outputs": [
    {
     "data": {
      "text/plain": [
       "Estimated_Insects_Count    0.257248\n",
       "Crop_Type                  1.318693\n",
       "Soil_Type                  0.093631\n",
       "Pesticide_Use_Category     0.678586\n",
       "Number_Doses_Week         -0.002742\n",
       "Number_Weeks_Used          0.432681\n",
       "Number_Weeks_Quit          0.054299\n",
       "Season                     0.144841\n",
       "Crop_Damage                2.306933\n",
       "dtype: float64"
      ]
     },
     "execution_count": 26,
     "metadata": {},
     "output_type": "execute_result"
    }
   ],
   "source": [
    "ds.skew()"
   ]
  },
  {
   "cell_type": "markdown",
   "metadata": {},
   "source": [
    "skewness is reduced to an extent."
   ]
  },
  {
   "cell_type": "markdown",
   "metadata": {},
   "source": [
    "## Training the model"
   ]
  },
  {
   "cell_type": "code",
   "execution_count": 27,
   "metadata": {},
   "outputs": [
    {
     "data": {
      "text/plain": [
       "0       0\n",
       "1       1\n",
       "2       1\n",
       "3       1\n",
       "4       1\n",
       "       ..\n",
       "4594    1\n",
       "4595    1\n",
       "4596    0\n",
       "4597    0\n",
       "4598    0\n",
       "Name: Crop_Damage, Length: 4599, dtype: int64"
      ]
     },
     "execution_count": 27,
     "metadata": {},
     "output_type": "execute_result"
    }
   ],
   "source": [
    "y=ds['Crop_Damage']\n",
    "y"
   ]
  },
  {
   "cell_type": "code",
   "execution_count": 28,
   "metadata": {},
   "outputs": [
    {
     "data": {
      "text/html": [
       "<div>\n",
       "<style scoped>\n",
       "    .dataframe tbody tr th:only-of-type {\n",
       "        vertical-align: middle;\n",
       "    }\n",
       "\n",
       "    .dataframe tbody tr th {\n",
       "        vertical-align: top;\n",
       "    }\n",
       "\n",
       "    .dataframe thead th {\n",
       "        text-align: right;\n",
       "    }\n",
       "</style>\n",
       "<table border=\"1\" class=\"dataframe\">\n",
       "  <thead>\n",
       "    <tr style=\"text-align: right;\">\n",
       "      <th></th>\n",
       "      <th>Estimated_Insects_Count</th>\n",
       "      <th>Crop_Type</th>\n",
       "      <th>Soil_Type</th>\n",
       "      <th>Pesticide_Use_Category</th>\n",
       "      <th>Number_Doses_Week</th>\n",
       "      <th>Number_Weeks_Used</th>\n",
       "      <th>Number_Weeks_Quit</th>\n",
       "      <th>Season</th>\n",
       "    </tr>\n",
       "  </thead>\n",
       "  <tbody>\n",
       "    <tr>\n",
       "      <th>0</th>\n",
       "      <td>13.711309</td>\n",
       "      <td>1</td>\n",
       "      <td>0</td>\n",
       "      <td>1</td>\n",
       "      <td>0.000000</td>\n",
       "      <td>0.0</td>\n",
       "      <td>0.000000</td>\n",
       "      <td>1</td>\n",
       "    </tr>\n",
       "    <tr>\n",
       "      <th>1</th>\n",
       "      <td>14.456832</td>\n",
       "      <td>1</td>\n",
       "      <td>0</td>\n",
       "      <td>1</td>\n",
       "      <td>0.000000</td>\n",
       "      <td>0.0</td>\n",
       "      <td>0.000000</td>\n",
       "      <td>2</td>\n",
       "    </tr>\n",
       "    <tr>\n",
       "      <th>2</th>\n",
       "      <td>16.031220</td>\n",
       "      <td>1</td>\n",
       "      <td>0</td>\n",
       "      <td>1</td>\n",
       "      <td>0.000000</td>\n",
       "      <td>0.0</td>\n",
       "      <td>0.000000</td>\n",
       "      <td>2</td>\n",
       "    </tr>\n",
       "    <tr>\n",
       "      <th>3</th>\n",
       "      <td>16.031220</td>\n",
       "      <td>1</td>\n",
       "      <td>1</td>\n",
       "      <td>1</td>\n",
       "      <td>0.000000</td>\n",
       "      <td>0.0</td>\n",
       "      <td>0.000000</td>\n",
       "      <td>2</td>\n",
       "    </tr>\n",
       "    <tr>\n",
       "      <th>4</th>\n",
       "      <td>18.493242</td>\n",
       "      <td>1</td>\n",
       "      <td>0</td>\n",
       "      <td>1</td>\n",
       "      <td>0.000000</td>\n",
       "      <td>0.0</td>\n",
       "      <td>0.000000</td>\n",
       "      <td>2</td>\n",
       "    </tr>\n",
       "    <tr>\n",
       "      <th>...</th>\n",
       "      <td>...</td>\n",
       "      <td>...</td>\n",
       "      <td>...</td>\n",
       "      <td>...</td>\n",
       "      <td>...</td>\n",
       "      <td>...</td>\n",
       "      <td>...</td>\n",
       "      <td>...</td>\n",
       "    </tr>\n",
       "    <tr>\n",
       "      <th>4594</th>\n",
       "      <td>46.238512</td>\n",
       "      <td>0</td>\n",
       "      <td>1</td>\n",
       "      <td>2</td>\n",
       "      <td>4.472136</td>\n",
       "      <td>20.0</td>\n",
       "      <td>1.000000</td>\n",
       "      <td>1</td>\n",
       "    </tr>\n",
       "    <tr>\n",
       "      <th>4595</th>\n",
       "      <td>46.249324</td>\n",
       "      <td>0</td>\n",
       "      <td>1</td>\n",
       "      <td>2</td>\n",
       "      <td>5.477226</td>\n",
       "      <td>47.0</td>\n",
       "      <td>1.414214</td>\n",
       "      <td>1</td>\n",
       "    </tr>\n",
       "    <tr>\n",
       "      <th>4596</th>\n",
       "      <td>47.613023</td>\n",
       "      <td>0</td>\n",
       "      <td>1</td>\n",
       "      <td>2</td>\n",
       "      <td>3.162278</td>\n",
       "      <td>7.0</td>\n",
       "      <td>5.196152</td>\n",
       "      <td>2</td>\n",
       "    </tr>\n",
       "    <tr>\n",
       "      <th>4597</th>\n",
       "      <td>47.613023</td>\n",
       "      <td>0</td>\n",
       "      <td>1</td>\n",
       "      <td>2</td>\n",
       "      <td>3.162278</td>\n",
       "      <td>20.0</td>\n",
       "      <td>4.898979</td>\n",
       "      <td>2</td>\n",
       "    </tr>\n",
       "    <tr>\n",
       "      <th>4598</th>\n",
       "      <td>47.613023</td>\n",
       "      <td>0</td>\n",
       "      <td>1</td>\n",
       "      <td>2</td>\n",
       "      <td>3.162278</td>\n",
       "      <td>33.0</td>\n",
       "      <td>4.123106</td>\n",
       "      <td>2</td>\n",
       "    </tr>\n",
       "  </tbody>\n",
       "</table>\n",
       "<p>4599 rows × 8 columns</p>\n",
       "</div>"
      ],
      "text/plain": [
       "      Estimated_Insects_Count  Crop_Type  Soil_Type  Pesticide_Use_Category  \\\n",
       "0                   13.711309          1          0                       1   \n",
       "1                   14.456832          1          0                       1   \n",
       "2                   16.031220          1          0                       1   \n",
       "3                   16.031220          1          1                       1   \n",
       "4                   18.493242          1          0                       1   \n",
       "...                       ...        ...        ...                     ...   \n",
       "4594                46.238512          0          1                       2   \n",
       "4595                46.249324          0          1                       2   \n",
       "4596                47.613023          0          1                       2   \n",
       "4597                47.613023          0          1                       2   \n",
       "4598                47.613023          0          1                       2   \n",
       "\n",
       "      Number_Doses_Week  Number_Weeks_Used  Number_Weeks_Quit  Season  \n",
       "0              0.000000                0.0           0.000000       1  \n",
       "1              0.000000                0.0           0.000000       2  \n",
       "2              0.000000                0.0           0.000000       2  \n",
       "3              0.000000                0.0           0.000000       2  \n",
       "4              0.000000                0.0           0.000000       2  \n",
       "...                 ...                ...                ...     ...  \n",
       "4594           4.472136               20.0           1.000000       1  \n",
       "4595           5.477226               47.0           1.414214       1  \n",
       "4596           3.162278                7.0           5.196152       2  \n",
       "4597           3.162278               20.0           4.898979       2  \n",
       "4598           3.162278               33.0           4.123106       2  \n",
       "\n",
       "[4599 rows x 8 columns]"
      ]
     },
     "execution_count": 28,
     "metadata": {},
     "output_type": "execute_result"
    }
   ],
   "source": [
    "ds_x=ds.drop(columns='Crop_Damage',axis=1)\n",
    "ds_x"
   ]
  },
  {
   "cell_type": "code",
   "execution_count": 29,
   "metadata": {},
   "outputs": [],
   "source": [
    "#Now we apply Standard Scaling\n",
    "from sklearn.preprocessing import StandardScaler\n",
    "sc=StandardScaler()\n",
    "x=sc.fit_transform(ds_x)\n",
    "x=pd.DataFrame(x,columns=ds_x.columns)"
   ]
  },
  {
   "cell_type": "code",
   "execution_count": 30,
   "metadata": {},
   "outputs": [
    {
     "data": {
      "text/html": [
       "<div>\n",
       "<style scoped>\n",
       "    .dataframe tbody tr th:only-of-type {\n",
       "        vertical-align: middle;\n",
       "    }\n",
       "\n",
       "    .dataframe tbody tr th {\n",
       "        vertical-align: top;\n",
       "    }\n",
       "\n",
       "    .dataframe thead th {\n",
       "        text-align: right;\n",
       "    }\n",
       "</style>\n",
       "<table border=\"1\" class=\"dataframe\">\n",
       "  <thead>\n",
       "    <tr style=\"text-align: right;\">\n",
       "      <th></th>\n",
       "      <th>Estimated_Insects_Count</th>\n",
       "      <th>Crop_Type</th>\n",
       "      <th>Soil_Type</th>\n",
       "      <th>Pesticide_Use_Category</th>\n",
       "      <th>Number_Doses_Week</th>\n",
       "      <th>Number_Weeks_Used</th>\n",
       "      <th>Number_Weeks_Quit</th>\n",
       "      <th>Season</th>\n",
       "    </tr>\n",
       "  </thead>\n",
       "  <tbody>\n",
       "    <tr>\n",
       "      <th>0</th>\n",
       "      <td>-1.972553</td>\n",
       "      <td>1.856819</td>\n",
       "      <td>-0.954294</td>\n",
       "      <td>-2.719788</td>\n",
       "      <td>-3.191182</td>\n",
       "      <td>-2.289051</td>\n",
       "      <td>-1.212439</td>\n",
       "      <td>-1.287027</td>\n",
       "    </tr>\n",
       "    <tr>\n",
       "      <th>1</th>\n",
       "      <td>-1.904323</td>\n",
       "      <td>1.856819</td>\n",
       "      <td>-0.954294</td>\n",
       "      <td>-2.719788</td>\n",
       "      <td>-3.191182</td>\n",
       "      <td>-2.289051</td>\n",
       "      <td>-1.212439</td>\n",
       "      <td>0.152078</td>\n",
       "    </tr>\n",
       "    <tr>\n",
       "      <th>2</th>\n",
       "      <td>-1.760237</td>\n",
       "      <td>1.856819</td>\n",
       "      <td>-0.954294</td>\n",
       "      <td>-2.719788</td>\n",
       "      <td>-3.191182</td>\n",
       "      <td>-2.289051</td>\n",
       "      <td>-1.212439</td>\n",
       "      <td>0.152078</td>\n",
       "    </tr>\n",
       "    <tr>\n",
       "      <th>3</th>\n",
       "      <td>-1.760237</td>\n",
       "      <td>1.856819</td>\n",
       "      <td>1.047895</td>\n",
       "      <td>-2.719788</td>\n",
       "      <td>-3.191182</td>\n",
       "      <td>-2.289051</td>\n",
       "      <td>-1.212439</td>\n",
       "      <td>0.152078</td>\n",
       "    </tr>\n",
       "    <tr>\n",
       "      <th>4</th>\n",
       "      <td>-1.534916</td>\n",
       "      <td>1.856819</td>\n",
       "      <td>-0.954294</td>\n",
       "      <td>-2.719788</td>\n",
       "      <td>-3.191182</td>\n",
       "      <td>-2.289051</td>\n",
       "      <td>-1.212439</td>\n",
       "      <td>0.152078</td>\n",
       "    </tr>\n",
       "    <tr>\n",
       "      <th>...</th>\n",
       "      <td>...</td>\n",
       "      <td>...</td>\n",
       "      <td>...</td>\n",
       "      <td>...</td>\n",
       "      <td>...</td>\n",
       "      <td>...</td>\n",
       "      <td>...</td>\n",
       "      <td>...</td>\n",
       "    </tr>\n",
       "    <tr>\n",
       "      <th>4594</th>\n",
       "      <td>1.004300</td>\n",
       "      <td>-0.538556</td>\n",
       "      <td>1.047895</td>\n",
       "      <td>-0.600814</td>\n",
       "      <td>-0.284696</td>\n",
       "      <td>-0.656145</td>\n",
       "      <td>-0.694444</td>\n",
       "      <td>-1.287027</td>\n",
       "    </tr>\n",
       "    <tr>\n",
       "      <th>4595</th>\n",
       "      <td>1.005289</td>\n",
       "      <td>-0.538556</td>\n",
       "      <td>1.047895</td>\n",
       "      <td>-0.600814</td>\n",
       "      <td>0.368521</td>\n",
       "      <td>1.548278</td>\n",
       "      <td>-0.479883</td>\n",
       "      <td>-1.287027</td>\n",
       "    </tr>\n",
       "    <tr>\n",
       "      <th>4596</th>\n",
       "      <td>1.130094</td>\n",
       "      <td>-0.538556</td>\n",
       "      <td>1.047895</td>\n",
       "      <td>-0.600814</td>\n",
       "      <td>-1.135986</td>\n",
       "      <td>-1.717534</td>\n",
       "      <td>1.479145</td>\n",
       "      <td>0.152078</td>\n",
       "    </tr>\n",
       "    <tr>\n",
       "      <th>4597</th>\n",
       "      <td>1.130094</td>\n",
       "      <td>-0.538556</td>\n",
       "      <td>1.047895</td>\n",
       "      <td>-0.600814</td>\n",
       "      <td>-1.135986</td>\n",
       "      <td>-0.656145</td>\n",
       "      <td>1.325210</td>\n",
       "      <td>0.152078</td>\n",
       "    </tr>\n",
       "    <tr>\n",
       "      <th>4598</th>\n",
       "      <td>1.130094</td>\n",
       "      <td>-0.538556</td>\n",
       "      <td>1.047895</td>\n",
       "      <td>-0.600814</td>\n",
       "      <td>-1.135986</td>\n",
       "      <td>0.405244</td>\n",
       "      <td>0.923311</td>\n",
       "      <td>0.152078</td>\n",
       "    </tr>\n",
       "  </tbody>\n",
       "</table>\n",
       "<p>4599 rows × 8 columns</p>\n",
       "</div>"
      ],
      "text/plain": [
       "      Estimated_Insects_Count  Crop_Type  Soil_Type  Pesticide_Use_Category  \\\n",
       "0                   -1.972553   1.856819  -0.954294               -2.719788   \n",
       "1                   -1.904323   1.856819  -0.954294               -2.719788   \n",
       "2                   -1.760237   1.856819  -0.954294               -2.719788   \n",
       "3                   -1.760237   1.856819   1.047895               -2.719788   \n",
       "4                   -1.534916   1.856819  -0.954294               -2.719788   \n",
       "...                       ...        ...        ...                     ...   \n",
       "4594                 1.004300  -0.538556   1.047895               -0.600814   \n",
       "4595                 1.005289  -0.538556   1.047895               -0.600814   \n",
       "4596                 1.130094  -0.538556   1.047895               -0.600814   \n",
       "4597                 1.130094  -0.538556   1.047895               -0.600814   \n",
       "4598                 1.130094  -0.538556   1.047895               -0.600814   \n",
       "\n",
       "      Number_Doses_Week  Number_Weeks_Used  Number_Weeks_Quit    Season  \n",
       "0             -3.191182          -2.289051          -1.212439 -1.287027  \n",
       "1             -3.191182          -2.289051          -1.212439  0.152078  \n",
       "2             -3.191182          -2.289051          -1.212439  0.152078  \n",
       "3             -3.191182          -2.289051          -1.212439  0.152078  \n",
       "4             -3.191182          -2.289051          -1.212439  0.152078  \n",
       "...                 ...                ...                ...       ...  \n",
       "4594          -0.284696          -0.656145          -0.694444 -1.287027  \n",
       "4595           0.368521           1.548278          -0.479883 -1.287027  \n",
       "4596          -1.135986          -1.717534           1.479145  0.152078  \n",
       "4597          -1.135986          -0.656145           1.325210  0.152078  \n",
       "4598          -1.135986           0.405244           0.923311  0.152078  \n",
       "\n",
       "[4599 rows x 8 columns]"
      ]
     },
     "execution_count": 30,
     "metadata": {},
     "output_type": "execute_result"
    }
   ],
   "source": [
    "x"
   ]
  },
  {
   "cell_type": "code",
   "execution_count": 31,
   "metadata": {},
   "outputs": [
    {
     "name": "stdout",
     "output_type": "stream",
     "text": [
      "(3219, 8) \t (1380, 8)\n",
      "(3219,) \t (1380,)\n"
     ]
    }
   ],
   "source": [
    "#splitting the input and target variable into test and train data\n",
    "from sklearn.model_selection import train_test_split\n",
    "x_train,x_test,y_train,y_test=train_test_split(x,y,test_size=.30,random_state=47)\n",
    "print(x_train.shape,'\\t',x_test.shape)\n",
    "print(y_train.shape,'\\t',y_test.shape)"
   ]
  },
  {
   "cell_type": "code",
   "execution_count": 32,
   "metadata": {},
   "outputs": [],
   "source": [
    "#importing libraries for models and error metrics\n",
    "from sklearn.linear_model import LogisticRegression\n",
    "from sklearn.tree import DecisionTreeClassifier\n",
    "from sklearn.neighbors import KNeighborsClassifier\n",
    "from sklearn.metrics import accuracy_score,confusion_matrix,classification_report"
   ]
  },
  {
   "cell_type": "code",
   "execution_count": 33,
   "metadata": {},
   "outputs": [
    {
     "name": "stdout",
     "output_type": "stream",
     "text": [
      "score of  LogisticRegression() is: 0.8303821062441752\n",
      "Metrics:\n",
      "Accuracy Score: 0.8195652173913044\n",
      "Confusion Matrix: [[1126   14    0]\n",
      " [ 194    5    0]\n",
      " [  37    4    0]]\n",
      "Classification Report:               precision    recall  f1-score   support\n",
      "\n",
      "           0       0.83      0.99      0.90      1140\n",
      "           1       0.22      0.03      0.05       199\n",
      "           2       0.00      0.00      0.00        41\n",
      "\n",
      "    accuracy                           0.82      1380\n",
      "   macro avg       0.35      0.34      0.32      1380\n",
      "weighted avg       0.72      0.82      0.75      1380\n",
      "\n",
      "END OF THE MODEL----------------------------------- \n",
      "\n",
      "\n",
      "score of  KNeighborsClassifier() is: 0.8574091332712023\n",
      "Metrics:\n",
      "Accuracy Score: 0.8159420289855073\n",
      "Confusion Matrix: [[1085   53    2]\n",
      " [ 157   41    1]\n",
      " [  29   12    0]]\n",
      "Classification Report:               precision    recall  f1-score   support\n",
      "\n",
      "           0       0.85      0.95      0.90      1140\n",
      "           1       0.39      0.21      0.27       199\n",
      "           2       0.00      0.00      0.00        41\n",
      "\n",
      "    accuracy                           0.82      1380\n",
      "   macro avg       0.41      0.39      0.39      1380\n",
      "weighted avg       0.76      0.82      0.78      1380\n",
      "\n",
      "END OF THE MODEL----------------------------------- \n",
      "\n",
      "\n",
      "score of  DecisionTreeClassifier() is: 0.9984467225846536\n",
      "Metrics:\n",
      "Accuracy Score: 0.7239130434782609\n",
      "Confusion Matrix: [[945 175  20]\n",
      " [139  53   7]\n",
      " [ 22  18   1]]\n",
      "Classification Report:               precision    recall  f1-score   support\n",
      "\n",
      "           0       0.85      0.83      0.84      1140\n",
      "           1       0.22      0.27      0.24       199\n",
      "           2       0.04      0.02      0.03        41\n",
      "\n",
      "    accuracy                           0.72      1380\n",
      "   macro avg       0.37      0.37      0.37      1380\n",
      "weighted avg       0.74      0.72      0.73      1380\n",
      "\n",
      "END OF THE MODEL----------------------------------- \n",
      "\n",
      "\n"
     ]
    }
   ],
   "source": [
    "#creating a for loop for all the models\n",
    "model=[LogisticRegression(),KNeighborsClassifier(),DecisionTreeClassifier()]\n",
    "for m in model:\n",
    "    m.fit(x_train,y_train)\n",
    "    print('score of ',m,'is:',m.score(x_train,y_train))\n",
    "    predm=m.predict(x_test)\n",
    "    print('Metrics:')\n",
    "    print('Accuracy Score:',accuracy_score(y_test,predm))\n",
    "    print('Confusion Matrix:',confusion_matrix(y_test,predm))\n",
    "    print('Classification Report:',classification_report(y_test,predm))\n",
    "    print('END OF THE MODEL----------------------------------- ')\n",
    "    print('\\n')"
   ]
  },
  {
   "cell_type": "markdown",
   "metadata": {},
   "source": [
    "## Ensemble Methods"
   ]
  },
  {
   "cell_type": "code",
   "execution_count": 34,
   "metadata": {},
   "outputs": [],
   "source": [
    "#importing libraries\n",
    "from sklearn.ensemble import RandomForestClassifier\n",
    "from sklearn.ensemble import AdaBoostClassifier\n",
    "from sklearn.ensemble import GradientBoostingClassifier\n",
    "from sklearn.ensemble import BaggingClassifier\n",
    "from sklearn.ensemble import ExtraTreesClassifier"
   ]
  },
  {
   "cell_type": "code",
   "execution_count": 35,
   "metadata": {},
   "outputs": [
    {
     "name": "stdout",
     "output_type": "stream",
     "text": [
      "score of  RandomForestClassifier() is: 0.9981360671015843\n",
      "Metrics:\n",
      "Accuracy Score: 0.8202898550724638\n",
      "Confusion Matrix: [[1093   45    2]\n",
      " [ 161   37    1]\n",
      " [  25   14    2]]\n",
      "Classification Report:               precision    recall  f1-score   support\n",
      "\n",
      "           0       0.85      0.96      0.90      1140\n",
      "           1       0.39      0.19      0.25       199\n",
      "           2       0.40      0.05      0.09        41\n",
      "\n",
      "    accuracy                           0.82      1380\n",
      "   macro avg       0.55      0.40      0.41      1380\n",
      "weighted avg       0.77      0.82      0.79      1380\n",
      "\n",
      "END OF THE MODEL----------------------------------- \n",
      "\n",
      "\n",
      "score of  AdaBoostClassifier() is: 0.8313140726933831\n",
      "Metrics:\n",
      "Accuracy Score: 0.8289855072463768\n",
      "Confusion Matrix: [[1125   15    0]\n",
      " [ 180   19    0]\n",
      " [  34    7    0]]\n",
      "Classification Report:               precision    recall  f1-score   support\n",
      "\n",
      "           0       0.84      0.99      0.91      1140\n",
      "           1       0.46      0.10      0.16       199\n",
      "           2       0.00      0.00      0.00        41\n",
      "\n",
      "    accuracy                           0.83      1380\n",
      "   macro avg       0.43      0.36      0.36      1380\n",
      "weighted avg       0.76      0.83      0.77      1380\n",
      "\n",
      "END OF THE MODEL----------------------------------- \n",
      "\n",
      "\n",
      "score of  GradientBoostingClassifier() is: 0.8614476545511028\n",
      "Metrics:\n",
      "Accuracy Score: 0.8297101449275363\n",
      "Confusion Matrix: [[1113   27    0]\n",
      " [ 167   32    0]\n",
      " [  28   13    0]]\n",
      "Classification Report:               precision    recall  f1-score   support\n",
      "\n",
      "           0       0.85      0.98      0.91      1140\n",
      "           1       0.44      0.16      0.24       199\n",
      "           2       0.00      0.00      0.00        41\n",
      "\n",
      "    accuracy                           0.83      1380\n",
      "   macro avg       0.43      0.38      0.38      1380\n",
      "weighted avg       0.77      0.83      0.79      1380\n",
      "\n",
      "END OF THE MODEL----------------------------------- \n",
      "\n",
      "\n",
      "score of  BaggingClassifier() is: 0.9822926374650512\n",
      "Metrics:\n",
      "Accuracy Score: 0.8072463768115942\n",
      "Confusion Matrix: [[1077   61    2]\n",
      " [ 161   36    2]\n",
      " [  27   13    1]]\n",
      "Classification Report:               precision    recall  f1-score   support\n",
      "\n",
      "           0       0.85      0.94      0.90      1140\n",
      "           1       0.33      0.18      0.23       199\n",
      "           2       0.20      0.02      0.04        41\n",
      "\n",
      "    accuracy                           0.81      1380\n",
      "   macro avg       0.46      0.38      0.39      1380\n",
      "weighted avg       0.76      0.81      0.77      1380\n",
      "\n",
      "END OF THE MODEL----------------------------------- \n",
      "\n",
      "\n",
      "score of  ExtraTreesClassifier() is: 0.9984467225846536\n",
      "Metrics:\n",
      "Accuracy Score: 0.8130434782608695\n",
      "Confusion Matrix: [[1080   55    5]\n",
      " [ 157   41    1]\n",
      " [  27   13    1]]\n",
      "Classification Report:               precision    recall  f1-score   support\n",
      "\n",
      "           0       0.85      0.95      0.90      1140\n",
      "           1       0.38      0.21      0.27       199\n",
      "           2       0.14      0.02      0.04        41\n",
      "\n",
      "    accuracy                           0.81      1380\n",
      "   macro avg       0.46      0.39      0.40      1380\n",
      "weighted avg       0.76      0.81      0.78      1380\n",
      "\n",
      "END OF THE MODEL----------------------------------- \n",
      "\n",
      "\n"
     ]
    }
   ],
   "source": [
    "#by using loop\n",
    "model=[RandomForestClassifier(),AdaBoostClassifier(),GradientBoostingClassifier(),BaggingClassifier(),ExtraTreesClassifier()]\n",
    "\n",
    "for m in model:\n",
    "    m.fit(x_train,y_train)\n",
    "    print('score of ',m,'is:',m.score(x_train,y_train))\n",
    "    predm=m.predict(x_test)\n",
    "    print('Metrics:')\n",
    "    print('Accuracy Score:',accuracy_score(y_test,predm))\n",
    "    print('Confusion Matrix:',confusion_matrix(y_test,predm))\n",
    "    print('Classification Report:',classification_report(y_test,predm))\n",
    "    print('END OF THE MODEL----------------------------------- ')\n",
    "    print('\\n')"
   ]
  },
  {
   "cell_type": "markdown",
   "metadata": {},
   "source": [
    "Of all the above models Gradient boosting classifier has the highest accuracy score.lets check the cross validation score."
   ]
  },
  {
   "cell_type": "code",
   "execution_count": 36,
   "metadata": {},
   "outputs": [
    {
     "name": "stdout",
     "output_type": "stream",
     "text": [
      "score: 0.8614476545511028\n",
      "\n",
      "\n",
      "Accuracy Score: 0.8297101449275363\n",
      "Confusion Matrix: [[1113   27    0]\n",
      " [ 167   32    0]\n",
      " [  28   13    0]]\n",
      "Classification Report:               precision    recall  f1-score   support\n",
      "\n",
      "           0       0.85      0.98      0.91      1140\n",
      "           1       0.44      0.16      0.24       199\n",
      "           2       0.00      0.00      0.00        41\n",
      "\n",
      "    accuracy                           0.83      1380\n",
      "   macro avg       0.43      0.38      0.38      1380\n",
      "weighted avg       0.77      0.83      0.79      1380\n",
      "\n"
     ]
    }
   ],
   "source": [
    "#Gradient Boosting classifier model\n",
    "gbc=GradientBoostingClassifier()\n",
    "gbc.fit(x_train,y_train)\n",
    "print('score:',gbc.score(x_train,y_train))\n",
    "predgbc=gbc.predict(x_test)\n",
    "print('\\n')\n",
    "print('Accuracy Score:',accuracy_score(y_test,predgbc))\n",
    "print('Confusion Matrix:',confusion_matrix(y_test,predgbc))\n",
    "print('Classification Report:',classification_report(y_test,predgbc))"
   ]
  },
  {
   "cell_type": "code",
   "execution_count": 37,
   "metadata": {},
   "outputs": [
    {
     "name": "stdout",
     "output_type": "stream",
     "text": [
      "Score: [0.72608696 0.81304348 0.78043478 0.83478261 0.75652174 0.84130435\n",
      " 0.76956522 0.83043478 0.7673913  0.83224401]\n",
      "Mean Score: 0.7951809226105901\n",
      "Standard Deviation: 0.03813872872072989\n"
     ]
    }
   ],
   "source": [
    "#cross validating Gradient Boosting classifier\n",
    "from sklearn.model_selection import cross_val_score\n",
    "score=cross_val_score(gbc,x,y,cv=10,scoring='accuracy')\n",
    "print('Score:',score)\n",
    "print('Mean Score:',score.mean())\n",
    "print('Standard Deviation:',score.std())"
   ]
  },
  {
   "cell_type": "markdown",
   "metadata": {},
   "source": [
    "The Gradient Boosting Classifier model is performing well with a mean cross validation score of 0.84 . The model is well fit for this dataset and can be considered as the best model for future predictions."
   ]
  },
  {
   "cell_type": "markdown",
   "metadata": {},
   "source": [
    "## Testing dataset"
   ]
  },
  {
   "cell_type": "code",
   "execution_count": 38,
   "metadata": {},
   "outputs": [
    {
     "data": {
      "text/html": [
       "<div>\n",
       "<style scoped>\n",
       "    .dataframe tbody tr th:only-of-type {\n",
       "        vertical-align: middle;\n",
       "    }\n",
       "\n",
       "    .dataframe tbody tr th {\n",
       "        vertical-align: top;\n",
       "    }\n",
       "\n",
       "    .dataframe thead th {\n",
       "        text-align: right;\n",
       "    }\n",
       "</style>\n",
       "<table border=\"1\" class=\"dataframe\">\n",
       "  <thead>\n",
       "    <tr style=\"text-align: right;\">\n",
       "      <th></th>\n",
       "      <th>ID</th>\n",
       "      <th>Estimated_Insects_Count</th>\n",
       "      <th>Crop_Type</th>\n",
       "      <th>Soil_Type</th>\n",
       "      <th>Pesticide_Use_Category</th>\n",
       "      <th>Number_Doses_Week</th>\n",
       "      <th>Number_Weeks_Used</th>\n",
       "      <th>Number_Weeks_Quit</th>\n",
       "      <th>Season</th>\n",
       "    </tr>\n",
       "  </thead>\n",
       "  <tbody>\n",
       "    <tr>\n",
       "      <th>0</th>\n",
       "      <td>F00000002</td>\n",
       "      <td>188</td>\n",
       "      <td>1</td>\n",
       "      <td>1</td>\n",
       "      <td>1</td>\n",
       "      <td>0</td>\n",
       "      <td>NaN</td>\n",
       "      <td>0</td>\n",
       "      <td>2</td>\n",
       "    </tr>\n",
       "    <tr>\n",
       "      <th>1</th>\n",
       "      <td>F00000007</td>\n",
       "      <td>410</td>\n",
       "      <td>1</td>\n",
       "      <td>1</td>\n",
       "      <td>1</td>\n",
       "      <td>0</td>\n",
       "      <td>0.0</td>\n",
       "      <td>0</td>\n",
       "      <td>2</td>\n",
       "    </tr>\n",
       "    <tr>\n",
       "      <th>2</th>\n",
       "      <td>F00000011</td>\n",
       "      <td>626</td>\n",
       "      <td>1</td>\n",
       "      <td>0</td>\n",
       "      <td>1</td>\n",
       "      <td>0</td>\n",
       "      <td>0.0</td>\n",
       "      <td>0</td>\n",
       "      <td>2</td>\n",
       "    </tr>\n",
       "    <tr>\n",
       "      <th>3</th>\n",
       "      <td>F00000013</td>\n",
       "      <td>731</td>\n",
       "      <td>1</td>\n",
       "      <td>0</td>\n",
       "      <td>1</td>\n",
       "      <td>0</td>\n",
       "      <td>0.0</td>\n",
       "      <td>0</td>\n",
       "      <td>2</td>\n",
       "    </tr>\n",
       "    <tr>\n",
       "      <th>4</th>\n",
       "      <td>F00000014</td>\n",
       "      <td>789</td>\n",
       "      <td>0</td>\n",
       "      <td>0</td>\n",
       "      <td>1</td>\n",
       "      <td>0</td>\n",
       "      <td>0.0</td>\n",
       "      <td>0</td>\n",
       "      <td>1</td>\n",
       "    </tr>\n",
       "    <tr>\n",
       "      <th>...</th>\n",
       "      <td>...</td>\n",
       "      <td>...</td>\n",
       "      <td>...</td>\n",
       "      <td>...</td>\n",
       "      <td>...</td>\n",
       "      <td>...</td>\n",
       "      <td>...</td>\n",
       "      <td>...</td>\n",
       "      <td>...</td>\n",
       "    </tr>\n",
       "    <tr>\n",
       "      <th>1194</th>\n",
       "      <td>F00003133</td>\n",
       "      <td>1132</td>\n",
       "      <td>0</td>\n",
       "      <td>1</td>\n",
       "      <td>2</td>\n",
       "      <td>40</td>\n",
       "      <td>34.0</td>\n",
       "      <td>7</td>\n",
       "      <td>3</td>\n",
       "    </tr>\n",
       "    <tr>\n",
       "      <th>1195</th>\n",
       "      <td>F00003135</td>\n",
       "      <td>1132</td>\n",
       "      <td>0</td>\n",
       "      <td>1</td>\n",
       "      <td>2</td>\n",
       "      <td>40</td>\n",
       "      <td>25.0</td>\n",
       "      <td>3</td>\n",
       "      <td>1</td>\n",
       "    </tr>\n",
       "    <tr>\n",
       "      <th>1196</th>\n",
       "      <td>F00003138</td>\n",
       "      <td>1132</td>\n",
       "      <td>0</td>\n",
       "      <td>1</td>\n",
       "      <td>2</td>\n",
       "      <td>20</td>\n",
       "      <td>13.0</td>\n",
       "      <td>23</td>\n",
       "      <td>1</td>\n",
       "    </tr>\n",
       "    <tr>\n",
       "      <th>1197</th>\n",
       "      <td>F00003149</td>\n",
       "      <td>1212</td>\n",
       "      <td>0</td>\n",
       "      <td>1</td>\n",
       "      <td>2</td>\n",
       "      <td>10</td>\n",
       "      <td>35.0</td>\n",
       "      <td>5</td>\n",
       "      <td>1</td>\n",
       "    </tr>\n",
       "    <tr>\n",
       "      <th>1198</th>\n",
       "      <td>F00003150</td>\n",
       "      <td>1212</td>\n",
       "      <td>0</td>\n",
       "      <td>1</td>\n",
       "      <td>2</td>\n",
       "      <td>15</td>\n",
       "      <td>NaN</td>\n",
       "      <td>20</td>\n",
       "      <td>3</td>\n",
       "    </tr>\n",
       "  </tbody>\n",
       "</table>\n",
       "<p>1199 rows × 9 columns</p>\n",
       "</div>"
      ],
      "text/plain": [
       "             ID  Estimated_Insects_Count  Crop_Type  Soil_Type  \\\n",
       "0     F00000002                      188          1          1   \n",
       "1     F00000007                      410          1          1   \n",
       "2     F00000011                      626          1          0   \n",
       "3     F00000013                      731          1          0   \n",
       "4     F00000014                      789          0          0   \n",
       "...         ...                      ...        ...        ...   \n",
       "1194  F00003133                     1132          0          1   \n",
       "1195  F00003135                     1132          0          1   \n",
       "1196  F00003138                     1132          0          1   \n",
       "1197  F00003149                     1212          0          1   \n",
       "1198  F00003150                     1212          0          1   \n",
       "\n",
       "      Pesticide_Use_Category  Number_Doses_Week  Number_Weeks_Used  \\\n",
       "0                          1                  0                NaN   \n",
       "1                          1                  0                0.0   \n",
       "2                          1                  0                0.0   \n",
       "3                          1                  0                0.0   \n",
       "4                          1                  0                0.0   \n",
       "...                      ...                ...                ...   \n",
       "1194                       2                 40               34.0   \n",
       "1195                       2                 40               25.0   \n",
       "1196                       2                 20               13.0   \n",
       "1197                       2                 10               35.0   \n",
       "1198                       2                 15                NaN   \n",
       "\n",
       "      Number_Weeks_Quit  Season  \n",
       "0                     0       2  \n",
       "1                     0       2  \n",
       "2                     0       2  \n",
       "3                     0       2  \n",
       "4                     0       1  \n",
       "...                 ...     ...  \n",
       "1194                  7       3  \n",
       "1195                  3       1  \n",
       "1196                 23       1  \n",
       "1197                  5       1  \n",
       "1198                 20       3  \n",
       "\n",
       "[1199 rows x 9 columns]"
      ]
     },
     "execution_count": 38,
     "metadata": {},
     "output_type": "execute_result"
    }
   ],
   "source": [
    "ds_test=pd.read_csv('test_agriculture.csv')\n",
    "ds_test"
   ]
  },
  {
   "cell_type": "code",
   "execution_count": 39,
   "metadata": {},
   "outputs": [
    {
     "data": {
      "text/plain": [
       "ID                           0\n",
       "Estimated_Insects_Count      0\n",
       "Crop_Type                    0\n",
       "Soil_Type                    0\n",
       "Pesticide_Use_Category       0\n",
       "Number_Doses_Week            0\n",
       "Number_Weeks_Used          119\n",
       "Number_Weeks_Quit            0\n",
       "Season                       0\n",
       "dtype: int64"
      ]
     },
     "execution_count": 39,
     "metadata": {},
     "output_type": "execute_result"
    }
   ],
   "source": [
    "#check for missing datas\n",
    "ds_test.isnull().sum()"
   ]
  },
  {
   "cell_type": "code",
   "execution_count": 40,
   "metadata": {},
   "outputs": [],
   "source": [
    "#replace the missing values with the previously found mode value -20\n",
    "ds_test.replace(np.nan,20,inplace=True)"
   ]
  },
  {
   "cell_type": "code",
   "execution_count": 41,
   "metadata": {},
   "outputs": [],
   "source": [
    "#drop the id column\n",
    "ds_test.drop(columns='ID',axis=1,inplace=True)"
   ]
  },
  {
   "cell_type": "code",
   "execution_count": 42,
   "metadata": {},
   "outputs": [],
   "source": [
    "#we have to perform standard scaling\n",
    "X=sc.transform(ds_test)\n",
    "X=pd.DataFrame(X,columns=ds_test.columns)"
   ]
  },
  {
   "cell_type": "code",
   "execution_count": 43,
   "metadata": {},
   "outputs": [
    {
     "data": {
      "text/html": [
       "<div>\n",
       "<style scoped>\n",
       "    .dataframe tbody tr th:only-of-type {\n",
       "        vertical-align: middle;\n",
       "    }\n",
       "\n",
       "    .dataframe tbody tr th {\n",
       "        vertical-align: top;\n",
       "    }\n",
       "\n",
       "    .dataframe thead th {\n",
       "        text-align: right;\n",
       "    }\n",
       "</style>\n",
       "<table border=\"1\" class=\"dataframe\">\n",
       "  <thead>\n",
       "    <tr style=\"text-align: right;\">\n",
       "      <th></th>\n",
       "      <th>Estimated_Insects_Count</th>\n",
       "      <th>Crop_Type</th>\n",
       "      <th>Soil_Type</th>\n",
       "      <th>Pesticide_Use_Category</th>\n",
       "      <th>Number_Doses_Week</th>\n",
       "      <th>Number_Weeks_Used</th>\n",
       "      <th>Number_Weeks_Quit</th>\n",
       "      <th>Season</th>\n",
       "    </tr>\n",
       "  </thead>\n",
       "  <tbody>\n",
       "    <tr>\n",
       "      <th>0</th>\n",
       "      <td>13.978151</td>\n",
       "      <td>1.856819</td>\n",
       "      <td>1.047895</td>\n",
       "      <td>-2.719788</td>\n",
       "      <td>-3.191182</td>\n",
       "      <td>-0.656145</td>\n",
       "      <td>-1.212439</td>\n",
       "      <td>0.152078</td>\n",
       "    </tr>\n",
       "    <tr>\n",
       "      <th>1</th>\n",
       "      <td>34.295339</td>\n",
       "      <td>1.856819</td>\n",
       "      <td>1.047895</td>\n",
       "      <td>-2.719788</td>\n",
       "      <td>-3.191182</td>\n",
       "      <td>-2.289051</td>\n",
       "      <td>-1.212439</td>\n",
       "      <td>0.152078</td>\n",
       "    </tr>\n",
       "    <tr>\n",
       "      <th>2</th>\n",
       "      <td>54.063414</td>\n",
       "      <td>1.856819</td>\n",
       "      <td>-0.954294</td>\n",
       "      <td>-2.719788</td>\n",
       "      <td>-3.191182</td>\n",
       "      <td>-2.289051</td>\n",
       "      <td>-1.212439</td>\n",
       "      <td>0.152078</td>\n",
       "    </tr>\n",
       "    <tr>\n",
       "      <th>3</th>\n",
       "      <td>63.672895</td>\n",
       "      <td>1.856819</td>\n",
       "      <td>-0.954294</td>\n",
       "      <td>-2.719788</td>\n",
       "      <td>-3.191182</td>\n",
       "      <td>-2.289051</td>\n",
       "      <td>-1.212439</td>\n",
       "      <td>0.152078</td>\n",
       "    </tr>\n",
       "    <tr>\n",
       "      <th>4</th>\n",
       "      <td>68.980989</td>\n",
       "      <td>-0.538556</td>\n",
       "      <td>-0.954294</td>\n",
       "      <td>-2.719788</td>\n",
       "      <td>-3.191182</td>\n",
       "      <td>-2.289051</td>\n",
       "      <td>-1.212439</td>\n",
       "      <td>-1.287027</td>\n",
       "    </tr>\n",
       "    <tr>\n",
       "      <th>...</th>\n",
       "      <td>...</td>\n",
       "      <td>...</td>\n",
       "      <td>...</td>\n",
       "      <td>...</td>\n",
       "      <td>...</td>\n",
       "      <td>...</td>\n",
       "      <td>...</td>\n",
       "      <td>...</td>\n",
       "    </tr>\n",
       "    <tr>\n",
       "      <th>1194</th>\n",
       "      <td>100.371960</td>\n",
       "      <td>-0.538556</td>\n",
       "      <td>1.047895</td>\n",
       "      <td>-0.600814</td>\n",
       "      <td>22.805214</td>\n",
       "      <td>0.486889</td>\n",
       "      <td>2.413530</td>\n",
       "      <td>1.591182</td>\n",
       "    </tr>\n",
       "    <tr>\n",
       "      <th>1195</th>\n",
       "      <td>100.371960</td>\n",
       "      <td>-0.538556</td>\n",
       "      <td>1.047895</td>\n",
       "      <td>-0.600814</td>\n",
       "      <td>22.805214</td>\n",
       "      <td>-0.247918</td>\n",
       "      <td>0.341548</td>\n",
       "      <td>-1.287027</td>\n",
       "    </tr>\n",
       "    <tr>\n",
       "      <th>1196</th>\n",
       "      <td>100.371960</td>\n",
       "      <td>-0.538556</td>\n",
       "      <td>1.047895</td>\n",
       "      <td>-0.600814</td>\n",
       "      <td>9.807016</td>\n",
       "      <td>-1.227662</td>\n",
       "      <td>10.701459</td>\n",
       "      <td>-1.287027</td>\n",
       "    </tr>\n",
       "    <tr>\n",
       "      <th>1197</th>\n",
       "      <td>107.693470</td>\n",
       "      <td>-0.538556</td>\n",
       "      <td>1.047895</td>\n",
       "      <td>-0.600814</td>\n",
       "      <td>3.307917</td>\n",
       "      <td>0.568535</td>\n",
       "      <td>1.377539</td>\n",
       "      <td>-1.287027</td>\n",
       "    </tr>\n",
       "    <tr>\n",
       "      <th>1198</th>\n",
       "      <td>107.693470</td>\n",
       "      <td>-0.538556</td>\n",
       "      <td>1.047895</td>\n",
       "      <td>-0.600814</td>\n",
       "      <td>6.557467</td>\n",
       "      <td>-0.656145</td>\n",
       "      <td>9.147472</td>\n",
       "      <td>1.591182</td>\n",
       "    </tr>\n",
       "  </tbody>\n",
       "</table>\n",
       "<p>1199 rows × 8 columns</p>\n",
       "</div>"
      ],
      "text/plain": [
       "      Estimated_Insects_Count  Crop_Type  Soil_Type  Pesticide_Use_Category  \\\n",
       "0                   13.978151   1.856819   1.047895               -2.719788   \n",
       "1                   34.295339   1.856819   1.047895               -2.719788   \n",
       "2                   54.063414   1.856819  -0.954294               -2.719788   \n",
       "3                   63.672895   1.856819  -0.954294               -2.719788   \n",
       "4                   68.980989  -0.538556  -0.954294               -2.719788   \n",
       "...                       ...        ...        ...                     ...   \n",
       "1194               100.371960  -0.538556   1.047895               -0.600814   \n",
       "1195               100.371960  -0.538556   1.047895               -0.600814   \n",
       "1196               100.371960  -0.538556   1.047895               -0.600814   \n",
       "1197               107.693470  -0.538556   1.047895               -0.600814   \n",
       "1198               107.693470  -0.538556   1.047895               -0.600814   \n",
       "\n",
       "      Number_Doses_Week  Number_Weeks_Used  Number_Weeks_Quit    Season  \n",
       "0             -3.191182          -0.656145          -1.212439  0.152078  \n",
       "1             -3.191182          -2.289051          -1.212439  0.152078  \n",
       "2             -3.191182          -2.289051          -1.212439  0.152078  \n",
       "3             -3.191182          -2.289051          -1.212439  0.152078  \n",
       "4             -3.191182          -2.289051          -1.212439 -1.287027  \n",
       "...                 ...                ...                ...       ...  \n",
       "1194          22.805214           0.486889           2.413530  1.591182  \n",
       "1195          22.805214          -0.247918           0.341548 -1.287027  \n",
       "1196           9.807016          -1.227662          10.701459 -1.287027  \n",
       "1197           3.307917           0.568535           1.377539 -1.287027  \n",
       "1198           6.557467          -0.656145           9.147472  1.591182  \n",
       "\n",
       "[1199 rows x 8 columns]"
      ]
     },
     "execution_count": 43,
     "metadata": {},
     "output_type": "execute_result"
    }
   ],
   "source": [
    "X"
   ]
  },
  {
   "cell_type": "code",
   "execution_count": 44,
   "metadata": {},
   "outputs": [],
   "source": [
    "#predicting the output\n",
    "Predictgbc=gbc.predict(X)"
   ]
  },
  {
   "cell_type": "code",
   "execution_count": 45,
   "metadata": {},
   "outputs": [
    {
     "data": {
      "text/html": [
       "<div>\n",
       "<style scoped>\n",
       "    .dataframe tbody tr th:only-of-type {\n",
       "        vertical-align: middle;\n",
       "    }\n",
       "\n",
       "    .dataframe tbody tr th {\n",
       "        vertical-align: top;\n",
       "    }\n",
       "\n",
       "    .dataframe thead th {\n",
       "        text-align: right;\n",
       "    }\n",
       "</style>\n",
       "<table border=\"1\" class=\"dataframe\">\n",
       "  <thead>\n",
       "    <tr style=\"text-align: right;\">\n",
       "      <th></th>\n",
       "      <th>0</th>\n",
       "    </tr>\n",
       "  </thead>\n",
       "  <tbody>\n",
       "    <tr>\n",
       "      <th>0</th>\n",
       "      <td>1</td>\n",
       "    </tr>\n",
       "    <tr>\n",
       "      <th>1</th>\n",
       "      <td>1</td>\n",
       "    </tr>\n",
       "    <tr>\n",
       "      <th>2</th>\n",
       "      <td>1</td>\n",
       "    </tr>\n",
       "    <tr>\n",
       "      <th>3</th>\n",
       "      <td>1</td>\n",
       "    </tr>\n",
       "    <tr>\n",
       "      <th>4</th>\n",
       "      <td>1</td>\n",
       "    </tr>\n",
       "    <tr>\n",
       "      <th>...</th>\n",
       "      <td>...</td>\n",
       "    </tr>\n",
       "    <tr>\n",
       "      <th>1194</th>\n",
       "      <td>1</td>\n",
       "    </tr>\n",
       "    <tr>\n",
       "      <th>1195</th>\n",
       "      <td>1</td>\n",
       "    </tr>\n",
       "    <tr>\n",
       "      <th>1196</th>\n",
       "      <td>1</td>\n",
       "    </tr>\n",
       "    <tr>\n",
       "      <th>1197</th>\n",
       "      <td>1</td>\n",
       "    </tr>\n",
       "    <tr>\n",
       "      <th>1198</th>\n",
       "      <td>1</td>\n",
       "    </tr>\n",
       "  </tbody>\n",
       "</table>\n",
       "<p>1199 rows × 1 columns</p>\n",
       "</div>"
      ],
      "text/plain": [
       "      0\n",
       "0     1\n",
       "1     1\n",
       "2     1\n",
       "3     1\n",
       "4     1\n",
       "...  ..\n",
       "1194  1\n",
       "1195  1\n",
       "1196  1\n",
       "1197  1\n",
       "1198  1\n",
       "\n",
       "[1199 rows x 1 columns]"
      ]
     },
     "execution_count": 45,
     "metadata": {},
     "output_type": "execute_result"
    }
   ],
   "source": [
    "#predicted output\n",
    "pd.DataFrame(Predictgbc)"
   ]
  },
  {
   "cell_type": "markdown",
   "metadata": {},
   "source": [
    "## Saving the model and result"
   ]
  },
  {
   "cell_type": "code",
   "execution_count": 46,
   "metadata": {},
   "outputs": [
    {
     "data": {
      "text/plain": [
       "['Agriculture.pkl']"
      ]
     },
     "execution_count": 46,
     "metadata": {},
     "output_type": "execute_result"
    }
   ],
   "source": [
    "#saving the GBC model\n",
    "import joblib\n",
    "joblib.dump(gbc,'Agriculture.pkl')"
   ]
  },
  {
   "cell_type": "code",
   "execution_count": 47,
   "metadata": {},
   "outputs": [],
   "source": [
    "#saving the output to csv file\n",
    "pred_OP=pd.DataFrame(Predictgbc)\n",
    "pred_OP.to_csv('Agriculture_crop_damage_predictions.csv')"
   ]
  }
 ],
 "metadata": {
  "kernelspec": {
   "display_name": "Python 3",
   "language": "python",
   "name": "python3"
  },
  "language_info": {
   "codemirror_mode": {
    "name": "ipython",
    "version": 3
   },
   "file_extension": ".py",
   "mimetype": "text/x-python",
   "name": "python",
   "nbconvert_exporter": "python",
   "pygments_lexer": "ipython3",
   "version": "3.8.3"
  }
 },
 "nbformat": 4,
 "nbformat_minor": 4
}
